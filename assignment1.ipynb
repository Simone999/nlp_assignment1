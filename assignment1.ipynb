{
 "cells": [
  {
   "cell_type": "code",
   "execution_count": 5,
   "metadata": {
    "colab": {
     "base_uri": "https://localhost:8080/"
    },
    "id": "7uzdMF-O40gO",
    "outputId": "9e346cc3-6513-4018-fa56-b8c2121300e5"
   },
   "outputs": [],
   "source": [
    "# from google.colab import drive\n",
    "# drive.mount('/content/drive')\n",
    "# !cp -r \"/content/drive/My Drive/NLP/assignment1/.\" \"./\""
   ]
  },
  {
   "cell_type": "code",
   "execution_count": 6,
   "metadata": {
    "colab": {
     "base_uri": "https://localhost:8080/",
     "height": 1000
    },
    "id": "fz6lYwozTjWf",
    "outputId": "b5d2b793-15f7-4f3c-8760-beff66bb9c2f"
   },
   "outputs": [],
   "source": [
    "# !pip install -r requirements.txt"
   ]
  },
  {
   "cell_type": "code",
   "execution_count": 1,
   "metadata": {
    "id": "2i3HJrca40gR"
   },
   "outputs": [],
   "source": [
    "%load_ext autoreload\n",
    "%autoreload 2"
   ]
  },
  {
   "cell_type": "code",
   "execution_count": 2,
   "metadata": {
    "id": "_GhbGxdR40gX"
   },
   "outputs": [],
   "source": [
    "import re\n",
    "import os\n",
    "import functools\n",
    "import random\n",
    "import itertools\n",
    "from typing import List, Callable, Dict, Iterable, Tuple, Set, Optional, Literal\n",
    "from collections import OrderedDict\n",
    "from enum import Flag, auto\n",
    "\n",
    "import wordcloud\n",
    "import pandas as pd\n",
    "import numpy as np\n",
    "import matplotlib.pyplot as plt\n",
    "import seaborn as sns\n",
    "from tqdm import tqdm\n",
    "\n",
    "import tensorflow as tf\n",
    "import tensorflow_addons as tfa\n",
    "import keras as ks\n",
    "import keras.backend as K\n",
    "import keras_tuner\n",
    "\n",
    "import gensim\n",
    "from sklearn.metrics import classification_report, f1_score, confusion_matrix, ConfusionMatrixDisplay\n",
    "\n",
    "import config\n",
    "from config import *\n",
    "from util import *\n",
    "from embedding import *\n",
    "from preprocessing import *"
   ]
  },
  {
   "cell_type": "code",
   "execution_count": 5,
   "metadata": {},
   "outputs": [
    {
     "data": {
      "text/plain": [
       "[]"
      ]
     },
     "execution_count": 5,
     "metadata": {},
     "output_type": "execute_result"
    }
   ],
   "source": [
    "tf.config.list_physical_devices('GPU')"
   ]
  },
  {
   "cell_type": "code",
   "execution_count": 6,
   "metadata": {},
   "outputs": [
    {
     "name": "stdout",
     "output_type": "stream",
     "text": [
      "Tue Jan 10 17:07:00 2023       \n",
      "+-----------------------------------------------------------------------------+\n",
      "| NVIDIA-SMI 511.81       Driver Version: 511.81       CUDA Version: 11.6     |\n",
      "|-------------------------------+----------------------+----------------------+\n",
      "| GPU  Name            TCC/WDDM | Bus-Id        Disp.A | Volatile Uncorr. ECC |\n",
      "| Fan  Temp  Perf  Pwr:Usage/Cap|         Memory-Usage | GPU-Util  Compute M. |\n",
      "|                               |                      |               MIG M. |\n",
      "|===============================+======================+======================|\n",
      "|   0  NVIDIA GeForce ... WDDM  | 00000000:01:00.0  On |                  N/A |\n",
      "| N/A   42C    P8    13W /  N/A |    216MiB /  6144MiB |      1%      Default |\n",
      "|                               |                      |                  N/A |\n",
      "+-------------------------------+----------------------+----------------------+\n",
      "                                                                               \n",
      "+-----------------------------------------------------------------------------+\n",
      "| Processes:                                                                  |\n",
      "|  GPU   GI   CI        PID   Type   Process name                  GPU Memory |\n",
      "|        ID   ID                                                   Usage      |\n",
      "|=============================================================================|\n",
      "|    0   N/A  N/A     35212    C+G                                   N/A      |\n",
      "+-----------------------------------------------------------------------------+\n"
     ]
    }
   ],
   "source": [
    "!nvidia-smi"
   ]
  },
  {
   "cell_type": "code",
   "execution_count": null,
   "metadata": {
    "id": "zTGR4sVC40gh"
   },
   "outputs": [],
   "source": [
    "def get_variables(module_name):\n",
    "    module = globals().get(module_name, None)\n",
    "    variables = {}\n",
    "    if module:\n",
    "        variables = {key: value for key, value in module.__dict__.items() if not (\n",
    "            key.startswith('__') or key.startswith('_'))}\n",
    "    return variables\n",
    "\n",
    "print(get_variables('config'))"
   ]
  },
  {
   "cell_type": "markdown",
   "metadata": {
    "id": "DC2B8D1K40gl"
   },
   "source": [
    "## 1. Dataset Loading"
   ]
  },
  {
   "cell_type": "code",
   "execution_count": null,
   "metadata": {
    "colab": {
     "base_uri": "https://localhost:8080/",
     "height": 477
    },
    "id": "E5Obfk9p40go",
    "outputId": "8721070a-7dec-464f-b7c9-60951d5c7e7e"
   },
   "outputs": [],
   "source": [
    "def read_tagged_sentences(filename: str) -> List[str]:\n",
    "    with open(filename, mode='r', encoding='utf-8') as text_file:  \n",
    "        corpus = text_file.read()\n",
    "        return corpus.split(\"\\n\\n\")\n",
    "\n",
    "def get_tagged_words(tagged_sentence: str) -> List[str]:\n",
    "    return tagged_sentence.rstrip('\\n').split(\"\\n\")\n",
    "\n",
    "def split_words_and_tags(tagged_words: List[str]) -> Tuple[List[str], List[str]]:\n",
    "    words = []\n",
    "    tags = []\n",
    "    for tagged_word in tagged_words:\n",
    "        word, tag = split_word_and_tag(tagged_word)\n",
    "        words.append(word)\n",
    "        tags.append(tag)\n",
    "    return words, tags\n",
    "\n",
    "def split_word_and_tag(tagged_word: str) -> Tuple[str, str]:\n",
    "    entity = tagged_word.split(\"\\t\")\n",
    "    # (word, tag)\n",
    "    return entity[0], entity[1]\n",
    "\n",
    "def read_data(filename) -> Tuple[List[str], List[str]]:\n",
    "    tagged_sentences = read_tagged_sentences(filename)\n",
    "    \n",
    "    sentences: List[str] = []\n",
    "    labels: List[str] = []\n",
    "    for tagged_sentence in tagged_sentences:\n",
    "        tagged_words = get_tagged_words(tagged_sentence)\n",
    "        words, tags = split_words_and_tags(tagged_words)\n",
    "        sentences.append(words_separator.join(words))\n",
    "        labels.append(words_separator.join(tags))\n",
    "\n",
    "    assert len(sentences) == len(tagged_sentences)\n",
    "    assert len(labels) == len(tagged_sentences)\n",
    "\n",
    "    return sentences, labels\n",
    "\n",
    "def create_dataset(dataset_name=\"dependency_treebank\", train_split=100, validation_split=150, test_split=199):\n",
    "    def file_id_to_split(file_id: int):\n",
    "        assert file_id <= test_split\n",
    "\n",
    "        if file_id <= train_split:\n",
    "            return 'train'\n",
    "        if file_id <= validation_split:\n",
    "            return 'validation'\n",
    "        \n",
    "        return 'test'\n",
    "\n",
    "    dataset_folder = os.path.join(os.getcwd(), dataset_name)\n",
    "    file_ids = []\n",
    "    sentences = []\n",
    "    labels = []\n",
    "    for file_id in tqdm(range(1, test_split+1)):\n",
    "        filename = os.path.join(dataset_folder, \"wsj_%04d.dp\" % file_id)\n",
    "        sentences_, labels_ = read_data(filename)\n",
    "        sentences += sentences_\n",
    "        labels += labels_\n",
    "        file_ids += [file_id] * len(sentences_)\n",
    "         \n",
    "    df = pd.DataFrame({'sentence': sentences, 'pos': labels, 'file_id': file_ids})\n",
    "    df['split'] = df['file_id'].apply(file_id_to_split)\n",
    "    \n",
    "    df.to_pickle(os.path.join(dataset_folder, dataset_name + \".pkl\"))\n",
    "    df.to_json(os.path.join(dataset_folder, dataset_name + \".json\"))\n",
    "    return df\n",
    "\n",
    "print(\"Creating dataset...\")\n",
    "df = create_dataset(dataset_name=dataset_name)\n",
    "print(\"Creation completed!\")\n",
    "\n",
    "df"
   ]
  },
  {
   "cell_type": "code",
   "execution_count": null,
   "metadata": {},
   "outputs": [],
   "source": [
    "train_data, val_data, test_data = split_dataset(df)\n",
    "print('Dataset splits statistics: ')\n",
    "print(f'Train data: {train_data.shape}')\n",
    "print(f'Validation data: {val_data.shape}')\n",
    "print(f'Test data: {test_data.shape}')"
   ]
  },
  {
   "cell_type": "markdown",
   "metadata": {},
   "source": [
    "# 2. Data Exploration and Analysis"
   ]
  },
  {
   "cell_type": "markdown",
   "metadata": {
    "id": "xB5EHxSW40g3"
   },
   "source": [
    "## 2.1 Words analysis"
   ]
  },
  {
   "cell_type": "code",
   "execution_count": null,
   "metadata": {
    "colab": {
     "base_uri": "https://localhost:8080/"
    },
    "id": "fucgkbAL40g5",
    "outputId": "067b4a61-dd7e-4747-b72d-4c47a85c88ca"
   },
   "outputs": [],
   "source": [
    "# We should not look at test data\n",
    "data = df[df['split'] != 'test'].copy()\n",
    "\n",
    "words = set(flatten((sentence.split(words_separator) for sentence in data.sentence)))\n",
    "lowered_case_words = set(map(str.lower, words))\n",
    "n_words = len(words)\n",
    "\n",
    "print(\"Total number of tagged sentences: {}\".format(len(data)))\n",
    "print(\"Total number of words: {}\".format(n_words))\n",
    "print(\"Total number of lowered case words: {}\".format(len(lowered_case_words)))"
   ]
  },
  {
   "cell_type": "code",
   "execution_count": null,
   "metadata": {
    "colab": {
     "base_uri": "https://localhost:8080/"
    },
    "id": "N4SLR0oR40g8",
    "outputId": "ff7e1094-421c-4571-c435-25c5987e90a3"
   },
   "outputs": [],
   "source": [
    "difference = words.difference(lowered_case_words)\n",
    "print(len(difference))\n",
    "difference"
   ]
  },
  {
   "cell_type": "markdown",
   "metadata": {
    "id": "Zbk1iL4n40g9"
   },
   "source": [
    "There are sveral uppercase words:\n",
    "1. -RRB-, -LRB- are already encoded into their tags\n",
    "2. Some of them are abbreviations, e.g. U.S.A.\n",
    "3. Some of them seem to be part of a title, e.g. LONDON, BIRDS"
   ]
  },
  {
   "cell_type": "code",
   "execution_count": null,
   "metadata": {
    "colab": {
     "base_uri": "https://localhost:8080/"
    },
    "id": "9wk4EHJW40g-",
    "outputId": "63abb992-f090-40e2-adf7-be7f6ae697b1"
   },
   "outputs": [],
   "source": [
    "uppercase_words = [word for word in difference if str.isupper(word)]\n",
    "tags = set(flatten((pos.split(words_separator) for pos in df.pos)))\n",
    "print('Words encoded into their tags', tags.intersection(uppercase_words))\n",
    "uppercase_words"
   ]
  },
  {
   "cell_type": "markdown",
   "metadata": {
    "id": "w0ilG-Nz40hA"
   },
   "source": [
    "Words starting with capital letter are proper nouns or words at the beginning of a sentence. Therefore, this carries an important piece of information for POS tagging."
   ]
  },
  {
   "cell_type": "code",
   "execution_count": null,
   "metadata": {
    "colab": {
     "base_uri": "https://localhost:8080/"
    },
    "id": "zOQUVR9V40hA",
    "outputId": "5577518b-dc9c-4d73-acfe-b33a3c164a7e"
   },
   "outputs": [],
   "source": [
    "capitalized_words = set([word for word in difference if str.isupper(word[0])])\n",
    "capitalized_words = capitalized_words.difference(uppercase_words)\n",
    "print('Capitalized words:', len(capitalized_words))\n",
    "capitalized_words"
   ]
  },
  {
   "cell_type": "code",
   "execution_count": null,
   "metadata": {},
   "outputs": [],
   "source": [
    "contains_digits = set([word for word in words if has_digits(word)])\n",
    "numbers = set([word for word in contains_digits if is_number(word)])\n",
    "non_numbers = contains_digits.difference(numbers)\n",
    "print(\"Total number of words with digits:\", len(contains_digits))\n",
    "print(\"Total number of numbers:\", len(numbers))\n",
    "print(\"Total number of words with digits but that are not numbers:\", len(non_numbers))\n",
    "print(non_numbers)"
   ]
  },
  {
   "cell_type": "markdown",
   "metadata": {},
   "source": [
    "We have several wrongly escaped fractions, such as `6\\\\/2`, `1\\\\/4`, etc."
   ]
  },
  {
   "cell_type": "markdown",
   "metadata": {
    "id": "LFQrv5XR40hC"
   },
   "source": [
    "## 2.2 Classes Analysis"
   ]
  },
  {
   "cell_type": "markdown",
   "metadata": {},
   "source": [
    "![tags](images/tags.png)"
   ]
  },
  {
   "cell_type": "code",
   "execution_count": null,
   "metadata": {
    "colab": {
     "base_uri": "https://localhost:8080/"
    },
    "id": "iHHROQUO40hD",
    "outputId": "4df97120-f7d1-479c-e169-23d33d3ef614"
   },
   "outputs": [],
   "source": [
    "tags = set(flatten((pos.split(words_separator) for pos in df.pos)))\n",
    "n_tags   = len(tags)\n",
    "evaluation_tags = tags.difference(punctuation_tags)\n",
    "n_evaluation_tags = len(evaluation_tags)\n",
    "n_punctuation_tags = len(punctuation_tags)\n",
    "\n",
    "print(\"Total number of tags:\", n_tags)\n",
    "print('Tags')\n",
    "print(sorted(tags))\n",
    "print()\n",
    "print(\"Total number of tags valid for evaluation:\", n_evaluation_tags)\n",
    "print(\"Total number of punctuation tags:\", n_punctuation_tags)\n",
    "print('Punctuation tags')\n",
    "print(punctuation_tags)"
   ]
  },
  {
   "cell_type": "code",
   "execution_count": null,
   "metadata": {
    "id": "AtvuGMZU40hE"
   },
   "outputs": [],
   "source": [
    "tags = df[['pos', 'split']].copy()\n",
    "tags['pos'] = tags['pos'].str.split(words_separator)\n",
    "tags = tags.explode('pos')"
   ]
  },
  {
   "cell_type": "markdown",
   "metadata": {
    "id": "vAEfQMf240hF"
   },
   "source": [
    "The dataset is highly unbalanced: nouns, prepositions and proper nouns are the most common labels."
   ]
  },
  {
   "cell_type": "code",
   "execution_count": null,
   "metadata": {
    "colab": {
     "base_uri": "https://localhost:8080/",
     "height": 507
    },
    "id": "vHppexn-40hG",
    "outputId": "f76766b8-5499-49bc-db27-85fac8f37f3f"
   },
   "outputs": [],
   "source": [
    "fig, ax = plt.subplots(figsize=(20, 10))\n",
    "sns.countplot(tags, x='pos', order=tags['pos'].value_counts().index, ax=ax);\n",
    "plt.title('Class Distribution')\n",
    "plt.ylabel('# of Training Samples')\n",
    "plt.xticks(rotation = 45);"
   ]
  },
  {
   "cell_type": "markdown",
   "metadata": {
    "id": "9clOZA6i40hH"
   },
   "source": [
    "Classes are similarly distributed across the three splits"
   ]
  },
  {
   "cell_type": "code",
   "execution_count": null,
   "metadata": {
    "colab": {
     "base_uri": "https://localhost:8080/",
     "height": 515
    },
    "id": "zbwIk3TH40hI",
    "outputId": "314845a6-de64-4221-9d18-1474f6ed25d8"
   },
   "outputs": [],
   "source": [
    "frequencies = (tags\n",
    "    .groupby('split')['pos']\n",
    "    .value_counts(normalize=True)\n",
    "    .mul(100)\n",
    "    .rename('frequency')\n",
    "    .reset_index())\n",
    "\n",
    "fig, ax = plt.subplots(figsize=(20, 10))\n",
    "sns.barplot(frequencies, x='pos', y='frequency', hue='split', ax=ax);\n",
    "plt.title('Class frequencies')\n",
    "plt.ylabel('Frequency')\n",
    "plt.xticks(rotation = 45);"
   ]
  },
  {
   "cell_type": "code",
   "execution_count": null,
   "metadata": {
    "colab": {
     "base_uri": "https://localhost:8080/",
     "height": 1000
    },
    "id": "I13J-Rne40hJ",
    "outputId": "f20d11d4-61e2-413f-eddf-d19e9f347b4e"
   },
   "outputs": [],
   "source": [
    "label_counts = pd.get_dummies(tags, columns=['pos'], prefix='', prefix_sep='').groupby('split').sum().reset_index()\n",
    "cols = label_counts.columns[1:]\n",
    "count_by_split = np.expand_dims(label_counts[cols].sum(axis=1), axis=1)\n",
    "label_counts[cols] = label_counts[cols] / count_by_split\n",
    "label_counts = label_counts.T.reset_index().rename(columns={'index':'pos', 0:'test', 1:'train', 2:'val'})[1:]\n",
    "label_counts['punctuation'] = label_counts['pos'].isin(punctuation_tags)\n",
    "label_counts.sort_values('test', ascending=False)"
   ]
  },
  {
   "cell_type": "code",
   "execution_count": null,
   "metadata": {
    "colab": {
     "base_uri": "https://localhost:8080/",
     "height": 143
    },
    "id": "O43j5Y9e40hL",
    "outputId": "0ba8024d-8839-48c1-eb88-ea94c3ad9634"
   },
   "outputs": [],
   "source": [
    "label_counts.groupby('punctuation').sum().drop('pos', axis=1)"
   ]
  },
  {
   "cell_type": "markdown",
   "metadata": {
    "id": "GMHE4yJG40hM"
   },
   "source": [
    "Some classes are not present in the test set or in the validation set. In particular FW (foreign words), LS (list item markers), and UH (interjections)"
   ]
  },
  {
   "cell_type": "code",
   "execution_count": null,
   "metadata": {
    "colab": {
     "base_uri": "https://localhost:8080/",
     "height": 206
    },
    "id": "WdoR3Rae40hM",
    "outputId": "c1093bee-d1fd-4c64-fff4-ced3f077867d"
   },
   "outputs": [],
   "source": [
    "cols = label_counts.columns[1:-1]\n",
    "label_counts.loc[(label_counts[cols] == 0).any(axis=1)]"
   ]
  },
  {
   "cell_type": "markdown",
   "metadata": {
    "id": "37RYsLQy40hN"
   },
   "source": [
    "## 2.3 Length Analysis"
   ]
  },
  {
   "cell_type": "code",
   "execution_count": null,
   "metadata": {
    "colab": {
     "base_uri": "https://localhost:8080/"
    },
    "id": "6mVamMWK40hN",
    "outputId": "768279e6-2b7d-410f-fc20-676a2a93caf0"
   },
   "outputs": [],
   "source": [
    "# We should not look at test data\n",
    "data = df[df['split'] != 'test'].copy()\n",
    "data['length'] = data['sentence'].str.split(words_separator).apply(len)\n",
    "\n",
    "data['length'].describe()"
   ]
  },
  {
   "cell_type": "code",
   "execution_count": null,
   "metadata": {
    "colab": {
     "base_uri": "https://localhost:8080/",
     "height": 279
    },
    "id": "ghrSgaui40hO",
    "outputId": "fcb2b828-9ae1-42f7-f5c0-3ab059f0c8bc"
   },
   "outputs": [],
   "source": [
    "sns.boxplot(x=data['length']);"
   ]
  },
  {
   "cell_type": "markdown",
   "metadata": {
    "id": "NBrUreDq40hP"
   },
   "source": [
    "# 3. Data Preprocessing"
   ]
  },
  {
   "cell_type": "markdown",
   "metadata": {},
   "source": [
    "*Text preprocessing*\n",
    "\n",
    "We have lower case, upper case and capitalized words. Here we define three different strategies for preprocessing texts we will test:\n",
    "- None: nothing is done\n",
    "- lower: convert all words to the corresponding lower case string\n",
    "- lower_up: convert only upper case words to the corresponding lower case string\n",
    "\n",
    "The rationale of lower_up is that the upper case do not drive any information, therefore we make them lower to exploit embedding while preserving the case for capitalized words.\n",
    "\n",
    "*Numbers preprocessing*\n",
    "\n",
    "- None: nothing is done\n",
    "- token: all numbers are replaced with a common token\n",
    "\n",
    "See [preprocessing.py](preprocessing.py)"
   ]
  },
  {
   "cell_type": "code",
   "execution_count": null,
   "metadata": {
    "colab": {
     "base_uri": "https://localhost:8080/",
     "height": 423
    },
    "id": "-UdHjGQn40hP",
    "outputId": "836f545d-ac6f-468c-b8d6-d6e49a6cc6b3"
   },
   "outputs": [],
   "source": [
    "dataset = df.copy()\n",
    "dataset['sentence'] = dataset['sentence'].apply(preprocess_text)\n",
    "train_data, val_data, test_data = split_dataset(dataset)\n",
    "dataset"
   ]
  },
  {
   "cell_type": "markdown",
   "metadata": {
    "id": "ajSPj4MA40hT"
   },
   "source": [
    "# 4. Embedding"
   ]
  },
  {
   "cell_type": "code",
   "execution_count": null,
   "metadata": {
    "colab": {
     "base_uri": "https://localhost:8080/"
    },
    "id": "2Gu6QtDj40hV",
    "outputId": "a894fe06-a922-4627-f16f-2f13a4c789af"
   },
   "outputs": [],
   "source": [
    "embedding_model = download_embedding_model(model_type=model_type, embedding_dimension=embedding_dimension)\n",
    "embedding_model.save(embedding_model_file)"
   ]
  },
  {
   "cell_type": "markdown",
   "metadata": {},
   "source": [
    "## 4.1 Embedding Analysis"
   ]
  },
  {
   "cell_type": "code",
   "execution_count": null,
   "metadata": {},
   "outputs": [],
   "source": [
    "embedding_words = set(embedding_model.key_to_index.keys())\n",
    "n_embedding_words = len(embedding_words)\n",
    "print(\"Total number of words into embeddings:\", n_embedding_words)\n",
    "lower = [word for word in embedding_words if str.islower(word)]\n",
    "print(\"All lowercase?\", len(lower) == n_embedding_words)"
   ]
  },
  {
   "cell_type": "code",
   "execution_count": null,
   "metadata": {},
   "outputs": [],
   "source": [
    "embedding_contains_digits = set([word for word in embedding_words if has_digits(word)])\n",
    "embedding_numbers = set([word for word in embedding_contains_digits if is_number(word)])\n",
    "embedding_non_numbers = embedding_contains_digits.difference(embedding_numbers)\n",
    "print(\"Total number of embedding words with digits:\", len(embedding_contains_digits))\n",
    "print(list(embedding_contains_digits)[:100])\n",
    "print()\n",
    "print(\"Total number of embedding numbers:\", len(embedding_numbers))\n",
    "print(list(embedding_numbers)[:100])\n",
    "print()\n",
    "print(\"Total number of embedding words with digits but that are not numbers:\", len(embedding_non_numbers))\n",
    "print(list(embedding_non_numbers)[:300])"
   ]
  },
  {
   "cell_type": "code",
   "execution_count": null,
   "metadata": {},
   "outputs": [],
   "source": [
    "discard = set(lower).union(embedding_contains_digits)\n",
    "remaining = embedding_words.difference(discard)\n",
    "print('Total number of words that are neither lower case text nor words with digits:', len(remaining))\n",
    "print(remaining)"
   ]
  },
  {
   "cell_type": "markdown",
   "metadata": {},
   "source": [
    "## 4.2 Handling OOV\n",
    "From the analysis above, we can see that all words in glove are lower case. Words that contains numbers are compositions of numbers-text. We can handle OOV in the following way:\n",
    "- composed-words: we take as vector the mean of the single words vectors\n",
    "- numbers: we consider one common embedding vector for all the numbers taken as the mean of all the numbers vectors\n",
    "- capitalized words: we add to the corresponding lower case vector a common \"capitalize\" vector\n",
    "\n",
    "See [embedding.py](embedding.py)\n",
    "For time reasons, we compute the embeddings for the three dataset (separately), with the script mentioned above. Here, we show an example."
   ]
  },
  {
   "cell_type": "code",
   "execution_count": null,
   "metadata": {},
   "outputs": [],
   "source": [
    "dataset, embedding_matrix = preprocess_and_create_embedding(df, embedding_model_file, text_strategy='lower')"
   ]
  },
  {
   "cell_type": "markdown",
   "metadata": {},
   "source": [
    "# 5. Data Preparation"
   ]
  },
  {
   "cell_type": "code",
   "execution_count": null,
   "metadata": {},
   "outputs": [],
   "source": [
    "train_data, val_data, test_data = split_dataset(dataset)"
   ]
  },
  {
   "cell_type": "markdown",
   "metadata": {},
   "source": [
    "## 5.1 Tokenizer"
   ]
  },
  {
   "cell_type": "code",
   "execution_count": null,
   "metadata": {
    "id": "XhTuT5dQ40hX"
   },
   "outputs": [],
   "source": [
    "class TextVectorization:\n",
    "    def __init__(self, word_to_id: Dict[str, int], sep=' ') -> None:\n",
    "        self.sep = sep\n",
    "\n",
    "        words = list(word_to_id.keys())\n",
    "        values = list(word_to_id.values())\n",
    "        self.word_to_id = tf.lookup.StaticHashTable(\n",
    "            initializer=tf.lookup.KeyValueTensorInitializer(words, values),\n",
    "            default_value=-1\n",
    "        )\n",
    "        self.id_to_word = tf.lookup.StaticHashTable(\n",
    "            initializer=tf.lookup.KeyValueTensorInitializer(values, words),\n",
    "            default_value='[UNK]'\n",
    "        )\n",
    "        assert self.word_to_id.size() == len(word_to_id)\n",
    "        assert self.id_to_word.size() == len(word_to_id)\n",
    "\n",
    "    def vectorize(self, text) -> tf.RaggedTensor:\n",
    "        tokens = self.tokenize(text)\n",
    "        return self.tokens_to_ids(tokens)\n",
    "    \n",
    "    def invert(self, ids: tf.RaggedTensor) -> tf.RaggedTensor:\n",
    "        tokens = self.ids_to_tokens(ids)\n",
    "        texts = tf.strings.reduce_join(tokens, separator=self.sep, axis=-1)\n",
    "        return texts\n",
    "\n",
    "    def tokenize(self, text) -> tf.RaggedTensor:\n",
    "        tokens = tf.strings.split(text, sep=self.sep)\n",
    "        return tokens\n",
    "\n",
    "    def tokens_to_ids(self, tokens: tf.RaggedTensor | list | tuple | np.ndarray) -> tf.RaggedTensor:        \n",
    "        if isinstance(tokens, (list, tuple, np.ndarray)):\n",
    "            tokens = tf.ragged.constant(tokens)\n",
    "        return tf.ragged.map_flat_values(self.word_to_id.lookup, tokens)\n",
    "    \n",
    "    def ids_to_tokens(self, ids: tf.RaggedTensor) -> tf.RaggedTensor:        \n",
    "        ids = tf.cast(ids, tf.int32)\n",
    "        tokens = tf.ragged.map_flat_values(self.id_to_word.lookup, ids)\n",
    "        return tokens\n",
    "\n",
    "class LabelEncoder(TextVectorization):\n",
    "    def __init__(self, word_to_id: Dict[str, int], sep=' ', ignore_padding=False) -> None:\n",
    "        super().__init__(word_to_id, sep)\n",
    "        self.ignore_padding = ignore_padding\n",
    "        self.one_hot_dimension = len(word_to_id)\n",
    "        if ignore_padding:\n",
    "            self.one_hot_dimension -= 1\n",
    "    \n",
    "    def ids_to_one_hot(self, ids: tf.RaggedTensor | list | tuple | np.ndarray) -> tf.RaggedTensor:\n",
    "        if isinstance(ids, (list, tuple, np.ndarray)):\n",
    "            ids = tf.ragged.constant(ids)\n",
    "\n",
    "        if self.ignore_padding:\n",
    "            # supposing padding=0 -> padding=-1 -> padding = [0,...,0]\n",
    "            ids -= 1\n",
    "            \n",
    "        return tf.one_hot(ids, depth=self.one_hot_dimension)\n",
    "\n",
    "    def one_hot_to_ids(self, one_hot: tf.RaggedTensor | tf.Tensor | list | tuple | np.ndarray) -> tf.RaggedTensor | tf.Tensor:\n",
    "        ids = tf.ragged.map_flat_values(tf.argmax, one_hot, axis=-1, output_type=tf.int32)\n",
    "        \n",
    "        if self.ignore_padding:\n",
    "            ids += 1\n",
    "\n",
    "        return ids\n",
    "    \n",
    "    def one_hot_encode(self, text) -> tf.RaggedTensor:\n",
    "        ids = self.vectorize(text)\n",
    "        return self.ids_to_one_hot(ids)\n",
    "    \n",
    "    def one_hot_decode(self, one_hot) -> tf.RaggedTensor:\n",
    "        ids = self.one_hot_to_ids(one_hot)\n",
    "        return self.invert(ids)"
   ]
  },
  {
   "cell_type": "code",
   "execution_count": null,
   "metadata": {},
   "outputs": [],
   "source": [
    "tags = set(flatten((pos.split(words_separator) for pos in df.pos)))\n",
    "label_vocabulary = {tag: id for tag, id in zip(tags, range(1, n_tags + 1))}\n",
    "label_vocabulary[''] = 0\n",
    "assert len(label_vocabulary) == n_tags + 1\n",
    "\n",
    "print(label_vocabulary)"
   ]
  },
  {
   "cell_type": "code",
   "execution_count": null,
   "metadata": {},
   "outputs": [],
   "source": [
    "tokenizer = TextVectorization(embedding_matrix.vocabulary(), sep=words_separator)\n",
    "label_encoder = LabelEncoder(label_vocabulary, sep=words_separator)\n",
    "\n",
    "assert tf.reduce_all(tokenizer.invert(tokenizer.vectorize(train_data.sentence.values)) == tf.constant(train_data.sentence.values))\n",
    "assert tf.reduce_all(label_encoder.invert(label_encoder.vectorize(train_data.pos.values)) == tf.constant(train_data.pos.values))\n",
    "assert tf.reduce_all(label_encoder.one_hot_decode(label_encoder.one_hot_encode(train_data.pos.values)) == tf.constant(train_data.pos.values))"
   ]
  },
  {
   "cell_type": "markdown",
   "metadata": {},
   "source": [
    "## 5.2 Dataloader"
   ]
  },
  {
   "cell_type": "code",
   "execution_count": null,
   "metadata": {
    "id": "2tsld0Zw40hY"
   },
   "outputs": [],
   "source": [
    "def prepare_data(\n",
    "  dataset: pd.DataFrame,\n",
    "  tokenizer: TextVectorization,\n",
    "  label_encoder: LabelEncoder,\n",
    "  class_weights=None):\n",
    "\n",
    "  sentences = tokenizer.vectorize(dataset['sentence'])\n",
    "  ids = label_encoder.vectorize(dataset['pos'])\n",
    "  one_hot_labels = label_encoder.ids_to_one_hot(ids)\n",
    "  \n",
    "  prepared_data = sentences, one_hot_labels\n",
    "  if class_weights is not None:\n",
    "    sample_weights:tf.RaggedTensor = tf.ragged.map_flat_values(lambda tags: tf.constant(class_weights[tags]), ids)\n",
    "    prepared_data = *prepared_data, sample_weights\n",
    "\n",
    "  return prepared_data\n",
    "\n",
    "def pad(sentences: tf.RaggedTensor, tags: tf.RaggedTensor, sample_weigths=None):\n",
    "  sentences = sentences.to_tensor(default_value=0)\n",
    "  tags = tags.to_tensor(default_value=0)\n",
    "\n",
    "  data = sentences, tags\n",
    "  if sample_weigths is not None:\n",
    "    sample_weigths = sample_weigths.to_tensor(default_value=0)\n",
    "    data = *data, sample_weigths\n",
    "\n",
    "  return data\n",
    "\n",
    "def create_dataloader(prepared_data: Tuple, batch_size=32, training=True):\n",
    "  dataset = (\n",
    "      tf.data.Dataset.from_tensor_slices(prepared_data)\n",
    "  )\n",
    "  \n",
    "  if training:\n",
    "    dataset = dataset.shuffle(buffer_size=2048)\n",
    "\n",
    "  dataset = (\n",
    "      dataset\n",
    "      .batch(batch_size, num_parallel_calls=tf.data.AUTOTUNE)\n",
    "      .map(pad, num_parallel_calls=tf.data.AUTOTUNE)\n",
    "      .prefetch(buffer_size=tf.data.AUTOTUNE)\n",
    "      )\n",
    "  \n",
    "  return dataset\n",
    "\n",
    "class_weights = np.ones(n_tags + 1)\n",
    "prepared_train_data = prepare_data(train_data, tokenizer, label_encoder, class_weights=class_weights)\n",
    "prepared_val_data = prepare_data(val_data, tokenizer, label_encoder, class_weights=class_weights)\n",
    "dataloader = create_dataloader(prepared_train_data)"
   ]
  },
  {
   "cell_type": "code",
   "execution_count": null,
   "metadata": {
    "colab": {
     "base_uri": "https://localhost:8080/"
    },
    "id": "Zl6UKFwU40hZ",
    "outputId": "61cdf9b2-13bb-4231-a638-260e99acfcc8"
   },
   "outputs": [],
   "source": [
    "batched_text, batched_tags, sample_weigths = next(dataloader.take(1).as_numpy_iterator())\n",
    "text = batched_text[0]\n",
    "tags = batched_tags[0]\n",
    "sample_weigths = sample_weigths[0]\n",
    "\n",
    "print('Encoded text:', text.shape)\n",
    "print(text)\n",
    "print('One hot encoded tags:', tags.shape)\n",
    "print(list(tags))\n",
    "print('Sample weights:', sample_weigths.shape)\n",
    "print(list(sample_weigths))"
   ]
  },
  {
   "cell_type": "markdown",
   "metadata": {
    "id": "zDCYnIPb40ha"
   },
   "source": [
    "# 6. Architectures"
   ]
  },
  {
   "cell_type": "markdown",
   "metadata": {},
   "source": [
    "We want to try 4 different architectures:\n",
    "- base: embedding + lstm + fc\n",
    "- gru: embedding + gru + fc\n",
    "- additional_lstm: embedding + lstm + lstm + fc\n",
    "- additional_dense: embedding + lstm + fc + fc"
   ]
  },
  {
   "cell_type": "code",
   "execution_count": null,
   "metadata": {
    "id": "IcZ32thf40ha"
   },
   "outputs": [],
   "source": [
    "class TimeDistributedDense(ks.layers.TimeDistributed):\n",
    "  def __init__(self, *dense_args, **dense_kwargs) -> None:\n",
    "        super().__init__(ks.layers.Dense(*dense_args, **dense_kwargs))\n",
    "\n",
    "class Seq2SeqPosModel(ks.Model):\n",
    "  def __init__(self, \n",
    "              embedding_weights,\n",
    "              num_classes,\n",
    "              rnn_units=128,\n",
    "              use_gru=False, \n",
    "              additional_lstm=False,\n",
    "              additional_dense=False,\n",
    "              additional_dense_units=10,\n",
    "              dropout=0.0,\n",
    "              multi_label=False,\n",
    "              class_frequencies=None,\n",
    "              **kwargs):\n",
    "    \"\"\"\n",
    "    Parameters\n",
    "      ----------\n",
    "      rnn_units: int\n",
    "          The hidden state's dimension of the RNNs\n",
    "      use_gru: bool\n",
    "          If True, use a BiGRU layer instead of the BiLSTM\n",
    "      additional_lstm: bool\n",
    "          If True, use an additional BiLSTM layer right after the default one\n",
    "      additional_dense: bool\n",
    "          If True, adds a FC layer before the classifier\n",
    "      additional_dense_units: int\n",
    "        The hidden state's dimension of the additional dense layers\n",
    "      dropout: float\n",
    "          Define the drop rate of the Dropout layers. By default the dropout is disabled\n",
    "      multi_label: bool\n",
    "        If True, the problem is considered to be multi-label and the last layer uses sigmoid instead of softmax      \n",
    "    \"\"\"\n",
    "    super().__init__(**kwargs)\n",
    "    self.embedding = ks.layers.Embedding(*embedding_weights.shape, weights=[embedding_weights],\n",
    "                            mask_zero=True, trainable=False)\n",
    "\n",
    "    self.rnn_layers = []\n",
    "    if use_gru:\n",
    "      assert not additional_lstm and not additional_dense, \"use_gru cannot be used together with additional_lstm or additional_dense\"\n",
    "      rnn = ks.layers.GRU(units=rnn_units, return_sequences=True, dropout=dropout, name='gru')\n",
    "    else:\n",
    "      rnn = ks.layers.LSTM(units=rnn_units, return_sequences=True, dropout=dropout, name='lstm')      \n",
    "    self.rnn_layers.append(ks.layers.Bidirectional(rnn, name=f'bidirectional_{rnn.name}'))\n",
    "\n",
    "    if additional_lstm:\n",
    "      assert not use_gru and not additional_dense, \"additional_lstm cannot be used together with use_gru or additional_dense\"\n",
    "      rnn = ks.layers.LSTM(units=rnn_units, return_sequences=True, dropout=dropout)\n",
    "      self.rnn_layers.append(ks.layers.Bidirectional(rnn, name='bidirectional_lstm2'))\n",
    "\n",
    "    self.fc_layers = []\n",
    "    if additional_dense:\n",
    "      assert not use_gru and not additional_lstm, \"additional_dense cannot be used together with use_gru or additional_lstm\"\n",
    "      assert additional_dense_units > 0\n",
    "      self.fc_layers.append(TimeDistributedDense(additional_dense_units, activation='relu'))\n",
    "      if dropout:\n",
    "        self.fc_layers.append(ks.layers.Dropout(dropout))\n",
    "\n",
    "    if multi_label:\n",
    "      initial_biases = \"zeros\"\n",
    "      if class_frequencies:\n",
    "        initial_biases = - np.log((1-class_frequencies)/class_frequencies)\n",
    "        initial_biases = tf.constant(initial_biases)\n",
    "      output_layer = TimeDistributedDense(num_classes, activation='sigmoid', bias_initializer=initial_biases, dtype=np.float32)\n",
    "    else:\n",
    "      output_layer = TimeDistributedDense(num_classes+1, activation='softmax', dtype=np.float32)\n",
    "    self.output_layer = output_layer\n",
    "\n",
    "  def call(self, inputs, **kwargs):\n",
    "    x = self.embedding(inputs, **kwargs)\n",
    "    for rnn in self.rnn_layers:\n",
    "      x = rnn(x, **kwargs)\n",
    "    for fc in self.fc_layers:\n",
    "      x = fc(x, **kwargs)\n",
    "\n",
    "    return self.output_layer(x, **kwargs)\n",
    "\n",
    "  # def train_step(self, data):\n",
    "  #   # Unpack the data. Its structure depends on your model and\n",
    "  #   # on what you pass to `fit()`.\n",
    "  #   if len(data) == 3:\n",
    "  #       x, y, sample_weight = data\n",
    "  #   else:\n",
    "  #       sample_weight = None\n",
    "  #       x, y = data\n",
    "    \n",
    "  #   compute_blacklist_mask()\n",
    "  #   ks.utils.losses_utils.\n",
    "\n",
    "  #   with tf.GradientTape() as tape:\n",
    "  #     y_pred = self(x, training=True)  # Forward pass\n",
    "  #     # Compute the loss value.\n",
    "  #     # The loss function is configured in `compile()`.\n",
    "  #     loss = self.compiled_loss(\n",
    "  #         y,\n",
    "  #         y_pred,\n",
    "  #         sample_weight=sample_weight,\n",
    "  #         regularization_losses=self.losses,\n",
    "  #     )\n",
    "\n",
    "  #   # Compute gradients\n",
    "  #   trainable_vars = self.trainable_variables\n",
    "  #   gradients = tape.gradient(loss, trainable_vars)\n",
    "\n",
    "  #   # Update weights\n",
    "  #   self.optimizer.apply_gradients(zip(gradients, trainable_vars))\n",
    "\n",
    "  #   # Update the metrics.\n",
    "  #   # Metrics are configured in `compile()`.\n",
    "  #   self.compiled_metrics.update_state(y, y_pred, sample_weight=sample_weight)\n",
    "\n",
    "  #   # Return a dict mapping metric names to current value.\n",
    "  #   # Note that it will include the loss (tracked in self.metrics).\n",
    "  #   return {m.name: m.result() for m in self.metrics}\n",
    "\n",
    "class ModelFactory():\n",
    "  def __init__(self, embedding_weights, n_classes, class_frequencies=None):\n",
    "    self.embedding_weights=embedding_weights\n",
    "    self.num_classes=n_classes\n",
    "    self.class_frequencies = class_frequencies\n",
    "  \n",
    "  def create_model(self,\n",
    "              rnn_units=128,\n",
    "              use_gru=False, \n",
    "              additional_lstm=False,\n",
    "              additional_dense=False,\n",
    "              additional_dense_units=10,\n",
    "              dropout=0.0,\n",
    "              multi_label=False,\n",
    "              name = None) -> Seq2SeqPosModel:\n",
    "    \"\"\"\n",
    "    Parameters\n",
    "      ----------\n",
    "      rnn_units: int\n",
    "          The hidden state's dimension of the RNNs\n",
    "      use_gru: bool\n",
    "          If True, use a BiGRU layer instead of the BiLSTM\n",
    "      additional_lstm: bool\n",
    "          If True, use an additional BiLSTM layer right after the default one\n",
    "      additional_dense: bool\n",
    "          If True, adds a FC layer before the classifier\n",
    "      additional_dense_units: int\n",
    "        The hidden state's dimension of the additional dense layers\n",
    "      dropout: float\n",
    "          Define the drop rate of the Dropout layers. By default the dropout is disabled\n",
    "      multi_label: bool\n",
    "        If True, the problem is considered to be multi label and the last layer uses sigmoid instead of softmax\n",
    "      name: str\n",
    "          The name of the model          \n",
    "      Returns\n",
    "      -------\n",
    "      tensorflow.keras.models.Model\n",
    "          The POS-tagging model          \n",
    "    \"\"\"\n",
    "    \n",
    "    return Seq2SeqPosModel(embedding_weights=self.embedding_weights,\n",
    "              num_classes=self.num_classes,              \n",
    "              class_frequencies=self.class_frequencies,\n",
    "              rnn_units=rnn_units,\n",
    "              use_gru=use_gru, \n",
    "              additional_lstm=additional_lstm,\n",
    "              additional_dense=additional_dense,\n",
    "              additional_dense_units=additional_dense_units,\n",
    "              dropout=dropout,\n",
    "              multi_label=multi_label)"
   ]
  },
  {
   "cell_type": "code",
   "execution_count": null,
   "metadata": {
    "colab": {
     "base_uri": "https://localhost:8080/"
    },
    "id": "OecUTH6Y40hb",
    "outputId": "349660f2-b625-40d2-efc4-2a51cb990119"
   },
   "outputs": [],
   "source": [
    "models = {}\n",
    "models['base'] = {\n",
    "    'name': 'base',\n",
    "    'use_gru': False,\n",
    "    'additional_lstm': False,\n",
    "    'additional_dense': False,\n",
    "}\n",
    "models['gru'] = {\n",
    "    'name': 'gru',\n",
    "    'use_gru': True,\n",
    "    'additional_lstm': False,\n",
    "    'additional_dense': False,\n",
    "}\n",
    "models['additional_lstm'] = {\n",
    "    'name': 'additional_lstm',\n",
    "    'use_gru': False,\n",
    "    'additional_lstm': True,\n",
    "    'additional_dense': False,\n",
    "}\n",
    "models['additional_dense'] = {\n",
    "    'name': 'additional_dense',\n",
    "    'use_gru': False,\n",
    "    'additional_lstm': False,\n",
    "    'additional_dense': True,\n",
    "}\n",
    "\n",
    "model_factory = ModelFactory(embedding_matrix.vectors(), n_classes=n_tags)\n",
    "for model_name, architecture in models.items():\n",
    "    model = model_factory.create_model(**architecture)  \n",
    "    model.build((None, None))\n",
    "    model.call(ks.layers.Input((None, )))\n",
    "    model.summary()\n",
    "    print()"
   ]
  },
  {
   "cell_type": "markdown",
   "metadata": {},
   "source": [
    "Here we ensure that the initial loss is equal to $-log(1/(n\\_tags+1)) \\approx 3.8286$"
   ]
  },
  {
   "cell_type": "code",
   "execution_count": null,
   "metadata": {},
   "outputs": [],
   "source": [
    "def check_init_loss(multilabel=False):    \n",
    "    if multilabel:\n",
    "        classification_type = 'Multi-label'\n",
    "        loss = 'binary_crossentropy'\n",
    "        expected_loss = np.log(2)\n",
    "    else:\n",
    "        classification_type = 'Multi-class'\n",
    "        loss = 'categorical_crossentropy'\n",
    "        expected_loss = np.log(n_tags+1)\n",
    "    \n",
    "    compile_info = {\n",
    "        'optimizer': ks.optimizers.Adam(learning_rate=1e-3),\n",
    "        'loss': loss,\n",
    "        'metrics': ['categorical_accuracy'],\n",
    "    }\n",
    "    model = model_factory.create_model(multi_label=multilabel)\n",
    "    model.compile(**compile_info)\n",
    "\n",
    "    label_encoder = LabelEncoder(label_vocabulary, sep=words_separator, ignore_padding=multilabel)\n",
    "    prepared_train_data = prepare_data(train_data.iloc[:5000], tokenizer, label_encoder)\n",
    "    dataloader = create_dataloader(prepared_train_data, batch_size=512, training=False)\n",
    "    samples = next(dataloader.take(1).as_numpy_iterator())[0]\n",
    "    samples = tf.constant(samples[:10])\n",
    "    output = model(samples)\n",
    "    results = model.evaluate(dataloader, verbose=0)\n",
    "\n",
    "\n",
    "    print(classification_type, 'Problem')\n",
    "    print('Sample output:', output)\n",
    "    print('Expected loss:', expected_loss)\n",
    "    print(\"Loss: {:0.4f}\".format(results[0]))"
   ]
  },
  {
   "cell_type": "code",
   "execution_count": null,
   "metadata": {},
   "outputs": [],
   "source": [
    "check_init_loss()"
   ]
  },
  {
   "cell_type": "markdown",
   "metadata": {},
   "source": [
    "# 7. Defining Model Evaluations"
   ]
  },
  {
   "cell_type": "markdown",
   "metadata": {},
   "source": [
    "In this section, we define evaluation functions. In particular, we create functions to mask padding and punctuation tags, then we define a class to evaluate the dataset according to the metrics provided."
   ]
  },
  {
   "cell_type": "code",
   "execution_count": null,
   "metadata": {},
   "outputs": [],
   "source": [
    "class PosEvaluator():\n",
    "  def __init__(self, label_encoder:LabelEncoder, banned_tags:Iterable[str]) -> None:\n",
    "    self.label_encoder = label_encoder\n",
    "    self.banned_tags = label_encoder.tokens_to_ids(banned_tags).numpy()\n",
    "\n",
    "  def compute_padding_mask(self, y_true: tf.Tensor) -> tf.Tensor:\n",
    "    return y_true != 0\n",
    "\n",
    "  def compute_mask(self, y_true: tf.Tensor, remove_banned_tags=True) -> tf.Tensor:\n",
    "    mask = self.compute_padding_mask(y_true)\n",
    "    if remove_banned_tags:\n",
    "      blacklist_mask = compute_blacklist_mask(y_true, self.banned_tags)\n",
    "      mask = tf.logical_and(mask, blacklist_mask)\n",
    "\n",
    "    return mask\n",
    "\n",
    "  def compute_mask_from_onehot(self, y_onehot: tf.Tensor, remove_banned_tags=True) -> tf.Tensor:\n",
    "    ids: tf.Tensor = self.label_encoder.one_hot_to_ids(y_onehot)\n",
    "    mask = self.compute_mask(ids, remove_banned_tags=remove_banned_tags)\n",
    "    return mask\n",
    "\n",
    "  def apply_mask(self, x: tf.Tensor, mask) -> tf.RaggedTensor:\n",
    "    return tf.ragged.boolean_mask(x, mask)  \n",
    "\n",
    "  def evaluate(self, model: ks.Model, x:tf.RaggedTensor, y:tf.RaggedTensor, metrics:Dict[str, Callable]) -> Tuple[tf.Tensor, tf.Tensor, Dict[str, object]]:\n",
    "    y_pred = self.predict(model, data)    \n",
    "    return self.evaluate_predictions(y, y_pred, metrics)\n",
    "\n",
    "  def predict(self, model: ks.Model, x:tf.Tensor, y:tf.Tensor) -> np.ndarray:\n",
    "    print('Making predictions ...')\n",
    "    y_pred = model.predict(x, verbose=True)\n",
    "    assert y_pred.shape == y.shape\n",
    "    \n",
    "    return y_pred\n",
    "\n",
    "  def evaluate_predictions(self,\n",
    "    y_true: tf.Tensor,\n",
    "    y_pred: tf.Tensor,\n",
    "    metrics: Dict[str, Callable]) -> Tuple[tf.Tensor, tf.Tensor, Dict[str, object]]:\n",
    "    \"\"\"\n",
    "      Evaluates given model predictions on a list of metric functions\n",
    "\n",
    "      :param y_pred: one hot encoded predictions\n",
    "      :param y_true: one hot encoded ground-truth labels\n",
    "      :param metrics: dictionary of (metric_name, metric_fn)\n",
    "\n",
    "      :return\n",
    "        - filtered prediction labels\n",
    "        - filtered true lables\n",
    "        - metric_info: dictionary containing metric values for each input metric\n",
    "      \"\"\"\n",
    "    assert y_pred.shape == y_true.shape\n",
    "    print(f\"Evaluating predictions! Total samples: {y_pred.shape[0]}\")\n",
    "\n",
    "    y_true = self.label_encoder.one_hot_to_ids(y_true)\n",
    "    y_pred = self.label_encoder.one_hot_to_ids(y_pred)\n",
    "    assert y_pred.shape == y_true.shape\n",
    "\n",
    "    mask = self.compute_mask(y_true, remove_banned_tags=True)\n",
    "    masked_true = self.apply_mask(y_true, mask)\n",
    "    masked_pred = self.apply_mask(y_pred, mask)    \n",
    "\n",
    "    masked_pred = np.array(tf.reshape(masked_pred, -1), dtype=np.int32)\n",
    "    masked_true = np.array(tf.reshape(masked_true, -1), dtype=np.int32)\n",
    "\n",
    "    metric_info = {}\n",
    "    for metric_name, metric in metrics.items():\n",
    "        metric_value = metric(y_pred=masked_pred, y_true=masked_true)\n",
    "        metric_info[metric_name] = metric_value\n",
    "\n",
    "    return masked_pred, masked_true, metric_info\n",
    "\n",
    "def print_metrics(metric_info: Dict[str, object]):\n",
    "  for metric_name, metric, in metric_info.items():\n",
    "      print(f'{metric_name}:')\n",
    "      print(metric)\n",
    "\n",
    "# Test masking to ensure code changes do not break the logic\n",
    "def _test_masking():\n",
    "  print('Testing evaluation functions ...')\n",
    "  banned_tags = ['NN', 'CC', 'JJ']\n",
    "\n",
    "  y = [['NN', 'RBR', 'CC', '', ''], ['JJ', 'JJ', 'IN', 'WDT', '']]\n",
    "  y = label_encoder.tokens_to_ids(y)  \n",
    "\n",
    "  evaluator = PosEvaluator(label_encoder, banned_tags)\n",
    "\n",
    "  padding_mask = evaluator.compute_padding_mask(y)\n",
    "  assert padding_mask.shape == y.shape, f'{padding_mask.shape} != {y.shape}'\n",
    "  assert tf.reduce_all(padding_mask == tf.constant([[True, True, True, False, False], [True, True, True, True, False]]))\n",
    "\n",
    "  blacklist_mask = compute_blacklist_mask(y, label_encoder.tokens_to_ids(banned_tags).numpy())\n",
    "  assert blacklist_mask.shape == y.shape, f'{blacklist_mask.shape} != {y.shape}'\n",
    "  assert tf.reduce_all(blacklist_mask == tf.constant([[False, True, False, True, True], [False, False, True, True, True]]))\n",
    "\n",
    "  mask = evaluator.compute_mask(y)\n",
    "  assert mask.shape == y.shape, f'{mask.shape} != {y.shape}'\n",
    "  assert tf.reduce_all(mask == tf.constant([[False, True, False, False, False], [False, False, True, True, False]]))\n",
    "\n",
    "  y_onehot = label_encoder.ids_to_one_hot(y)\n",
    "  mask = evaluator.compute_mask_from_onehot(y_onehot)\n",
    "  assert mask.shape == y.shape, f'{mask.shape} != {y.shape}'\n",
    "  assert tf.reduce_all(mask == tf.constant([[False, True, False, False, False], [False, False, True, True, False]]))\n",
    "\n",
    "  y_true = [['NN', 'RBR', 'CC', '', ''], ['JJ', 'JJ', 'IN', 'WDT', '']]\n",
    "  y_pred = [['NN', 'WDT', 'CC', '', ''], ['JJ', 'CC', 'IN', 'WDT', '']]\n",
    "  y_true = label_encoder.tokens_to_ids(y_true).to_tensor(0)\n",
    "  y_pred = label_encoder.tokens_to_ids(y_pred).to_tensor(0)\n",
    "  assert y_true.shape == y_pred.shape\n",
    "  \n",
    "  mask = evaluator.compute_mask(y_true)\n",
    "  true = evaluator.apply_mask(y_true, mask)\n",
    "  pred = evaluator.apply_mask(y_pred, mask)\n",
    "  assert pred.shape == true.shape\n",
    "  assert tf.reduce_all(pred == label_encoder.tokens_to_ids([['WDT'], ['IN', 'WDT']]))\n",
    "  assert tf.reduce_all(true == label_encoder.tokens_to_ids([['RBR'], ['IN', 'WDT']]))\n",
    "  \n",
    "  print('Test successfully completed!')\n",
    "_test_masking()"
   ]
  },
  {
   "cell_type": "code",
   "execution_count": null,
   "metadata": {},
   "outputs": [],
   "source": [
    "macro_f1 = functools.partial(f1_score, zero_division=0, average='macro')\n",
    "\n",
    "def masked_macro_f1(y_true, y_pred, mask=None):        \n",
    "    y_true = tf.argmax(y_true, output_type=tf.int32, axis=-1)\n",
    "    y_pred = tf.argmax(y_pred, output_type=tf.int32, axis=-1)\n",
    "    \n",
    "    if mask is not None:\n",
    "        y_true = tf.ragged.boolean_mask(y_true, mask)\n",
    "        y_pred = tf.ragged.boolean_mask(y_pred, mask)\n",
    "\n",
    "    y_true = np.array(tf.reshape(y_true, -1), dtype=np.int32)\n",
    "    y_pred = np.array(tf.reshape(y_pred, -1), dtype=np.int32)\n",
    "\n",
    "    return macro_f1(y_true, y_pred)\n",
    "\n",
    "class F1History(tf.keras.callbacks.Callback):\n",
    "    def __init__(self, validation, mask=None):\n",
    "        super(F1History, self).__init__()\n",
    "        self.x_val = validation[0]\n",
    "        self.y_val = validation[1]\n",
    "        self.mask = mask\n",
    "\n",
    "    def on_epoch_end(self, epoch, logs={}):\n",
    "        logs['val_f1'] = float('-inf')\n",
    "        y_val_pred = self.model.predict(self.x_val, verbose=0)\n",
    "        val_score = masked_macro_f1(self.y_val, y_val_pred, self.mask)\n",
    "        logs['val_f1'] = np.round(val_score, 5)\n",
    "\n",
    "def get_f1_callback(prepared_val_data, pos_evaluator: PosEvaluator):\n",
    "    x_val, y_val = pad(prepared_val_data[0], prepared_val_data[1])\n",
    "    mask = pos_evaluator.compute_mask_from_onehot(y_val)\n",
    "\n",
    "    return F1History((x_val, y_val), mask)"
   ]
  },
  {
   "cell_type": "code",
   "execution_count": null,
   "metadata": {},
   "outputs": [],
   "source": [
    "tags = list(label_vocabulary.keys())\n",
    "encoded_tags = list(label_encoder.tokens_to_ids(tags).numpy())\n",
    "metrics = {\n",
    "    'macro_f1': macro_f1,\n",
    "    'classification report': functools.partial(classification_report, zero_division=0, labels=encoded_tags, target_names=tags),\n",
    "}\n",
    "\n",
    "def run_fake_evaluation():\n",
    "    data = train_data.iloc[:1000]\n",
    "\n",
    "    x, y_true = pad(*prepare_data(data, tokenizer, label_encoder))\n",
    "    y_pred = pos_evaluator.predict(model, x, y_true)\n",
    "\n",
    "    assert y_pred.shape[0] == len(data)\n",
    "    max_length = data['sentence'].str.split(words_separator).apply(len).max()\n",
    "    assert y_pred.shape[1] == max_length\n",
    "\n",
    "    print(y_pred.shape)\n",
    "    print(y_pred[:10])\n",
    "\n",
    "    y_true_masked, y_pred_masked, metric_info = pos_evaluator.evaluate_predictions(y_true=y_true, y_pred=y_pred, metrics=metrics)\n",
    "\n",
    "    assert y_pred_masked.shape == y_true_masked.shape\n",
    "    n_non_banned = np.count_nonzero(~data['pos'].str.split(words_separator).explode().isin(punctuation_tags))\n",
    "    assert y_pred_masked.shape[0] == n_non_banned\n",
    "\n",
    "    return metric_info\n",
    "\n",
    "pos_evaluator = PosEvaluator(label_encoder, banned_tags=punctuation_tags)\n",
    "metric_info = run_fake_evaluation()"
   ]
  },
  {
   "cell_type": "code",
   "execution_count": null,
   "metadata": {},
   "outputs": [],
   "source": [
    "print_metrics(metric_info)"
   ]
  },
  {
   "cell_type": "markdown",
   "metadata": {
    "id": "aDHj8_ae40hc"
   },
   "source": [
    "# 8. Training Baseline Model"
   ]
  },
  {
   "cell_type": "markdown",
   "metadata": {},
   "source": [
    "Here, we define training methods and run them on the baseline model."
   ]
  },
  {
   "cell_type": "code",
   "execution_count": null,
   "metadata": {
    "id": "4n7A7Hf140hc"
   },
   "outputs": [],
   "source": [
    "def show_history(history: ks.callbacks.History):\n",
    "    \"\"\"\n",
    "    Shows training history data stored by the History Keras callback\n",
    "\n",
    "    :param history: History Keras callback\n",
    "    \"\"\"\n",
    "    history_data = history.history\n",
    "    print(f\"Displaying the following history keys: {history_data.keys()}\")\n",
    "\n",
    "    for key, value in history_data.items():\n",
    "        if not key.startswith('val'):\n",
    "            plot_history_item(history_data, key)\n",
    "    if 'val_f1' in history_data:\n",
    "        plot_history_item(history_data, 'val_f1', legend=['val'])\n",
    "    plt.show()\n",
    "\n",
    "def plot_history_item(history_data: dict, key: str, legend=['train', 'val']):\n",
    "    fig, ax = plt.subplots(1, 1)\n",
    "    ax.set_title(key)\n",
    "    ax.plot(history_data[key])\n",
    "    if f'val_{key}' in history_data:\n",
    "        ax.plot(history_data[f'val_{key}'])\n",
    "\n",
    "    ax.set_ylabel(key)\n",
    "    ax.set_xlabel('epoch')\n",
    "    ax.legend(legend, loc='best')\n",
    "    "
   ]
  },
  {
   "cell_type": "code",
   "execution_count": null,
   "metadata": {
    "id": "gcR2ynTy40he"
   },
   "outputs": [],
   "source": [
    "def train_model(model: ks.Model,\n",
    "                train_data: tf.data.Dataset,\n",
    "                val_data: tf.data.Dataset,\n",
    "                training_info: Dict,\n",
    "                show=True):\n",
    "    \"\"\"\n",
    "    Training routine for the Keras model.\n",
    "    At the end of the training, retrieved History data is shown.\n",
    "\n",
    "    :param model: Keras built model\n",
    "    :param train_data: training data\n",
    "    :param val_data: validation data\n",
    "    :param training_info: dictionary storing model fit() argument information\n",
    "\n",
    "    :return\n",
    "        model: trained Keras model\n",
    "    \"\"\"\n",
    "    print(f\"Start training! \\nParameters: {training_info}\")\n",
    "    history = model.fit(x=train_data,\n",
    "                        validation_data=val_data,\n",
    "                        **training_info)\n",
    "    print(\"Training completed!\")\n",
    "\n",
    "    if show:\n",
    "        print(\"Showing history...\")\n",
    "        show_history(history)\n",
    "\n",
    "    return history"
   ]
  },
  {
   "cell_type": "code",
   "execution_count": 44,
   "metadata": {},
   "outputs": [
    {
     "name": "stdout",
     "output_type": "stream",
     "text": [
      "Start training! \n",
      "Parameters: {'verbose': 1, 'epochs': 100, 'batch_size': 256, 'callbacks': [<__main__.F1History object at 0x0000018209A0D000>, <keras.callbacks.EarlyStopping object at 0x00000182162C2FE0>]}\n",
      "Epoch 1/100\n",
      "8/8 [==============================] - 15s 1s/step - loss: 2.9027 - categorical_accuracy: 0.2427 - val_loss: 2.2628 - val_categorical_accuracy: 0.4102 - val_f1: 0.0852\n",
      "Epoch 2/100\n",
      "8/8 [==============================] - 8s 1s/step - loss: 1.8484 - categorical_accuracy: 0.5153 - val_loss: 1.4208 - val_categorical_accuracy: 0.6197 - val_f1: 0.2469\n",
      "Epoch 3/100\n",
      "8/8 [==============================] - 9s 1s/step - loss: 1.1921 - categorical_accuracy: 0.6807 - val_loss: 1.0544 - val_categorical_accuracy: 0.7018 - val_f1: 0.3241\n",
      "Epoch 4/100\n",
      "8/8 [==============================] - 8s 1s/step - loss: 0.8992 - categorical_accuracy: 0.7496 - val_loss: 0.8587 - val_categorical_accuracy: 0.7536 - val_f1: 0.3898\n",
      "Epoch 5/100\n",
      "8/8 [==============================] - 9s 905ms/step - loss: 0.7345 - categorical_accuracy: 0.7917 - val_loss: 0.7448 - val_categorical_accuracy: 0.7845 - val_f1: 0.4295\n",
      "Epoch 6/100\n",
      "8/8 [==============================] - 9s 1s/step - loss: 0.6289 - categorical_accuracy: 0.8203 - val_loss: 0.6729 - val_categorical_accuracy: 0.8029 - val_f1: 0.4940\n",
      "Epoch 7/100\n",
      "8/8 [==============================] - 10s 1s/step - loss: 0.5551 - categorical_accuracy: 0.8394 - val_loss: 0.6164 - val_categorical_accuracy: 0.8191 - val_f1: 0.5161\n",
      "Epoch 8/100\n",
      "8/8 [==============================] - 9s 1s/step - loss: 0.4960 - categorical_accuracy: 0.8586 - val_loss: 0.5810 - val_categorical_accuracy: 0.8276 - val_f1: 0.5365\n",
      "Epoch 9/100\n",
      "8/8 [==============================] - 9s 939ms/step - loss: 0.4472 - categorical_accuracy: 0.8711 - val_loss: 0.5458 - val_categorical_accuracy: 0.8370 - val_f1: 0.5602\n",
      "Epoch 10/100\n",
      "8/8 [==============================] - 10s 1s/step - loss: 0.4029 - categorical_accuracy: 0.8851 - val_loss: 0.5225 - val_categorical_accuracy: 0.8434 - val_f1: 0.5632\n",
      "Epoch 11/100\n",
      "8/8 [==============================] - 7s 996ms/step - loss: 0.3645 - categorical_accuracy: 0.8972 - val_loss: 0.4982 - val_categorical_accuracy: 0.8519 - val_f1: 0.5883\n",
      "Epoch 12/100\n",
      "8/8 [==============================] - 9s 914ms/step - loss: 0.3316 - categorical_accuracy: 0.9065 - val_loss: 0.4836 - val_categorical_accuracy: 0.8556 - val_f1: 0.5889\n",
      "Epoch 13/100\n",
      "8/8 [==============================] - 8s 835ms/step - loss: 0.2994 - categorical_accuracy: 0.9172 - val_loss: 0.4755 - val_categorical_accuracy: 0.8561 - val_f1: 0.5820\n",
      "Epoch 14/100\n",
      "8/8 [==============================] - 10s 1s/step - loss: 0.2711 - categorical_accuracy: 0.9260 - val_loss: 0.4617 - val_categorical_accuracy: 0.8610 - val_f1: 0.5865\n",
      "Training completed!\n",
      "Showing history...\n",
      "Displaying the following history keys: dict_keys(['loss', 'categorical_accuracy', 'val_loss', 'val_categorical_accuracy', 'val_f1'])\n"
     ]
    },
    {
     "data": {
      "image/png": "[encoded data removed]",
      "text/plain": [
       "<Figure size 640x480 with 1 Axes>"
      ]
     },
     "metadata": {},
     "output_type": "display_data"
    },
    {
     "data": {
      "image/png": "[encoded data removed]",
      "text/plain": [
       "<Figure size 640x480 with 1 Axes>"
      ]
     },
     "metadata": {},
     "output_type": "display_data"
    },
    {
     "data": {
      "image/png": "[encoded data removed]",
      "text/plain": [
       "<Figure size 640x480 with 1 Axes>"
      ]
     },
     "metadata": {},
     "output_type": "display_data"
    }
   ],
   "source": [
    "compile_info = {\n",
    "    'optimizer': ks.optimizers.Adam(learning_rate=1e-2),\n",
    "    'loss': 'categorical_crossentropy',\n",
    "    'weighted_metrics': ['categorical_accuracy'],\n",
    "}\n",
    "\n",
    "prepared_train_data = prepare_data(train_data, tokenizer, label_encoder)\n",
    "prepared_val_data = prepare_data(val_data, tokenizer, label_encoder)\n",
    "\n",
    "callbacks = [\n",
    "    get_f1_callback(prepared_val_data, pos_evaluator),\n",
    "    ks.callbacks.EarlyStopping(monitor='val_f1', mode='max', patience=3, min_delta=5e-3)\n",
    "]\n",
    "\n",
    "training_info = {\n",
    "    'verbose': 1,\n",
    "    'epochs': 100,\n",
    "    'batch_size': 256,\n",
    "    'callbacks': callbacks\n",
    "}\n",
    "\n",
    "set_reproducibility(42)\n",
    "model = model_factory.create_model(**models['base'])\n",
    "model.compile(**compile_info)\n",
    "\n",
    "train_dataloader = create_dataloader(prepared_train_data, batch_size=training_info['batch_size'])\n",
    "val_dataloader = create_dataloader(prepared_val_data, batch_size=training_info['batch_size'], training=False)\n",
    "\n",
    "history = train_model(model=model, train_data=train_dataloader, val_data=val_dataloader, training_info=training_info)"
   ]
  },
  {
   "cell_type": "markdown",
   "metadata": {},
   "source": [
    "From the plot aboves, we see that around 10 epochs the learning curve starts to show a plateau. Therefore, this value may be a good point to evaluate different models and tune hyperparameters."
   ]
  },
  {
   "cell_type": "markdown",
   "metadata": {},
   "source": [
    "# 9. Experiments"
   ]
  },
  {
   "cell_type": "markdown",
   "metadata": {},
   "source": [
    "In this section we want to:\n",
    "1. find the best hyper parameters on the baseline model.\n",
    "2. find the best preprocessing and embedding strategies on the baseline model.\n",
    "3. find the best hyperparameters for different architectures defined above and choose the best two models. "
   ]
  },
  {
   "cell_type": "markdown",
   "metadata": {},
   "source": [
    "## 8.1 Tune baseline model "
   ]
  },
  {
   "cell_type": "markdown",
   "metadata": {},
   "source": [
    "- The evaluation of the model is done on the validation set by using macro F1.\n",
    "- Hyperparameter tuning is done by using the Bayesian Optimization from keras_tuner library. "
   ]
  },
  {
   "cell_type": "code",
   "execution_count": 83,
   "metadata": {},
   "outputs": [],
   "source": [
    "class MyHyperModel(keras_tuner.HyperModel):\n",
    "  def __init__(self, model_factory: ModelFactory, architectures: Dict[str, Dict], compile_info: dict, evaluation_fn=None) -> None:\n",
    "    super().__init__()\n",
    "    self.model_factory = model_factory\n",
    "    self.architectures = architectures\n",
    "    self.compile_info = compile_info\n",
    "    self.evaluation_fn = evaluation_fn\n",
    "\n",
    "  def build(self, hp: keras_tuner.HyperParameters) -> ks.Model:\n",
    "    architecture = hp.Choice('architecture', list(self.architectures.keys()))\n",
    "    hyperparameters={\n",
    "        'rnn_units': hp.Int('rnn_units', min_value=32, max_value=512, step=32)\n",
    "    }\n",
    "    if 'additional_dense' in self.architectures:\n",
    "      with hp.conditional_scope('architecture', 'additional_dense'):\n",
    "        if architecture == 'additional_dense':\n",
    "          hyperparameters['additional_dense_units'] = hp.Int('additional_dense_units', min_value=2, max_value=100, step=2)\n",
    "    \n",
    "    model = model_factory.create_model(**self.architectures[architecture], **hyperparameters)\n",
    "    model.compile(**self.compile_info)\n",
    "\n",
    "    return model\n",
    "\n",
    "  # If the fit method returns an objective function instead of the history, this will be minimized.\n",
    "  def fit(self, hp: keras_tuner.HyperParameters, model: ks.Model, validation_data, *fit_args, **fit_kwargs):\n",
    "    print('Training ...')\n",
    "    history = model.fit(*fit_args, validation_data=validation_data, **fit_kwargs)\n",
    "    if self.evaluation_fn:\n",
    "      print('Evaluating ...')\n",
    "      y_true = get_unbatched_labels(validation_data)\n",
    "      y_pred = model.predict(validation_data).to_tensor(0)\n",
    "      return self.evaluation_fn(y_true, y_pred)\n",
    "    else:\n",
    "      return history\n",
    "\n",
    "def get_tuner(hypermodel: keras_tuner.HyperModel, model_name, trials=10, **kwargs):\n",
    "  return keras_tuner.BayesianOptimization(\n",
    "    hypermodel=hypermodel,\n",
    "    objective=keras_tuner.Objective('val_f1', 'max'),\n",
    "    # No objective to specify.\n",
    "    # Objective is the return value of `HyperModel.fit()`.\n",
    "    max_trials=trials,\n",
    "    num_initial_points=None,\n",
    "    directory = \"tuning\",\n",
    "    project_name=model_name,\n",
    "    overwrite=True,\n",
    "    seed=current_seed(),\n",
    "    **kwargs\n",
    "    )"
   ]
  },
  {
   "cell_type": "markdown",
   "metadata": {},
   "source": [
    "For the baseline model, the only hyperparameter we need to tune is:\n",
    "- rnn_units: dimension of the hidden state of the rnn layers [32:512:32]"
   ]
  },
  {
   "cell_type": "code",
   "execution_count": 96,
   "metadata": {},
   "outputs": [],
   "source": [
    "def create_tuning_recipe(\n",
    "    architecture,\n",
    "    epochs=4,\n",
    "    trials=10,\n",
    "    text_strategy='lower',\n",
    "    number_strategy=None,\n",
    "    composed_words=False,\n",
    "    seed=42,\n",
    "    batch_size=256):\n",
    "\n",
    "    compile_info = {\n",
    "        'optimizer': ks.optimizers.Adam(learning_rate=5e-2), # we do not want to tune it now\n",
    "        'loss': 'categorical_crossentropy',\n",
    "        'weighted_metrics': ['categorical_accuracy']\n",
    "    }\n",
    "\n",
    "    set_reproducibility(seed)\n",
    "    dataset, embedding_matrix = preprocess_and_load_embedding(df, text_strategy=text_strategy, number_strategy=number_strategy, composed_words=composed_words)\n",
    "    tokenizer = TextVectorization(embedding_matrix.vocabulary(), sep=words_separator)\n",
    "    label_encoder = LabelEncoder(label_vocabulary, sep=words_separator, ignore_padding=False)\n",
    "\n",
    "    train_data, val_data, test_data = split_dataset(dataset)\n",
    "    train_data = prepare_data(train_data, tokenizer, label_encoder)\n",
    "    val_data = prepare_data(val_data, tokenizer, label_encoder)\n",
    "    train_dataloader = create_dataloader(train_data, batch_size=batch_size)\n",
    "    val_dataloader = create_dataloader(val_data, batch_size=batch_size, training=False)\n",
    "\n",
    "    model_factory = ModelFactory(embedding_matrix.vectors(), n_classes=n_tags)\n",
    "    evaluator = PosEvaluator(label_encoder, banned_tags=punctuation_tags)\n",
    "    \n",
    "    callbacks = [\n",
    "        get_f1_callback(val_data, pos_evaluator),\n",
    "        ks.callbacks.EarlyStopping(monitor='val_f1', mode='max', patience=3, min_delta=1e-2),\n",
    "    ]\n",
    "\n",
    "    architectures = {architecture: models[architecture]}\n",
    "    hypermodel = MyHyperModel(model_factory, architectures=architectures, compile_info=compile_info)\n",
    "\n",
    "    tuner = get_tuner(hypermodel, model_name=architecture, trials=trials)\n",
    "    search_info = dict(\n",
    "        x=train_dataloader,\n",
    "        validation_data=val_dataloader,\n",
    "        epochs=epochs,\n",
    "        callbacks=callbacks        \n",
    "    )\n",
    "\n",
    "    return hypermodel, tuner, search_info"
   ]
  },
  {
   "cell_type": "code",
   "execution_count": 97,
   "metadata": {},
   "outputs": [
    {
     "name": "stdout",
     "output_type": "stream",
     "text": [
      "Search space summary\n",
      "Default search space size: 2\n",
      "architecture (Choice)\n",
      "{'default': 'base', 'conditions': [], 'values': ['base'], 'ordered': False}\n",
      "rnn_units (Int)\n",
      "{'default': None, 'conditions': [], 'min_value': 32, 'max_value': 512, 'step': 32, 'sampling': None}\n"
     ]
    }
   ],
   "source": [
    "hypermodel, tuner, search_info = create_tuning_recipe('base', trials=10)\n",
    "tuner.search_space_summary()"
   ]
  },
  {
   "cell_type": "code",
   "execution_count": 98,
   "metadata": {},
   "outputs": [
    {
     "name": "stdout",
     "output_type": "stream",
     "text": [
      "Trial 3 Complete [00h 02m 19s]\n",
      "val_f1: 0.495\n",
      "\n",
      "Best val_f1 So Far: 0.52091\n",
      "Total elapsed time: 00h 05m 45s\n",
      "\n",
      "Search: Running Trial #4\n",
      "\n",
      "Value             |Best Value So Far |Hyperparameter\n",
      "base              |base              |architecture\n",
      "320               |160               |rnn_units\n",
      "\n",
      "Training ...\n",
      "Epoch 1/4\n",
      "8/8 [==============================] - ETA: 0s - loss: nan - categorical_accuracy: 0.0543  "
     ]
    },
    {
     "ename": "KeyboardInterrupt",
     "evalue": "",
     "output_type": "error",
     "traceback": [
      "\u001b[1;31m---------------------------------------------------------------------------\u001b[0m",
      "\u001b[1;31mKeyboardInterrupt\u001b[0m                         Traceback (most recent call last)",
      "Cell \u001b[1;32mIn[98], line 1\u001b[0m\n\u001b[1;32m----> 1\u001b[0m tuner\u001b[39m.\u001b[39msearch(\u001b[39m*\u001b[39m\u001b[39m*\u001b[39msearch_info)\n\u001b[0;32m      2\u001b[0m tuner\u001b[39m.\u001b[39mresults_summary()\n",
      "File \u001b[1;32mc:\\Simone\\Programmazione\\Universita\\Natural Language Processing\\assignment1\\venv\\lib\\site-packages\\keras_tuner\\engine\\base_tuner.py:183\u001b[0m, in \u001b[0;36mBaseTuner.search\u001b[1;34m(self, *fit_args, **fit_kwargs)\u001b[0m\n\u001b[0;32m    180\u001b[0m     \u001b[39mcontinue\u001b[39;00m\n\u001b[0;32m    182\u001b[0m \u001b[39mself\u001b[39m\u001b[39m.\u001b[39mon_trial_begin(trial)\n\u001b[1;32m--> 183\u001b[0m results \u001b[39m=\u001b[39m \u001b[39mself\u001b[39m\u001b[39m.\u001b[39mrun_trial(trial, \u001b[39m*\u001b[39mfit_args, \u001b[39m*\u001b[39m\u001b[39m*\u001b[39mfit_kwargs)\n\u001b[0;32m    184\u001b[0m \u001b[39m# `results` is None indicates user updated oracle in `run_trial()`.\u001b[39;00m\n\u001b[0;32m    185\u001b[0m \u001b[39mif\u001b[39;00m results \u001b[39mis\u001b[39;00m \u001b[39mNone\u001b[39;00m:\n",
      "File \u001b[1;32mc:\\Simone\\Programmazione\\Universita\\Natural Language Processing\\assignment1\\venv\\lib\\site-packages\\keras_tuner\\engine\\tuner.py:295\u001b[0m, in \u001b[0;36mTuner.run_trial\u001b[1;34m(self, trial, *args, **kwargs)\u001b[0m\n\u001b[0;32m    293\u001b[0m     callbacks\u001b[39m.\u001b[39mappend(model_checkpoint)\n\u001b[0;32m    294\u001b[0m     copied_kwargs[\u001b[39m\"\u001b[39m\u001b[39mcallbacks\u001b[39m\u001b[39m\"\u001b[39m] \u001b[39m=\u001b[39m callbacks\n\u001b[1;32m--> 295\u001b[0m     obj_value \u001b[39m=\u001b[39m \u001b[39mself\u001b[39m\u001b[39m.\u001b[39m_build_and_fit_model(trial, \u001b[39m*\u001b[39margs, \u001b[39m*\u001b[39m\u001b[39m*\u001b[39mcopied_kwargs)\n\u001b[0;32m    297\u001b[0m     histories\u001b[39m.\u001b[39mappend(obj_value)\n\u001b[0;32m    298\u001b[0m \u001b[39mreturn\u001b[39;00m histories\n",
      "File \u001b[1;32mc:\\Simone\\Programmazione\\Universita\\Natural Language Processing\\assignment1\\venv\\lib\\site-packages\\keras_tuner\\engine\\tuner.py:222\u001b[0m, in \u001b[0;36mTuner._build_and_fit_model\u001b[1;34m(self, trial, *args, **kwargs)\u001b[0m\n\u001b[0;32m    220\u001b[0m hp \u001b[39m=\u001b[39m trial\u001b[39m.\u001b[39mhyperparameters\n\u001b[0;32m    221\u001b[0m model \u001b[39m=\u001b[39m \u001b[39mself\u001b[39m\u001b[39m.\u001b[39m_try_build(hp)\n\u001b[1;32m--> 222\u001b[0m results \u001b[39m=\u001b[39m \u001b[39mself\u001b[39m\u001b[39m.\u001b[39mhypermodel\u001b[39m.\u001b[39mfit(hp, model, \u001b[39m*\u001b[39margs, \u001b[39m*\u001b[39m\u001b[39m*\u001b[39mkwargs)\n\u001b[0;32m    223\u001b[0m tuner_utils\u001b[39m.\u001b[39mvalidate_trial_results(\n\u001b[0;32m    224\u001b[0m     results, \u001b[39mself\u001b[39m\u001b[39m.\u001b[39moracle\u001b[39m.\u001b[39mobjective, \u001b[39m\"\u001b[39m\u001b[39mHyperModel.fit()\u001b[39m\u001b[39m\"\u001b[39m\n\u001b[0;32m    225\u001b[0m )\n\u001b[0;32m    226\u001b[0m \u001b[39mreturn\u001b[39;00m results\n",
      "Cell \u001b[1;32mIn[83], line 27\u001b[0m, in \u001b[0;36mMyHyperModel.fit\u001b[1;34m(self, hp, model, validation_data, *fit_args, **fit_kwargs)\u001b[0m\n\u001b[0;32m     25\u001b[0m \u001b[39mdef\u001b[39;00m \u001b[39mfit\u001b[39m(\u001b[39mself\u001b[39m, hp: keras_tuner\u001b[39m.\u001b[39mHyperParameters, model: ks\u001b[39m.\u001b[39mModel, validation_data, \u001b[39m*\u001b[39mfit_args, \u001b[39m*\u001b[39m\u001b[39m*\u001b[39mfit_kwargs):\n\u001b[0;32m     26\u001b[0m   \u001b[39mprint\u001b[39m(\u001b[39m'\u001b[39m\u001b[39mTraining ...\u001b[39m\u001b[39m'\u001b[39m)\n\u001b[1;32m---> 27\u001b[0m   history \u001b[39m=\u001b[39m model\u001b[39m.\u001b[39mfit(\u001b[39m*\u001b[39mfit_args, validation_data\u001b[39m=\u001b[39mvalidation_data, \u001b[39m*\u001b[39m\u001b[39m*\u001b[39mfit_kwargs)\n\u001b[0;32m     28\u001b[0m   \u001b[39mif\u001b[39;00m \u001b[39mself\u001b[39m\u001b[39m.\u001b[39mevaluation_fn:\n\u001b[0;32m     29\u001b[0m     \u001b[39mprint\u001b[39m(\u001b[39m'\u001b[39m\u001b[39mEvaluating ...\u001b[39m\u001b[39m'\u001b[39m)\n",
      "File \u001b[1;32mc:\\Simone\\Programmazione\\Universita\\Natural Language Processing\\assignment1\\venv\\lib\\site-packages\\keras\\utils\\traceback_utils.py:65\u001b[0m, in \u001b[0;36mfilter_traceback.<locals>.error_handler\u001b[1;34m(*args, **kwargs)\u001b[0m\n\u001b[0;32m     63\u001b[0m filtered_tb \u001b[39m=\u001b[39m \u001b[39mNone\u001b[39;00m\n\u001b[0;32m     64\u001b[0m \u001b[39mtry\u001b[39;00m:\n\u001b[1;32m---> 65\u001b[0m     \u001b[39mreturn\u001b[39;00m fn(\u001b[39m*\u001b[39margs, \u001b[39m*\u001b[39m\u001b[39m*\u001b[39mkwargs)\n\u001b[0;32m     66\u001b[0m \u001b[39mexcept\u001b[39;00m \u001b[39mException\u001b[39;00m \u001b[39mas\u001b[39;00m e:\n\u001b[0;32m     67\u001b[0m     filtered_tb \u001b[39m=\u001b[39m _process_traceback_frames(e\u001b[39m.\u001b[39m__traceback__)\n",
      "File \u001b[1;32mc:\\Simone\\Programmazione\\Universita\\Natural Language Processing\\assignment1\\venv\\lib\\site-packages\\keras\\engine\\training.py:1694\u001b[0m, in \u001b[0;36mModel.fit\u001b[1;34m(self, x, y, batch_size, epochs, verbose, callbacks, validation_split, validation_data, shuffle, class_weight, sample_weight, initial_epoch, steps_per_epoch, validation_steps, validation_batch_size, validation_freq, max_queue_size, workers, use_multiprocessing)\u001b[0m\n\u001b[0;32m   1679\u001b[0m \u001b[39mif\u001b[39;00m \u001b[39mgetattr\u001b[39m(\u001b[39mself\u001b[39m, \u001b[39m\"\u001b[39m\u001b[39m_eval_data_handler\u001b[39m\u001b[39m\"\u001b[39m, \u001b[39mNone\u001b[39;00m) \u001b[39mis\u001b[39;00m \u001b[39mNone\u001b[39;00m:\n\u001b[0;32m   1680\u001b[0m     \u001b[39mself\u001b[39m\u001b[39m.\u001b[39m_eval_data_handler \u001b[39m=\u001b[39m data_adapter\u001b[39m.\u001b[39mget_data_handler(\n\u001b[0;32m   1681\u001b[0m         x\u001b[39m=\u001b[39mval_x,\n\u001b[0;32m   1682\u001b[0m         y\u001b[39m=\u001b[39mval_y,\n\u001b[1;32m   (...)\u001b[0m\n\u001b[0;32m   1692\u001b[0m         steps_per_execution\u001b[39m=\u001b[39m\u001b[39mself\u001b[39m\u001b[39m.\u001b[39m_steps_per_execution,\n\u001b[0;32m   1693\u001b[0m     )\n\u001b[1;32m-> 1694\u001b[0m val_logs \u001b[39m=\u001b[39m \u001b[39mself\u001b[39;49m\u001b[39m.\u001b[39;49mevaluate(\n\u001b[0;32m   1695\u001b[0m     x\u001b[39m=\u001b[39;49mval_x,\n\u001b[0;32m   1696\u001b[0m     y\u001b[39m=\u001b[39;49mval_y,\n\u001b[0;32m   1697\u001b[0m     sample_weight\u001b[39m=\u001b[39;49mval_sample_weight,\n\u001b[0;32m   1698\u001b[0m     batch_size\u001b[39m=\u001b[39;49mvalidation_batch_size \u001b[39mor\u001b[39;49;00m batch_size,\n\u001b[0;32m   1699\u001b[0m     steps\u001b[39m=\u001b[39;49mvalidation_steps,\n\u001b[0;32m   1700\u001b[0m     callbacks\u001b[39m=\u001b[39;49mcallbacks,\n\u001b[0;32m   1701\u001b[0m     max_queue_size\u001b[39m=\u001b[39;49mmax_queue_size,\n\u001b[0;32m   1702\u001b[0m     workers\u001b[39m=\u001b[39;49mworkers,\n\u001b[0;32m   1703\u001b[0m     use_multiprocessing\u001b[39m=\u001b[39;49muse_multiprocessing,\n\u001b[0;32m   1704\u001b[0m     return_dict\u001b[39m=\u001b[39;49m\u001b[39mTrue\u001b[39;49;00m,\n\u001b[0;32m   1705\u001b[0m     _use_cached_eval_dataset\u001b[39m=\u001b[39;49m\u001b[39mTrue\u001b[39;49;00m,\n\u001b[0;32m   1706\u001b[0m )\n\u001b[0;32m   1707\u001b[0m val_logs \u001b[39m=\u001b[39m {\n\u001b[0;32m   1708\u001b[0m     \u001b[39m\"\u001b[39m\u001b[39mval_\u001b[39m\u001b[39m\"\u001b[39m \u001b[39m+\u001b[39m name: val \u001b[39mfor\u001b[39;00m name, val \u001b[39min\u001b[39;00m val_logs\u001b[39m.\u001b[39mitems()\n\u001b[0;32m   1709\u001b[0m }\n\u001b[0;32m   1710\u001b[0m epoch_logs\u001b[39m.\u001b[39mupdate(val_logs)\n",
      "File \u001b[1;32mc:\\Simone\\Programmazione\\Universita\\Natural Language Processing\\assignment1\\venv\\lib\\site-packages\\keras\\utils\\traceback_utils.py:65\u001b[0m, in \u001b[0;36mfilter_traceback.<locals>.error_handler\u001b[1;34m(*args, **kwargs)\u001b[0m\n\u001b[0;32m     63\u001b[0m filtered_tb \u001b[39m=\u001b[39m \u001b[39mNone\u001b[39;00m\n\u001b[0;32m     64\u001b[0m \u001b[39mtry\u001b[39;00m:\n\u001b[1;32m---> 65\u001b[0m     \u001b[39mreturn\u001b[39;00m fn(\u001b[39m*\u001b[39margs, \u001b[39m*\u001b[39m\u001b[39m*\u001b[39mkwargs)\n\u001b[0;32m     66\u001b[0m \u001b[39mexcept\u001b[39;00m \u001b[39mException\u001b[39;00m \u001b[39mas\u001b[39;00m e:\n\u001b[0;32m     67\u001b[0m     filtered_tb \u001b[39m=\u001b[39m _process_traceback_frames(e\u001b[39m.\u001b[39m__traceback__)\n",
      "File \u001b[1;32mc:\\Simone\\Programmazione\\Universita\\Natural Language Processing\\assignment1\\venv\\lib\\site-packages\\keras\\engine\\training.py:2040\u001b[0m, in \u001b[0;36mModel.evaluate\u001b[1;34m(self, x, y, batch_size, verbose, sample_weight, steps, callbacks, max_queue_size, workers, use_multiprocessing, return_dict, **kwargs)\u001b[0m\n\u001b[0;32m   2036\u001b[0m \u001b[39mwith\u001b[39;00m tf\u001b[39m.\u001b[39mprofiler\u001b[39m.\u001b[39mexperimental\u001b[39m.\u001b[39mTrace(\n\u001b[0;32m   2037\u001b[0m     \u001b[39m\"\u001b[39m\u001b[39mtest\u001b[39m\u001b[39m\"\u001b[39m, step_num\u001b[39m=\u001b[39mstep, _r\u001b[39m=\u001b[39m\u001b[39m1\u001b[39m\n\u001b[0;32m   2038\u001b[0m ):\n\u001b[0;32m   2039\u001b[0m     callbacks\u001b[39m.\u001b[39mon_test_batch_begin(step)\n\u001b[1;32m-> 2040\u001b[0m     tmp_logs \u001b[39m=\u001b[39m \u001b[39mself\u001b[39;49m\u001b[39m.\u001b[39;49mtest_function(iterator)\n\u001b[0;32m   2041\u001b[0m     \u001b[39mif\u001b[39;00m data_handler\u001b[39m.\u001b[39mshould_sync:\n\u001b[0;32m   2042\u001b[0m         context\u001b[39m.\u001b[39masync_wait()\n",
      "File \u001b[1;32mc:\\Simone\\Programmazione\\Universita\\Natural Language Processing\\assignment1\\venv\\lib\\site-packages\\tensorflow\\python\\util\\traceback_utils.py:150\u001b[0m, in \u001b[0;36mfilter_traceback.<locals>.error_handler\u001b[1;34m(*args, **kwargs)\u001b[0m\n\u001b[0;32m    148\u001b[0m filtered_tb \u001b[39m=\u001b[39m \u001b[39mNone\u001b[39;00m\n\u001b[0;32m    149\u001b[0m \u001b[39mtry\u001b[39;00m:\n\u001b[1;32m--> 150\u001b[0m   \u001b[39mreturn\u001b[39;00m fn(\u001b[39m*\u001b[39margs, \u001b[39m*\u001b[39m\u001b[39m*\u001b[39mkwargs)\n\u001b[0;32m    151\u001b[0m \u001b[39mexcept\u001b[39;00m \u001b[39mException\u001b[39;00m \u001b[39mas\u001b[39;00m e:\n\u001b[0;32m    152\u001b[0m   filtered_tb \u001b[39m=\u001b[39m _process_traceback_frames(e\u001b[39m.\u001b[39m__traceback__)\n",
      "File \u001b[1;32mc:\\Simone\\Programmazione\\Universita\\Natural Language Processing\\assignment1\\venv\\lib\\site-packages\\tensorflow\\python\\eager\\polymorphic_function\\polymorphic_function.py:880\u001b[0m, in \u001b[0;36mFunction.__call__\u001b[1;34m(self, *args, **kwds)\u001b[0m\n\u001b[0;32m    877\u001b[0m compiler \u001b[39m=\u001b[39m \u001b[39m\"\u001b[39m\u001b[39mxla\u001b[39m\u001b[39m\"\u001b[39m \u001b[39mif\u001b[39;00m \u001b[39mself\u001b[39m\u001b[39m.\u001b[39m_jit_compile \u001b[39melse\u001b[39;00m \u001b[39m\"\u001b[39m\u001b[39mnonXla\u001b[39m\u001b[39m\"\u001b[39m\n\u001b[0;32m    879\u001b[0m \u001b[39mwith\u001b[39;00m OptionalXlaContext(\u001b[39mself\u001b[39m\u001b[39m.\u001b[39m_jit_compile):\n\u001b[1;32m--> 880\u001b[0m   result \u001b[39m=\u001b[39m \u001b[39mself\u001b[39m\u001b[39m.\u001b[39m_call(\u001b[39m*\u001b[39margs, \u001b[39m*\u001b[39m\u001b[39m*\u001b[39mkwds)\n\u001b[0;32m    882\u001b[0m new_tracing_count \u001b[39m=\u001b[39m \u001b[39mself\u001b[39m\u001b[39m.\u001b[39mexperimental_get_tracing_count()\n\u001b[0;32m    883\u001b[0m without_tracing \u001b[39m=\u001b[39m (tracing_count \u001b[39m==\u001b[39m new_tracing_count)\n",
      "File \u001b[1;32mc:\\Simone\\Programmazione\\Universita\\Natural Language Processing\\assignment1\\venv\\lib\\site-packages\\tensorflow\\python\\eager\\polymorphic_function\\polymorphic_function.py:952\u001b[0m, in \u001b[0;36mFunction._call\u001b[1;34m(self, *args, **kwds)\u001b[0m\n\u001b[0;32m    947\u001b[0m   _, _, filtered_flat_args \u001b[39m=\u001b[39m (\n\u001b[0;32m    948\u001b[0m       \u001b[39mself\u001b[39m\u001b[39m.\u001b[39m_variable_creation_fn\u001b[39m.\u001b[39m_function_spec  \u001b[39m# pylint: disable=protected-access\u001b[39;00m\n\u001b[0;32m    949\u001b[0m       \u001b[39m.\u001b[39mcanonicalize_function_inputs(\n\u001b[0;32m    950\u001b[0m           args, kwds))\n\u001b[0;32m    951\u001b[0m   \u001b[39m# If we did not create any variables the trace we have is good enough.\u001b[39;00m\n\u001b[1;32m--> 952\u001b[0m   \u001b[39mreturn\u001b[39;00m \u001b[39mself\u001b[39;49m\u001b[39m.\u001b[39;49m_concrete_variable_creation_fn\u001b[39m.\u001b[39;49m_call_flat(   \u001b[39m# pylint: disable=protected-access\u001b[39;49;00m\n\u001b[0;32m    953\u001b[0m       filtered_flat_args,\n\u001b[0;32m    954\u001b[0m       \u001b[39mself\u001b[39;49m\u001b[39m.\u001b[39;49m_concrete_variable_creation_fn\u001b[39m.\u001b[39;49mcaptured_inputs)\n\u001b[0;32m    956\u001b[0m \u001b[39mdef\u001b[39;00m \u001b[39mfn_with_cond\u001b[39m(inner_args, inner_kwds, inner_filtered_flat_args):\n\u001b[0;32m    957\u001b[0m   \u001b[39m\"\"\"Conditionally runs initialization if it's needed.\"\"\"\u001b[39;00m\n",
      "File \u001b[1;32mc:\\Simone\\Programmazione\\Universita\\Natural Language Processing\\assignment1\\venv\\lib\\site-packages\\tensorflow\\python\\eager\\polymorphic_function\\monomorphic_function.py:1745\u001b[0m, in \u001b[0;36mConcreteFunction._call_flat\u001b[1;34m(self, args, captured_inputs, cancellation_manager)\u001b[0m\n\u001b[0;32m   1741\u001b[0m possible_gradient_type \u001b[39m=\u001b[39m gradients_util\u001b[39m.\u001b[39mPossibleTapeGradientTypes(args)\n\u001b[0;32m   1742\u001b[0m \u001b[39mif\u001b[39;00m (possible_gradient_type \u001b[39m==\u001b[39m gradients_util\u001b[39m.\u001b[39mPOSSIBLE_GRADIENT_TYPES_NONE\n\u001b[0;32m   1743\u001b[0m     \u001b[39mand\u001b[39;00m executing_eagerly):\n\u001b[0;32m   1744\u001b[0m   \u001b[39m# No tape is watching; skip to running the function.\u001b[39;00m\n\u001b[1;32m-> 1745\u001b[0m   \u001b[39mreturn\u001b[39;00m \u001b[39mself\u001b[39m\u001b[39m.\u001b[39m_build_call_outputs(\u001b[39mself\u001b[39;49m\u001b[39m.\u001b[39;49m_inference_function\u001b[39m.\u001b[39;49mcall(\n\u001b[0;32m   1746\u001b[0m       ctx, args, cancellation_manager\u001b[39m=\u001b[39;49mcancellation_manager))\n\u001b[0;32m   1747\u001b[0m forward_backward \u001b[39m=\u001b[39m \u001b[39mself\u001b[39m\u001b[39m.\u001b[39m_select_forward_and_backward_functions(\n\u001b[0;32m   1748\u001b[0m     args,\n\u001b[0;32m   1749\u001b[0m     possible_gradient_type,\n\u001b[0;32m   1750\u001b[0m     executing_eagerly)\n\u001b[0;32m   1751\u001b[0m forward_function, args_with_tangents \u001b[39m=\u001b[39m forward_backward\u001b[39m.\u001b[39mforward()\n",
      "File \u001b[1;32mc:\\Simone\\Programmazione\\Universita\\Natural Language Processing\\assignment1\\venv\\lib\\site-packages\\tensorflow\\python\\eager\\polymorphic_function\\monomorphic_function.py:378\u001b[0m, in \u001b[0;36m_EagerDefinedFunction.call\u001b[1;34m(self, ctx, args, cancellation_manager)\u001b[0m\n\u001b[0;32m    376\u001b[0m \u001b[39mwith\u001b[39;00m _InterpolateFunctionError(\u001b[39mself\u001b[39m):\n\u001b[0;32m    377\u001b[0m   \u001b[39mif\u001b[39;00m cancellation_manager \u001b[39mis\u001b[39;00m \u001b[39mNone\u001b[39;00m:\n\u001b[1;32m--> 378\u001b[0m     outputs \u001b[39m=\u001b[39m execute\u001b[39m.\u001b[39;49mexecute(\n\u001b[0;32m    379\u001b[0m         \u001b[39mstr\u001b[39;49m(\u001b[39mself\u001b[39;49m\u001b[39m.\u001b[39;49msignature\u001b[39m.\u001b[39;49mname),\n\u001b[0;32m    380\u001b[0m         num_outputs\u001b[39m=\u001b[39;49m\u001b[39mself\u001b[39;49m\u001b[39m.\u001b[39;49m_num_outputs,\n\u001b[0;32m    381\u001b[0m         inputs\u001b[39m=\u001b[39;49margs,\n\u001b[0;32m    382\u001b[0m         attrs\u001b[39m=\u001b[39;49mattrs,\n\u001b[0;32m    383\u001b[0m         ctx\u001b[39m=\u001b[39;49mctx)\n\u001b[0;32m    384\u001b[0m   \u001b[39melse\u001b[39;00m:\n\u001b[0;32m    385\u001b[0m     outputs \u001b[39m=\u001b[39m execute\u001b[39m.\u001b[39mexecute_with_cancellation(\n\u001b[0;32m    386\u001b[0m         \u001b[39mstr\u001b[39m(\u001b[39mself\u001b[39m\u001b[39m.\u001b[39msignature\u001b[39m.\u001b[39mname),\n\u001b[0;32m    387\u001b[0m         num_outputs\u001b[39m=\u001b[39m\u001b[39mself\u001b[39m\u001b[39m.\u001b[39m_num_outputs,\n\u001b[1;32m   (...)\u001b[0m\n\u001b[0;32m    390\u001b[0m         ctx\u001b[39m=\u001b[39mctx,\n\u001b[0;32m    391\u001b[0m         cancellation_manager\u001b[39m=\u001b[39mcancellation_manager)\n",
      "File \u001b[1;32mc:\\Simone\\Programmazione\\Universita\\Natural Language Processing\\assignment1\\venv\\lib\\site-packages\\tensorflow\\python\\eager\\execute.py:52\u001b[0m, in \u001b[0;36mquick_execute\u001b[1;34m(op_name, num_outputs, inputs, attrs, ctx, name)\u001b[0m\n\u001b[0;32m     50\u001b[0m \u001b[39mtry\u001b[39;00m:\n\u001b[0;32m     51\u001b[0m   ctx\u001b[39m.\u001b[39mensure_initialized()\n\u001b[1;32m---> 52\u001b[0m   tensors \u001b[39m=\u001b[39m pywrap_tfe\u001b[39m.\u001b[39;49mTFE_Py_Execute(ctx\u001b[39m.\u001b[39;49m_handle, device_name, op_name,\n\u001b[0;32m     53\u001b[0m                                       inputs, attrs, num_outputs)\n\u001b[0;32m     54\u001b[0m \u001b[39mexcept\u001b[39;00m core\u001b[39m.\u001b[39m_NotOkStatusException \u001b[39mas\u001b[39;00m e:\n\u001b[0;32m     55\u001b[0m   \u001b[39mif\u001b[39;00m name \u001b[39mis\u001b[39;00m \u001b[39mnot\u001b[39;00m \u001b[39mNone\u001b[39;00m:\n",
      "\u001b[1;31mKeyboardInterrupt\u001b[0m: "
     ]
    }
   ],
   "source": [
    "tuner.search(**search_info)\n",
    "tuner.results_summary()"
   ]
  },
  {
   "cell_type": "markdown",
   "metadata": {},
   "source": [
    "## 8.2 Tune preprocessing and embedding strategies"
   ]
  },
  {
   "cell_type": "markdown",
   "metadata": {},
   "source": [
    "Since words in Glove are lower case, it doesn't make sense not to lowerize texts at all. Therefore, we compare the two text strategies first"
   ]
  },
  {
   "cell_type": "markdown",
   "metadata": {},
   "source": [
    "embedding_strategies={\n",
    "  'text_strategy': [None, 'lower', 'lower_up'],\n",
    "  'number_strategy': [None, 'token'],\n",
    "  'composed_words': [False, True],\n",
    "}"
   ]
  },
  {
   "cell_type": "markdown",
   "metadata": {},
   "source": [
    "## 8.3 Model Selection"
   ]
  },
  {
   "cell_type": "code",
   "execution_count": null,
   "metadata": {
    "colab": {
     "base_uri": "https://localhost:8080/"
    },
    "id": "jzEEhm6Q40ho",
    "outputId": "57b54bff-31ed-48cf-f5c6-186994b61ba5"
   },
   "outputs": [],
   "source": [
    "print('Banned tags with support > 0')\n",
    "tags = np.unique(y_pred[tf_in(y_pred, evaluator.banned_tags)])\n",
    "tags = label_encoder.ids_to_tokens(tags)\n",
    "print(tags)"
   ]
  },
  {
   "cell_type": "code",
   "execution_count": null,
   "metadata": {
    "colab": {
     "base_uri": "https://localhost:8080/",
     "height": 819
    },
    "id": "EICGzjcI40hp",
    "outputId": "9e8b0ff9-e6a0-45a9-ef06-914c16e6ec7b"
   },
   "outputs": [],
   "source": [
    "labels = valid_labels + punctuation_tags\n",
    "encoded_labels = list(label_encoder.tokens_to_ids(labels))\n",
    "\n",
    "fig, ax = plt.subplots(figsize=(25,15))\n",
    "cm = confusion_matrix(y_true=y_true, y_pred=y_pred, labels=encoded_labels)\n",
    "ConfusionMatrixDisplay(cm, display_labels=labels).plot(cmap='Blues', xticks_rotation='vertical', ax=ax);"
   ]
  },
  {
   "cell_type": "markdown",
   "metadata": {
    "id": "KgrxsD98UeXV"
   },
   "source": [
    "# 2 Model Selection and Hypeparameters Tuning"
   ]
  },
  {
   "cell_type": "code",
   "execution_count": null,
   "metadata": {
    "id": "E2VQfVJtClnB"
   },
   "outputs": [],
   "source": []
  },
  {
   "cell_type": "code",
   "execution_count": null,
   "metadata": {
    "colab": {
     "base_uri": "https://localhost:8080/"
    },
    "id": "Vd4vXa9XT38I",
    "outputId": "fc1b79c3-89b4-4a24-c99c-5874e81bbd11"
   },
   "outputs": [],
   "source": [
    "trials = 2\n",
    "epochs = 1\n",
    "tuner = keras_tuner.BayesianOptimization(\n",
    "    hypermodel=hypermodel,\n",
    "    # No objective to specify.\n",
    "    # Objective is the return value of `HyperModel.fit()`.\n",
    "    max_trials=trials,\n",
    "    num_initial_points=None,\n",
    "    project_name=\"tuning\",\n",
    "    overwrite=True,\n",
    "    seed=current_seed()\n",
    ")\n",
    "tuner.search_space_summary()\n",
    "tuner.search(x=train_dataloader, validation_data=val_dataloader, epochs=epochs)"
   ]
  },
  {
   "cell_type": "code",
   "execution_count": null,
   "metadata": {
    "colab": {
     "base_uri": "https://localhost:8080/"
    },
    "id": "OUtlQXwQ6Qd5",
    "outputId": "51489e16-1095-4131-8592-dfaaf61319d7"
   },
   "outputs": [],
   "source": [
    "tuner.results_summary()"
   ]
  },
  {
   "cell_type": "code",
   "execution_count": null,
   "metadata": {
    "colab": {
     "base_uri": "https://localhost:8080/",
     "height": 168
    },
    "id": "eQBuENMGAulY",
    "outputId": "c0d442e7-8749-499c-8193-a1acb28b5adc"
   },
   "outputs": [],
   "source": [
    "best_hps = tuner.get_best_hyperparameters(5)\n",
    "# Build the model with the best hp.\n",
    "model = build_model(best_hps[0])\n",
    "# Fit with the entire dataset.\n",
    "x_all = np.concatenate((x_train, x_val))\n",
    "y_all = np.concatenate((y_train, y_val))\n",
    "model.fit(x=x_all, y=y_all, epochs=1)"
   ]
  },
  {
   "cell_type": "code",
   "execution_count": null,
   "metadata": {
    "id": "C4PFSfDI9-Ns"
   },
   "outputs": [],
   "source": []
  }
 ],
 "metadata": {
  "accelerator": "GPU",
  "colab": {
   "provenance": [],
   "toc_visible": true
  },
  "gpuClass": "standard",
  "kernelspec": {
   "display_name": "venv",
   "language": "python",
   "name": "venv"
  },
  "language_info": {
   "codemirror_mode": {
    "name": "ipython",
    "version": 3
   },
   "file_extension": ".py",
   "mimetype": "text/x-python",
   "name": "python",
   "nbconvert_exporter": "python",
   "pygments_lexer": "ipython3",
   "version": "3.10.4"
  },
  "vscode": {
   "interpreter": {
    "hash": "87646046d83f24d1dd9833a107c894e8ade75840fe89566aec5fa45c9fddbd9a"
   }
  }
 },
 "nbformat": 4,
 "nbformat_minor": 1
}
