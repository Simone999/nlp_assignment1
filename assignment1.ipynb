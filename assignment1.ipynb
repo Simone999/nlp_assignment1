{
  "nbformat": 4,
  "nbformat_minor": 0,
  "metadata": {
    "colab": {
      "provenance": [],
      "toc_visible": true,
      "include_colab_link": true
    },
    "kernelspec": {
      "name": "python3",
      "display_name": "Python 3"
    },
    "language_info": {
      "name": "python"
    }
  },
  "cells": [
    {
      "cell_type": "markdown",
      "metadata": {
        "id": "view-in-github",
        "colab_type": "text"
      },
      "source": [
        "<a href=\"https://colab.research.google.com/github/Simone999/nlp_assignment1/blob/main/assignment1.ipynb\" target=\"_parent\"><img src=\"https://colab.research.google.com/assets/colab-badge.svg\" alt=\"Open In Colab\"/></a>"
      ]
    },
    {
      "cell_type": "code",
      "source": [
        "!pip install tensorflow_addons"
      ],
      "metadata": {
        "colab": {
          "base_uri": "https://localhost:8080/"
        },
        "id": "hllqPdIVvxO8",
        "outputId": "671e866c-506f-4d83-fadc-324461d60ec4"
      },
      "execution_count": null,
      "outputs": [
        {
          "output_type": "stream",
          "name": "stdout",
          "text": [
            "Looking in indexes: https://pypi.org/simple, https://us-python.pkg.dev/colab-wheels/public/simple/\n",
            "Collecting tensorflow_addons\n",
            "  Downloading tensorflow_addons-0.19.0-cp38-cp38-manylinux_2_17_x86_64.manylinux2014_x86_64.whl (1.1 MB)\n",
            "\u001b[K     |████████████████████████████████| 1.1 MB 4.8 MB/s \n",
            "\u001b[?25hRequirement already satisfied: typeguard>=2.7 in /usr/local/lib/python3.8/dist-packages (from tensorflow_addons) (2.7.1)\n",
            "Requirement already satisfied: packaging in /usr/local/lib/python3.8/dist-packages (from tensorflow_addons) (21.3)\n",
            "Requirement already satisfied: pyparsing!=3.0.5,>=2.0.2 in /usr/local/lib/python3.8/dist-packages (from packaging->tensorflow_addons) (3.0.9)\n",
            "Installing collected packages: tensorflow-addons\n",
            "Successfully installed tensorflow-addons-0.19.0\n"
          ]
        }
      ]
    },
    {
      "cell_type": "code",
      "execution_count": null,
      "metadata": {
        "id": "s11XVB5v9JzV"
      },
      "outputs": [],
      "source": [
        "import os\n",
        "import functools\n",
        "from typing import List, Callable, Dict, Iterable\n",
        "from tqdm import tqdm\n",
        "\n",
        "import pandas as pd\n",
        "import numpy as np\n",
        "import matplotlib.pyplot as plt\n",
        "import seaborn as sns\n",
        "\n",
        "import tensorflow as tf\n",
        "import tensorflow_addons as tfa\n",
        "import keras as ks\n",
        "\n",
        "from sklearn.metrics import classification_report, f1_score, confusion_matrix, ConfusionMatrixDisplay"
      ]
    },
    {
      "cell_type": "code",
      "source": [
        "from google.colab import drive\n",
        "drive.mount('/content/drive')\n",
        "!cp -r \"/content/drive/My Drive/dependency_treebank\" \"dependency_treebank\""
      ],
      "metadata": {
        "colab": {
          "base_uri": "https://localhost:8080/"
        },
        "id": "3yi5UK4UNI6n",
        "outputId": "3b858434-af19-466d-b3f9-fd384e9fb6ab"
      },
      "execution_count": null,
      "outputs": [
        {
          "output_type": "stream",
          "name": "stdout",
          "text": [
            "Mounted at /content/drive\n"
          ]
        }
      ]
    },
    {
      "cell_type": "markdown",
      "source": [
        "structuring dataframe"
      ],
      "metadata": {
        "id": "PGVohBYSOmcN"
      }
    },
    {
      "cell_type": "markdown",
      "source": [],
      "metadata": {
        "id": "gs6oRs8NzFfh"
      }
    },
    {
      "cell_type": "code",
      "source": [
        "dataset_name = \"dependency_treebank\"\n",
        "dataset_path = os.path.join(os.getcwd(), dataset_name)\n",
        "end_train = 100\n",
        "end_validation = 150\n",
        "end_test = 199\n",
        "\n",
        "def create_dataset(start, end, split:str):\n",
        "  tagged_sentences = []\n",
        "  for data_file in range(start, end+1):\n",
        "    filename = os.path.join(dataset_path, \"wsj_%04d.dp\" % data_file)\n",
        "    with open(filename, mode='r', encoding='utf-8') as text_file:  \n",
        "      corpus = text_file.read()\n",
        "      tagged_sentences += corpus.split(\"\\n\\n\")\n",
        "\n",
        "  X = [] # store input sequence\n",
        "  Y = [] # store output sequence\n",
        "  for sentence in tqdm(tagged_sentences):\n",
        "      X_sentence = []\n",
        "      Y_sentence = []\n",
        "\n",
        "      for tagged_word in sentence.rstrip('\\n').split(\"\\n\"):       \n",
        "          entity = tagged_word.split(\"\\t\")\n",
        "          X_sentence.append(entity[0])  # entity[0] contains the word\n",
        "          Y_sentence.append(entity[1])  # entity[1] contains corresponding tag          \n",
        "      X.append(X_sentence)\n",
        "      Y.append(Y_sentence)\n",
        "\n",
        "  assert len(tagged_sentences) == len(X)\n",
        "\n",
        "  df = pd.DataFrame({'sentence':X, 'tags':Y})\n",
        "  df['split'] = split\n",
        "  return df\n",
        "\n",
        "train_set = create_dataset(1, end_train, 'train')\n",
        "val_set = create_dataset(end_train+1, end_validation, 'validation')\n",
        "test_set = create_dataset(end_validation, end_test, 'test')\n",
        "dataset = pd.concat([train_set, val_set, test_set])\n",
        "\n",
        "dataset"
      ],
      "metadata": {
        "id": "91ID5ISrBFIW",
        "colab": {
          "base_uri": "https://localhost:8080/",
          "height": 476
        },
        "outputId": "955590f6-522d-49d2-e03b-8aebbf2e34ee"
      },
      "execution_count": null,
      "outputs": [
        {
          "output_type": "stream",
          "name": "stderr",
          "text": [
            "100%|██████████| 1963/1963 [00:00<00:00, 63622.74it/s]\n",
            "100%|██████████| 1299/1299 [00:00<00:00, 61181.55it/s]\n",
            "100%|██████████| 661/661 [00:00<00:00, 38223.61it/s]\n"
          ]
        },
        {
          "output_type": "execute_result",
          "data": {
            "text/plain": [
              "                                              sentence  \\\n",
              "0    [Pierre, Vinken, ,, 61, years, old, ,, will, j...   \n",
              "1    [Mr., Vinken, is, chairman, of, Elsevier, N.V....   \n",
              "2    [Rudolph, Agnew, ,, 55, years, old, and, forme...   \n",
              "3    [A, form, of, asbestos, once, used, to, make, ...   \n",
              "4    [The, asbestos, fiber, ,, crocidolite, ,, is, ...   \n",
              "..                                                 ...   \n",
              "656  [They, also, said, that, more, than, a, dozen,...   \n",
              "657  [Sen., Kennedy, said, in, a, separate, stateme...   \n",
              "658  [Trinity, Industries, Inc., said, it, reached,...   \n",
              "659                   [Terms, were, n't, disclosed, .]   \n",
              "660  [Trinity, said, it, plans, to, begin, delivery...   \n",
              "\n",
              "                                                  tags  split  \n",
              "0    [NNP, NNP, ,, CD, NNS, JJ, ,, MD, VB, DT, NN, ...  train  \n",
              "1    [NNP, NNP, VBZ, NN, IN, NNP, NNP, ,, DT, NNP, ...  train  \n",
              "2    [NNP, NNP, ,, CD, NNS, JJ, CC, JJ, NN, IN, NNP...  train  \n",
              "3    [DT, NN, IN, NN, RB, VBN, TO, VB, NNP, NN, NNS...  train  \n",
              "4    [DT, NN, NN, ,, NN, ,, VBZ, RB, JJ, IN, PRP, V...  train  \n",
              "..                                                 ...    ...  \n",
              "656  [PRP, RB, VBD, IN, JJR, IN, DT, NN, NNS, VBP, ...   test  \n",
              "657  [NNP, NNP, VBD, IN, DT, JJ, NN, IN, PRP, VBZ, ...   test  \n",
              "658  [NNP, NNPS, NNP, VBD, PRP, VBD, DT, JJ, NN, TO...   test  \n",
              "659                             [NNS, VBD, RB, VBN, .]   test  \n",
              "660  [NNP, VBD, PRP, VBZ, TO, VB, NN, IN, DT, JJ, N...   test  \n",
              "\n",
              "[3923 rows x 3 columns]"
            ],
            "text/html": [
              "\n",
              "  <div id=\"df-f179d33e-649f-474f-9228-6d47103d8f9e\">\n",
              "    <div class=\"colab-df-container\">\n",
              "      <div>\n",
              "<style scoped>\n",
              "    .dataframe tbody tr th:only-of-type {\n",
              "        vertical-align: middle;\n",
              "    }\n",
              "\n",
              "    .dataframe tbody tr th {\n",
              "        vertical-align: top;\n",
              "    }\n",
              "\n",
              "    .dataframe thead th {\n",
              "        text-align: right;\n",
              "    }\n",
              "</style>\n",
              "<table border=\"1\" class=\"dataframe\">\n",
              "  <thead>\n",
              "    <tr style=\"text-align: right;\">\n",
              "      <th></th>\n",
              "      <th>sentence</th>\n",
              "      <th>tags</th>\n",
              "      <th>split</th>\n",
              "    </tr>\n",
              "  </thead>\n",
              "  <tbody>\n",
              "    <tr>\n",
              "      <th>0</th>\n",
              "      <td>[Pierre, Vinken, ,, 61, years, old, ,, will, j...</td>\n",
              "      <td>[NNP, NNP, ,, CD, NNS, JJ, ,, MD, VB, DT, NN, ...</td>\n",
              "      <td>train</td>\n",
              "    </tr>\n",
              "    <tr>\n",
              "      <th>1</th>\n",
              "      <td>[Mr., Vinken, is, chairman, of, Elsevier, N.V....</td>\n",
              "      <td>[NNP, NNP, VBZ, NN, IN, NNP, NNP, ,, DT, NNP, ...</td>\n",
              "      <td>train</td>\n",
              "    </tr>\n",
              "    <tr>\n",
              "      <th>2</th>\n",
              "      <td>[Rudolph, Agnew, ,, 55, years, old, and, forme...</td>\n",
              "      <td>[NNP, NNP, ,, CD, NNS, JJ, CC, JJ, NN, IN, NNP...</td>\n",
              "      <td>train</td>\n",
              "    </tr>\n",
              "    <tr>\n",
              "      <th>3</th>\n",
              "      <td>[A, form, of, asbestos, once, used, to, make, ...</td>\n",
              "      <td>[DT, NN, IN, NN, RB, VBN, TO, VB, NNP, NN, NNS...</td>\n",
              "      <td>train</td>\n",
              "    </tr>\n",
              "    <tr>\n",
              "      <th>4</th>\n",
              "      <td>[The, asbestos, fiber, ,, crocidolite, ,, is, ...</td>\n",
              "      <td>[DT, NN, NN, ,, NN, ,, VBZ, RB, JJ, IN, PRP, V...</td>\n",
              "      <td>train</td>\n",
              "    </tr>\n",
              "    <tr>\n",
              "      <th>...</th>\n",
              "      <td>...</td>\n",
              "      <td>...</td>\n",
              "      <td>...</td>\n",
              "    </tr>\n",
              "    <tr>\n",
              "      <th>656</th>\n",
              "      <td>[They, also, said, that, more, than, a, dozen,...</td>\n",
              "      <td>[PRP, RB, VBD, IN, JJR, IN, DT, NN, NNS, VBP, ...</td>\n",
              "      <td>test</td>\n",
              "    </tr>\n",
              "    <tr>\n",
              "      <th>657</th>\n",
              "      <td>[Sen., Kennedy, said, in, a, separate, stateme...</td>\n",
              "      <td>[NNP, NNP, VBD, IN, DT, JJ, NN, IN, PRP, VBZ, ...</td>\n",
              "      <td>test</td>\n",
              "    </tr>\n",
              "    <tr>\n",
              "      <th>658</th>\n",
              "      <td>[Trinity, Industries, Inc., said, it, reached,...</td>\n",
              "      <td>[NNP, NNPS, NNP, VBD, PRP, VBD, DT, JJ, NN, TO...</td>\n",
              "      <td>test</td>\n",
              "    </tr>\n",
              "    <tr>\n",
              "      <th>659</th>\n",
              "      <td>[Terms, were, n't, disclosed, .]</td>\n",
              "      <td>[NNS, VBD, RB, VBN, .]</td>\n",
              "      <td>test</td>\n",
              "    </tr>\n",
              "    <tr>\n",
              "      <th>660</th>\n",
              "      <td>[Trinity, said, it, plans, to, begin, delivery...</td>\n",
              "      <td>[NNP, VBD, PRP, VBZ, TO, VB, NN, IN, DT, JJ, N...</td>\n",
              "      <td>test</td>\n",
              "    </tr>\n",
              "  </tbody>\n",
              "</table>\n",
              "<p>3923 rows × 3 columns</p>\n",
              "</div>\n",
              "      <button class=\"colab-df-convert\" onclick=\"convertToInteractive('df-f179d33e-649f-474f-9228-6d47103d8f9e')\"\n",
              "              title=\"Convert this dataframe to an interactive table.\"\n",
              "              style=\"display:none;\">\n",
              "        \n",
              "  <svg xmlns=\"http://www.w3.org/2000/svg\" height=\"24px\"viewBox=\"0 0 24 24\"\n",
              "       width=\"24px\">\n",
              "    <path d=\"M0 0h24v24H0V0z\" fill=\"none\"/>\n",
              "    <path d=\"M18.56 5.44l.94 2.06.94-2.06 2.06-.94-2.06-.94-.94-2.06-.94 2.06-2.06.94zm-11 1L8.5 8.5l.94-2.06 2.06-.94-2.06-.94L8.5 2.5l-.94 2.06-2.06.94zm10 10l.94 2.06.94-2.06 2.06-.94-2.06-.94-.94-2.06-.94 2.06-2.06.94z\"/><path d=\"M17.41 7.96l-1.37-1.37c-.4-.4-.92-.59-1.43-.59-.52 0-1.04.2-1.43.59L10.3 9.45l-7.72 7.72c-.78.78-.78 2.05 0 2.83L4 21.41c.39.39.9.59 1.41.59.51 0 1.02-.2 1.41-.59l7.78-7.78 2.81-2.81c.8-.78.8-2.07 0-2.86zM5.41 20L4 18.59l7.72-7.72 1.47 1.35L5.41 20z\"/>\n",
              "  </svg>\n",
              "      </button>\n",
              "      \n",
              "  <style>\n",
              "    .colab-df-container {\n",
              "      display:flex;\n",
              "      flex-wrap:wrap;\n",
              "      gap: 12px;\n",
              "    }\n",
              "\n",
              "    .colab-df-convert {\n",
              "      background-color: #E8F0FE;\n",
              "      border: none;\n",
              "      border-radius: 50%;\n",
              "      cursor: pointer;\n",
              "      display: none;\n",
              "      fill: #1967D2;\n",
              "      height: 32px;\n",
              "      padding: 0 0 0 0;\n",
              "      width: 32px;\n",
              "    }\n",
              "\n",
              "    .colab-df-convert:hover {\n",
              "      background-color: #E2EBFA;\n",
              "      box-shadow: 0px 1px 2px rgba(60, 64, 67, 0.3), 0px 1px 3px 1px rgba(60, 64, 67, 0.15);\n",
              "      fill: #174EA6;\n",
              "    }\n",
              "\n",
              "    [theme=dark] .colab-df-convert {\n",
              "      background-color: #3B4455;\n",
              "      fill: #D2E3FC;\n",
              "    }\n",
              "\n",
              "    [theme=dark] .colab-df-convert:hover {\n",
              "      background-color: #434B5C;\n",
              "      box-shadow: 0px 1px 3px 1px rgba(0, 0, 0, 0.15);\n",
              "      filter: drop-shadow(0px 1px 2px rgba(0, 0, 0, 0.3));\n",
              "      fill: #FFFFFF;\n",
              "    }\n",
              "  </style>\n",
              "\n",
              "      <script>\n",
              "        const buttonEl =\n",
              "          document.querySelector('#df-f179d33e-649f-474f-9228-6d47103d8f9e button.colab-df-convert');\n",
              "        buttonEl.style.display =\n",
              "          google.colab.kernel.accessAllowed ? 'block' : 'none';\n",
              "\n",
              "        async function convertToInteractive(key) {\n",
              "          const element = document.querySelector('#df-f179d33e-649f-474f-9228-6d47103d8f9e');\n",
              "          const dataTable =\n",
              "            await google.colab.kernel.invokeFunction('convertToInteractive',\n",
              "                                                     [key], {});\n",
              "          if (!dataTable) return;\n",
              "\n",
              "          const docLinkHtml = 'Like what you see? Visit the ' +\n",
              "            '<a target=\"_blank\" href=https://colab.research.google.com/notebooks/data_table.ipynb>data table notebook</a>'\n",
              "            + ' to learn more about interactive tables.';\n",
              "          element.innerHTML = '';\n",
              "          dataTable['output_type'] = 'display_data';\n",
              "          await google.colab.output.renderOutput(dataTable, element);\n",
              "          const docLink = document.createElement('div');\n",
              "          docLink.innerHTML = docLinkHtml;\n",
              "          element.appendChild(docLink);\n",
              "        }\n",
              "      </script>\n",
              "    </div>\n",
              "  </div>\n",
              "  "
            ]
          },
          "metadata": {},
          "execution_count": 4
        }
      ]
    },
    {
      "cell_type": "code",
      "source": [
        "words = set([word.lower() for sentence in dataset.sentence for word in sentence])\n",
        "tags = list(set([tag for sentence in dataset.tags for tag in sentence]))\n",
        "n_words = len(words)\n",
        "n_tags   = len(tags)\n",
        "\n",
        "print(\"Total number of tagged sentences: {}\".format(len(dataset)))\n",
        "print(\"Vocabulary size: {}\".format(n_words))\n",
        "print(\"Total number of tags: {}\".format(n_tags))\n",
        "print()\n",
        "print('Tags')\n",
        "print(tags)"
      ],
      "metadata": {
        "colab": {
          "base_uri": "https://localhost:8080/"
        },
        "id": "Us9lT6vuQ7lK",
        "outputId": "3333ac95-d96e-4589-bbdc-e31b25749a61"
      },
      "execution_count": null,
      "outputs": [
        {
          "output_type": "stream",
          "name": "stdout",
          "text": [
            "Total number of tagged sentences: 3923\n",
            "Vocabulary size: 10947\n",
            "Total number of tags: 45\n",
            "\n",
            "Tags\n",
            "[\"''\", 'NNS', 'RBS', 'VB', ':', 'PRP$', 'NN', 'JJ', 'VBN', 'VBP', 'WP', 'UH', ',', 'NNP', 'CC', 'JJR', 'EX', 'RBR', 'FW', 'SYM', 'VBZ', 'MD', '-LRB-', '``', 'WRB', '#', 'JJS', 'RP', 'WDT', 'NNPS', 'CD', 'VBG', 'DT', 'IN', 'POS', 'RB', 'PRP', '$', 'PDT', '-RRB-', '.', 'VBD', 'WP$', 'TO', 'LS']\n"
          ]
        }
      ]
    },
    {
      "cell_type": "code",
      "source": [
        "# Plot label distributions\n",
        "\n",
        "def flatten(arr):\n",
        "  return [item for sublist in arr for item in sublist]\n",
        "\n",
        "def flatten_tags_by_split(dataset):\n",
        "  train_data = flatten(dataset.loc[dataset['split'] == 'train', 'tags'])\n",
        "  val_data = flatten(dataset.loc[dataset['split'] == 'validation', 'tags'])\n",
        "  test_data = flatten(dataset.loc[dataset['split'] == 'test', 'tags'])\n",
        "\n",
        "  train_data = pd.DataFrame(train_data, columns=['tag'])\n",
        "  train_data['split'] = 'train'\n",
        "  val_data = pd.DataFrame(val_data, columns=['tag'])\n",
        "  val_data['split'] = 'val'\n",
        "  test_data = pd.DataFrame(test_data, columns=['tag'])\n",
        "  test_data['split'] = 'test'\n",
        "\n",
        "  return pd.concat([train_data, val_data, test_data])\n",
        "\n",
        "def plot_tags_distribution(data, title: str):\n",
        "    fig, ax = plt.subplots(figsize=(20, 10))\n",
        "    (data\n",
        "    .groupby('split')['tag']\n",
        "    .value_counts(normalize=True)\n",
        "    .mul(100)\n",
        "    .rename('frequency')\n",
        "    .reset_index()\n",
        "    .pipe((sns.barplot,'data'), x='tag', y='frequency', hue='split', ax=ax)\n",
        "    );\n",
        "\n",
        "    return data\n",
        "\n",
        "tags_per_split = flatten_tags_by_split(dataset)\n",
        "plot_tags_distribution(tags_per_split, 'Tags distribution');"
      ],
      "metadata": {
        "id": "ZjDggP7ZV_JQ",
        "colab": {
          "base_uri": "https://localhost:8080/",
          "height": 606
        },
        "outputId": "74f84898-cea7-45ea-f0b2-050fbcd44418"
      },
      "execution_count": null,
      "outputs": [
        {
          "output_type": "display_data",
          "data": {
            "text/plain": [
              "<Figure size 1440x720 with 1 Axes>"
            ],
            "image/png": "[encoded data removed]"
          },
          "metadata": {
            "needs_background": "light"
          }
        }
      ]
    },
    {
      "cell_type": "code",
      "source": [
        "label_counts = pd.get_dummies(tags_per_split, columns=['tag'], prefix='', prefix_sep='').groupby('split').sum().reset_index()\n",
        "tags = label_counts.columns[1:]\n",
        "count_by_split = np.expand_dims(label_counts[tags].sum(axis=1), axis=1)\n",
        "label_counts[tags] = label_counts[tags] / count_by_split\n",
        "label_counts = label_counts.T.reset_index().rename(columns={'index':'tag', 0:'test', 1:'train', 2:'val'})[1:]\n",
        "label_counts"
      ],
      "metadata": {
        "colab": {
          "base_uri": "https://localhost:8080/",
          "height": 1000
        },
        "id": "PdVV4MylA9Hj",
        "outputId": "af76a7c2-7287-4982-f485-72da7afc35a7"
      },
      "execution_count": null,
      "outputs": [
        {
          "output_type": "execute_result",
          "data": {
            "text/plain": [
              "      tag      test     train       val\n",
              "1       #       0.0  0.000021  0.000481\n",
              "2       $  0.013495  0.007222  0.005548\n",
              "3      ''  0.004456  0.008426  0.007215\n",
              "4       ,  0.051117  0.054291  0.049001\n",
              "5   -LRB-  0.001146  0.001098  0.001603\n",
              "6   -RRB-  0.001146  0.001161    0.0017\n",
              "7       .  0.041187  0.041368  0.040952\n",
              "8       :  0.003565  0.006187  0.006863\n",
              "9      CC   0.02349  0.024094  0.024308\n",
              "10     CD  0.055255  0.030387  0.040054\n",
              "11     DT   0.08562  0.086071  0.088317\n",
              "12     EX  0.000318  0.001035   0.00109\n",
              "13     FW       0.0  0.000042  0.000064\n",
              "14     IN  0.104908   0.10457  0.105025\n",
              "15     JJ  0.058692  0.063181    0.0617\n",
              "16    JJR  0.003756  0.003315  0.005291\n",
              "17    JJS  0.001973  0.001964   0.00186\n",
              "18     LS       0.0  0.000211  0.000096\n",
              "19     MD  0.010758  0.008721  0.011128\n",
              "20     NN  0.152524  0.132401  0.144726\n",
              "21    NNP  0.097269  0.109849  0.086714\n",
              "22   NNPS  0.002865  0.002006  0.003367\n",
              "23    NNS   0.06073  0.063434  0.067409\n",
              "24    PDT  0.000255   0.00019  0.000449\n",
              "25    POS   0.00974   0.00851  0.008626\n",
              "26    PRP  0.012222  0.020145  0.018279\n",
              "27   PRP$  0.006429  0.008637  0.008274\n",
              "28     RB  0.024763  0.031464  0.030497\n",
              "29    RBR  0.000955  0.001816  0.001122\n",
              "30    RBS  0.000191  0.000401  0.000417\n",
              "31     RP  0.002101  0.002956  0.001379\n",
              "32    SYM       0.0  0.000021       0.0\n",
              "33     TO  0.024636  0.021708  0.024533\n",
              "34     UH       0.0  0.000021  0.000064\n",
              "35     VB  0.025845  0.025234  0.030658\n",
              "36    VBD  0.040996  0.032689  0.027611\n",
              "37    VBG  0.014132  0.016112  0.015265\n",
              "38    VBN  0.023808  0.021771  0.023635\n",
              "39    VBP  0.008594  0.015352  0.014752\n",
              "40    VBZ  0.017888  0.023925  0.022833\n",
              "41    WDT  0.005475  0.004308  0.005035\n",
              "42     WP  0.001273  0.002977  0.002566\n",
              "43    WP$  0.000255  0.000127  0.000128\n",
              "44    WRB  0.001528  0.001943  0.001988\n",
              "45     ``  0.004647  0.008637  0.007376"
            ],
            "text/html": [
              "\n",
              "  <div id=\"df-3f3730ac-a9f3-4ed2-8053-377cdaba79b4\">\n",
              "    <div class=\"colab-df-container\">\n",
              "      <div>\n",
              "<style scoped>\n",
              "    .dataframe tbody tr th:only-of-type {\n",
              "        vertical-align: middle;\n",
              "    }\n",
              "\n",
              "    .dataframe tbody tr th {\n",
              "        vertical-align: top;\n",
              "    }\n",
              "\n",
              "    .dataframe thead th {\n",
              "        text-align: right;\n",
              "    }\n",
              "</style>\n",
              "<table border=\"1\" class=\"dataframe\">\n",
              "  <thead>\n",
              "    <tr style=\"text-align: right;\">\n",
              "      <th></th>\n",
              "      <th>tag</th>\n",
              "      <th>test</th>\n",
              "      <th>train</th>\n",
              "      <th>val</th>\n",
              "    </tr>\n",
              "  </thead>\n",
              "  <tbody>\n",
              "    <tr>\n",
              "      <th>1</th>\n",
              "      <td>#</td>\n",
              "      <td>0.0</td>\n",
              "      <td>0.000021</td>\n",
              "      <td>0.000481</td>\n",
              "    </tr>\n",
              "    <tr>\n",
              "      <th>2</th>\n",
              "      <td>$</td>\n",
              "      <td>0.013495</td>\n",
              "      <td>0.007222</td>\n",
              "      <td>0.005548</td>\n",
              "    </tr>\n",
              "    <tr>\n",
              "      <th>3</th>\n",
              "      <td>''</td>\n",
              "      <td>0.004456</td>\n",
              "      <td>0.008426</td>\n",
              "      <td>0.007215</td>\n",
              "    </tr>\n",
              "    <tr>\n",
              "      <th>4</th>\n",
              "      <td>,</td>\n",
              "      <td>0.051117</td>\n",
              "      <td>0.054291</td>\n",
              "      <td>0.049001</td>\n",
              "    </tr>\n",
              "    <tr>\n",
              "      <th>5</th>\n",
              "      <td>-LRB-</td>\n",
              "      <td>0.001146</td>\n",
              "      <td>0.001098</td>\n",
              "      <td>0.001603</td>\n",
              "    </tr>\n",
              "    <tr>\n",
              "      <th>6</th>\n",
              "      <td>-RRB-</td>\n",
              "      <td>0.001146</td>\n",
              "      <td>0.001161</td>\n",
              "      <td>0.0017</td>\n",
              "    </tr>\n",
              "    <tr>\n",
              "      <th>7</th>\n",
              "      <td>.</td>\n",
              "      <td>0.041187</td>\n",
              "      <td>0.041368</td>\n",
              "      <td>0.040952</td>\n",
              "    </tr>\n",
              "    <tr>\n",
              "      <th>8</th>\n",
              "      <td>:</td>\n",
              "      <td>0.003565</td>\n",
              "      <td>0.006187</td>\n",
              "      <td>0.006863</td>\n",
              "    </tr>\n",
              "    <tr>\n",
              "      <th>9</th>\n",
              "      <td>CC</td>\n",
              "      <td>0.02349</td>\n",
              "      <td>0.024094</td>\n",
              "      <td>0.024308</td>\n",
              "    </tr>\n",
              "    <tr>\n",
              "      <th>10</th>\n",
              "      <td>CD</td>\n",
              "      <td>0.055255</td>\n",
              "      <td>0.030387</td>\n",
              "      <td>0.040054</td>\n",
              "    </tr>\n",
              "    <tr>\n",
              "      <th>11</th>\n",
              "      <td>DT</td>\n",
              "      <td>0.08562</td>\n",
              "      <td>0.086071</td>\n",
              "      <td>0.088317</td>\n",
              "    </tr>\n",
              "    <tr>\n",
              "      <th>12</th>\n",
              "      <td>EX</td>\n",
              "      <td>0.000318</td>\n",
              "      <td>0.001035</td>\n",
              "      <td>0.00109</td>\n",
              "    </tr>\n",
              "    <tr>\n",
              "      <th>13</th>\n",
              "      <td>FW</td>\n",
              "      <td>0.0</td>\n",
              "      <td>0.000042</td>\n",
              "      <td>0.000064</td>\n",
              "    </tr>\n",
              "    <tr>\n",
              "      <th>14</th>\n",
              "      <td>IN</td>\n",
              "      <td>0.104908</td>\n",
              "      <td>0.10457</td>\n",
              "      <td>0.105025</td>\n",
              "    </tr>\n",
              "    <tr>\n",
              "      <th>15</th>\n",
              "      <td>JJ</td>\n",
              "      <td>0.058692</td>\n",
              "      <td>0.063181</td>\n",
              "      <td>0.0617</td>\n",
              "    </tr>\n",
              "    <tr>\n",
              "      <th>16</th>\n",
              "      <td>JJR</td>\n",
              "      <td>0.003756</td>\n",
              "      <td>0.003315</td>\n",
              "      <td>0.005291</td>\n",
              "    </tr>\n",
              "    <tr>\n",
              "      <th>17</th>\n",
              "      <td>JJS</td>\n",
              "      <td>0.001973</td>\n",
              "      <td>0.001964</td>\n",
              "      <td>0.00186</td>\n",
              "    </tr>\n",
              "    <tr>\n",
              "      <th>18</th>\n",
              "      <td>LS</td>\n",
              "      <td>0.0</td>\n",
              "      <td>0.000211</td>\n",
              "      <td>0.000096</td>\n",
              "    </tr>\n",
              "    <tr>\n",
              "      <th>19</th>\n",
              "      <td>MD</td>\n",
              "      <td>0.010758</td>\n",
              "      <td>0.008721</td>\n",
              "      <td>0.011128</td>\n",
              "    </tr>\n",
              "    <tr>\n",
              "      <th>20</th>\n",
              "      <td>NN</td>\n",
              "      <td>0.152524</td>\n",
              "      <td>0.132401</td>\n",
              "      <td>0.144726</td>\n",
              "    </tr>\n",
              "    <tr>\n",
              "      <th>21</th>\n",
              "      <td>NNP</td>\n",
              "      <td>0.097269</td>\n",
              "      <td>0.109849</td>\n",
              "      <td>0.086714</td>\n",
              "    </tr>\n",
              "    <tr>\n",
              "      <th>22</th>\n",
              "      <td>NNPS</td>\n",
              "      <td>0.002865</td>\n",
              "      <td>0.002006</td>\n",
              "      <td>0.003367</td>\n",
              "    </tr>\n",
              "    <tr>\n",
              "      <th>23</th>\n",
              "      <td>NNS</td>\n",
              "      <td>0.06073</td>\n",
              "      <td>0.063434</td>\n",
              "      <td>0.067409</td>\n",
              "    </tr>\n",
              "    <tr>\n",
              "      <th>24</th>\n",
              "      <td>PDT</td>\n",
              "      <td>0.000255</td>\n",
              "      <td>0.00019</td>\n",
              "      <td>0.000449</td>\n",
              "    </tr>\n",
              "    <tr>\n",
              "      <th>25</th>\n",
              "      <td>POS</td>\n",
              "      <td>0.00974</td>\n",
              "      <td>0.00851</td>\n",
              "      <td>0.008626</td>\n",
              "    </tr>\n",
              "    <tr>\n",
              "      <th>26</th>\n",
              "      <td>PRP</td>\n",
              "      <td>0.012222</td>\n",
              "      <td>0.020145</td>\n",
              "      <td>0.018279</td>\n",
              "    </tr>\n",
              "    <tr>\n",
              "      <th>27</th>\n",
              "      <td>PRP$</td>\n",
              "      <td>0.006429</td>\n",
              "      <td>0.008637</td>\n",
              "      <td>0.008274</td>\n",
              "    </tr>\n",
              "    <tr>\n",
              "      <th>28</th>\n",
              "      <td>RB</td>\n",
              "      <td>0.024763</td>\n",
              "      <td>0.031464</td>\n",
              "      <td>0.030497</td>\n",
              "    </tr>\n",
              "    <tr>\n",
              "      <th>29</th>\n",
              "      <td>RBR</td>\n",
              "      <td>0.000955</td>\n",
              "      <td>0.001816</td>\n",
              "      <td>0.001122</td>\n",
              "    </tr>\n",
              "    <tr>\n",
              "      <th>30</th>\n",
              "      <td>RBS</td>\n",
              "      <td>0.000191</td>\n",
              "      <td>0.000401</td>\n",
              "      <td>0.000417</td>\n",
              "    </tr>\n",
              "    <tr>\n",
              "      <th>31</th>\n",
              "      <td>RP</td>\n",
              "      <td>0.002101</td>\n",
              "      <td>0.002956</td>\n",
              "      <td>0.001379</td>\n",
              "    </tr>\n",
              "    <tr>\n",
              "      <th>32</th>\n",
              "      <td>SYM</td>\n",
              "      <td>0.0</td>\n",
              "      <td>0.000021</td>\n",
              "      <td>0.0</td>\n",
              "    </tr>\n",
              "    <tr>\n",
              "      <th>33</th>\n",
              "      <td>TO</td>\n",
              "      <td>0.024636</td>\n",
              "      <td>0.021708</td>\n",
              "      <td>0.024533</td>\n",
              "    </tr>\n",
              "    <tr>\n",
              "      <th>34</th>\n",
              "      <td>UH</td>\n",
              "      <td>0.0</td>\n",
              "      <td>0.000021</td>\n",
              "      <td>0.000064</td>\n",
              "    </tr>\n",
              "    <tr>\n",
              "      <th>35</th>\n",
              "      <td>VB</td>\n",
              "      <td>0.025845</td>\n",
              "      <td>0.025234</td>\n",
              "      <td>0.030658</td>\n",
              "    </tr>\n",
              "    <tr>\n",
              "      <th>36</th>\n",
              "      <td>VBD</td>\n",
              "      <td>0.040996</td>\n",
              "      <td>0.032689</td>\n",
              "      <td>0.027611</td>\n",
              "    </tr>\n",
              "    <tr>\n",
              "      <th>37</th>\n",
              "      <td>VBG</td>\n",
              "      <td>0.014132</td>\n",
              "      <td>0.016112</td>\n",
              "      <td>0.015265</td>\n",
              "    </tr>\n",
              "    <tr>\n",
              "      <th>38</th>\n",
              "      <td>VBN</td>\n",
              "      <td>0.023808</td>\n",
              "      <td>0.021771</td>\n",
              "      <td>0.023635</td>\n",
              "    </tr>\n",
              "    <tr>\n",
              "      <th>39</th>\n",
              "      <td>VBP</td>\n",
              "      <td>0.008594</td>\n",
              "      <td>0.015352</td>\n",
              "      <td>0.014752</td>\n",
              "    </tr>\n",
              "    <tr>\n",
              "      <th>40</th>\n",
              "      <td>VBZ</td>\n",
              "      <td>0.017888</td>\n",
              "      <td>0.023925</td>\n",
              "      <td>0.022833</td>\n",
              "    </tr>\n",
              "    <tr>\n",
              "      <th>41</th>\n",
              "      <td>WDT</td>\n",
              "      <td>0.005475</td>\n",
              "      <td>0.004308</td>\n",
              "      <td>0.005035</td>\n",
              "    </tr>\n",
              "    <tr>\n",
              "      <th>42</th>\n",
              "      <td>WP</td>\n",
              "      <td>0.001273</td>\n",
              "      <td>0.002977</td>\n",
              "      <td>0.002566</td>\n",
              "    </tr>\n",
              "    <tr>\n",
              "      <th>43</th>\n",
              "      <td>WP$</td>\n",
              "      <td>0.000255</td>\n",
              "      <td>0.000127</td>\n",
              "      <td>0.000128</td>\n",
              "    </tr>\n",
              "    <tr>\n",
              "      <th>44</th>\n",
              "      <td>WRB</td>\n",
              "      <td>0.001528</td>\n",
              "      <td>0.001943</td>\n",
              "      <td>0.001988</td>\n",
              "    </tr>\n",
              "    <tr>\n",
              "      <th>45</th>\n",
              "      <td>``</td>\n",
              "      <td>0.004647</td>\n",
              "      <td>0.008637</td>\n",
              "      <td>0.007376</td>\n",
              "    </tr>\n",
              "  </tbody>\n",
              "</table>\n",
              "</div>\n",
              "      <button class=\"colab-df-convert\" onclick=\"convertToInteractive('df-3f3730ac-a9f3-4ed2-8053-377cdaba79b4')\"\n",
              "              title=\"Convert this dataframe to an interactive table.\"\n",
              "              style=\"display:none;\">\n",
              "        \n",
              "  <svg xmlns=\"http://www.w3.org/2000/svg\" height=\"24px\"viewBox=\"0 0 24 24\"\n",
              "       width=\"24px\">\n",
              "    <path d=\"M0 0h24v24H0V0z\" fill=\"none\"/>\n",
              "    <path d=\"M18.56 5.44l.94 2.06.94-2.06 2.06-.94-2.06-.94-.94-2.06-.94 2.06-2.06.94zm-11 1L8.5 8.5l.94-2.06 2.06-.94-2.06-.94L8.5 2.5l-.94 2.06-2.06.94zm10 10l.94 2.06.94-2.06 2.06-.94-2.06-.94-.94-2.06-.94 2.06-2.06.94z\"/><path d=\"M17.41 7.96l-1.37-1.37c-.4-.4-.92-.59-1.43-.59-.52 0-1.04.2-1.43.59L10.3 9.45l-7.72 7.72c-.78.78-.78 2.05 0 2.83L4 21.41c.39.39.9.59 1.41.59.51 0 1.02-.2 1.41-.59l7.78-7.78 2.81-2.81c.8-.78.8-2.07 0-2.86zM5.41 20L4 18.59l7.72-7.72 1.47 1.35L5.41 20z\"/>\n",
              "  </svg>\n",
              "      </button>\n",
              "      \n",
              "  <style>\n",
              "    .colab-df-container {\n",
              "      display:flex;\n",
              "      flex-wrap:wrap;\n",
              "      gap: 12px;\n",
              "    }\n",
              "\n",
              "    .colab-df-convert {\n",
              "      background-color: #E8F0FE;\n",
              "      border: none;\n",
              "      border-radius: 50%;\n",
              "      cursor: pointer;\n",
              "      display: none;\n",
              "      fill: #1967D2;\n",
              "      height: 32px;\n",
              "      padding: 0 0 0 0;\n",
              "      width: 32px;\n",
              "    }\n",
              "\n",
              "    .colab-df-convert:hover {\n",
              "      background-color: #E2EBFA;\n",
              "      box-shadow: 0px 1px 2px rgba(60, 64, 67, 0.3), 0px 1px 3px 1px rgba(60, 64, 67, 0.15);\n",
              "      fill: #174EA6;\n",
              "    }\n",
              "\n",
              "    [theme=dark] .colab-df-convert {\n",
              "      background-color: #3B4455;\n",
              "      fill: #D2E3FC;\n",
              "    }\n",
              "\n",
              "    [theme=dark] .colab-df-convert:hover {\n",
              "      background-color: #434B5C;\n",
              "      box-shadow: 0px 1px 3px 1px rgba(0, 0, 0, 0.15);\n",
              "      filter: drop-shadow(0px 1px 2px rgba(0, 0, 0, 0.3));\n",
              "      fill: #FFFFFF;\n",
              "    }\n",
              "  </style>\n",
              "\n",
              "      <script>\n",
              "        const buttonEl =\n",
              "          document.querySelector('#df-3f3730ac-a9f3-4ed2-8053-377cdaba79b4 button.colab-df-convert');\n",
              "        buttonEl.style.display =\n",
              "          google.colab.kernel.accessAllowed ? 'block' : 'none';\n",
              "\n",
              "        async function convertToInteractive(key) {\n",
              "          const element = document.querySelector('#df-3f3730ac-a9f3-4ed2-8053-377cdaba79b4');\n",
              "          const dataTable =\n",
              "            await google.colab.kernel.invokeFunction('convertToInteractive',\n",
              "                                                     [key], {});\n",
              "          if (!dataTable) return;\n",
              "\n",
              "          const docLinkHtml = 'Like what you see? Visit the ' +\n",
              "            '<a target=\"_blank\" href=https://colab.research.google.com/notebooks/data_table.ipynb>data table notebook</a>'\n",
              "            + ' to learn more about interactive tables.';\n",
              "          element.innerHTML = '';\n",
              "          dataTable['output_type'] = 'display_data';\n",
              "          await google.colab.output.renderOutput(dataTable, element);\n",
              "          const docLink = document.createElement('div');\n",
              "          docLink.innerHTML = docLinkHtml;\n",
              "          element.appendChild(docLink);\n",
              "        }\n",
              "      </script>\n",
              "    </div>\n",
              "  </div>\n",
              "  "
            ]
          },
          "metadata": {},
          "execution_count": 7
        }
      ]
    },
    {
      "cell_type": "code",
      "source": [
        "label_counts.loc[(label_counts == 0).any(axis=1)]"
      ],
      "metadata": {
        "colab": {
          "base_uri": "https://localhost:8080/",
          "height": 206
        },
        "id": "J8oluLo-Bbgp",
        "outputId": "323a7b22-ad01-4f33-da0a-92714f703419"
      },
      "execution_count": null,
      "outputs": [
        {
          "output_type": "execute_result",
          "data": {
            "text/plain": [
              "    tag test     train       val\n",
              "1     #  0.0  0.000021  0.000481\n",
              "13   FW  0.0  0.000042  0.000064\n",
              "18   LS  0.0  0.000211  0.000096\n",
              "32  SYM  0.0  0.000021       0.0\n",
              "34   UH  0.0  0.000021  0.000064"
            ],
            "text/html": [
              "\n",
              "  <div id=\"df-13285a95-7c81-4a65-8fce-08ae141aca11\">\n",
              "    <div class=\"colab-df-container\">\n",
              "      <div>\n",
              "<style scoped>\n",
              "    .dataframe tbody tr th:only-of-type {\n",
              "        vertical-align: middle;\n",
              "    }\n",
              "\n",
              "    .dataframe tbody tr th {\n",
              "        vertical-align: top;\n",
              "    }\n",
              "\n",
              "    .dataframe thead th {\n",
              "        text-align: right;\n",
              "    }\n",
              "</style>\n",
              "<table border=\"1\" class=\"dataframe\">\n",
              "  <thead>\n",
              "    <tr style=\"text-align: right;\">\n",
              "      <th></th>\n",
              "      <th>tag</th>\n",
              "      <th>test</th>\n",
              "      <th>train</th>\n",
              "      <th>val</th>\n",
              "    </tr>\n",
              "  </thead>\n",
              "  <tbody>\n",
              "    <tr>\n",
              "      <th>1</th>\n",
              "      <td>#</td>\n",
              "      <td>0.0</td>\n",
              "      <td>0.000021</td>\n",
              "      <td>0.000481</td>\n",
              "    </tr>\n",
              "    <tr>\n",
              "      <th>13</th>\n",
              "      <td>FW</td>\n",
              "      <td>0.0</td>\n",
              "      <td>0.000042</td>\n",
              "      <td>0.000064</td>\n",
              "    </tr>\n",
              "    <tr>\n",
              "      <th>18</th>\n",
              "      <td>LS</td>\n",
              "      <td>0.0</td>\n",
              "      <td>0.000211</td>\n",
              "      <td>0.000096</td>\n",
              "    </tr>\n",
              "    <tr>\n",
              "      <th>32</th>\n",
              "      <td>SYM</td>\n",
              "      <td>0.0</td>\n",
              "      <td>0.000021</td>\n",
              "      <td>0.0</td>\n",
              "    </tr>\n",
              "    <tr>\n",
              "      <th>34</th>\n",
              "      <td>UH</td>\n",
              "      <td>0.0</td>\n",
              "      <td>0.000021</td>\n",
              "      <td>0.000064</td>\n",
              "    </tr>\n",
              "  </tbody>\n",
              "</table>\n",
              "</div>\n",
              "      <button class=\"colab-df-convert\" onclick=\"convertToInteractive('df-13285a95-7c81-4a65-8fce-08ae141aca11')\"\n",
              "              title=\"Convert this dataframe to an interactive table.\"\n",
              "              style=\"display:none;\">\n",
              "        \n",
              "  <svg xmlns=\"http://www.w3.org/2000/svg\" height=\"24px\"viewBox=\"0 0 24 24\"\n",
              "       width=\"24px\">\n",
              "    <path d=\"M0 0h24v24H0V0z\" fill=\"none\"/>\n",
              "    <path d=\"M18.56 5.44l.94 2.06.94-2.06 2.06-.94-2.06-.94-.94-2.06-.94 2.06-2.06.94zm-11 1L8.5 8.5l.94-2.06 2.06-.94-2.06-.94L8.5 2.5l-.94 2.06-2.06.94zm10 10l.94 2.06.94-2.06 2.06-.94-2.06-.94-.94-2.06-.94 2.06-2.06.94z\"/><path d=\"M17.41 7.96l-1.37-1.37c-.4-.4-.92-.59-1.43-.59-.52 0-1.04.2-1.43.59L10.3 9.45l-7.72 7.72c-.78.78-.78 2.05 0 2.83L4 21.41c.39.39.9.59 1.41.59.51 0 1.02-.2 1.41-.59l7.78-7.78 2.81-2.81c.8-.78.8-2.07 0-2.86zM5.41 20L4 18.59l7.72-7.72 1.47 1.35L5.41 20z\"/>\n",
              "  </svg>\n",
              "      </button>\n",
              "      \n",
              "  <style>\n",
              "    .colab-df-container {\n",
              "      display:flex;\n",
              "      flex-wrap:wrap;\n",
              "      gap: 12px;\n",
              "    }\n",
              "\n",
              "    .colab-df-convert {\n",
              "      background-color: #E8F0FE;\n",
              "      border: none;\n",
              "      border-radius: 50%;\n",
              "      cursor: pointer;\n",
              "      display: none;\n",
              "      fill: #1967D2;\n",
              "      height: 32px;\n",
              "      padding: 0 0 0 0;\n",
              "      width: 32px;\n",
              "    }\n",
              "\n",
              "    .colab-df-convert:hover {\n",
              "      background-color: #E2EBFA;\n",
              "      box-shadow: 0px 1px 2px rgba(60, 64, 67, 0.3), 0px 1px 3px 1px rgba(60, 64, 67, 0.15);\n",
              "      fill: #174EA6;\n",
              "    }\n",
              "\n",
              "    [theme=dark] .colab-df-convert {\n",
              "      background-color: #3B4455;\n",
              "      fill: #D2E3FC;\n",
              "    }\n",
              "\n",
              "    [theme=dark] .colab-df-convert:hover {\n",
              "      background-color: #434B5C;\n",
              "      box-shadow: 0px 1px 3px 1px rgba(0, 0, 0, 0.15);\n",
              "      filter: drop-shadow(0px 1px 2px rgba(0, 0, 0, 0.3));\n",
              "      fill: #FFFFFF;\n",
              "    }\n",
              "  </style>\n",
              "\n",
              "      <script>\n",
              "        const buttonEl =\n",
              "          document.querySelector('#df-13285a95-7c81-4a65-8fce-08ae141aca11 button.colab-df-convert');\n",
              "        buttonEl.style.display =\n",
              "          google.colab.kernel.accessAllowed ? 'block' : 'none';\n",
              "\n",
              "        async function convertToInteractive(key) {\n",
              "          const element = document.querySelector('#df-13285a95-7c81-4a65-8fce-08ae141aca11');\n",
              "          const dataTable =\n",
              "            await google.colab.kernel.invokeFunction('convertToInteractive',\n",
              "                                                     [key], {});\n",
              "          if (!dataTable) return;\n",
              "\n",
              "          const docLinkHtml = 'Like what you see? Visit the ' +\n",
              "            '<a target=\"_blank\" href=https://colab.research.google.com/notebooks/data_table.ipynb>data table notebook</a>'\n",
              "            + ' to learn more about interactive tables.';\n",
              "          element.innerHTML = '';\n",
              "          dataTable['output_type'] = 'display_data';\n",
              "          await google.colab.output.renderOutput(dataTable, element);\n",
              "          const docLink = document.createElement('div');\n",
              "          docLink.innerHTML = docLinkHtml;\n",
              "          element.appendChild(docLink);\n",
              "        }\n",
              "      </script>\n",
              "    </div>\n",
              "  </div>\n",
              "  "
            ]
          },
          "metadata": {},
          "execution_count": 8
        }
      ]
    },
    {
      "cell_type": "markdown",
      "source": [
        "# Glove embeddings"
      ],
      "metadata": {
        "id": "dMVaMbBDOyJI"
      }
    },
    {
      "cell_type": "code",
      "source": [
        "import gensim\n",
        "import gensim.downloader as gloader\n",
        "\n",
        "def load_embedding_model(model_type: str='glove', embedding_dimension: int = 50) -> gensim.models.keyedvectors.KeyedVectors:\n",
        "    \"\"\"\n",
        "    Loads a pre-trained word embedding model via gensim library.\n",
        "\n",
        "    :param model_type: name of the word embedding model to load.\n",
        "    :param embedding_dimension: size of the embedding space to consider\n",
        "\n",
        "    :return\n",
        "        - pre-trained word embedding model (gensim KeyedVectors object)\n",
        "    \"\"\"\n",
        "    download_path = \"\"\n",
        "    if model_type.strip().lower() == 'word2vec':\n",
        "        download_path = \"word2vec-google-news-300\"\n",
        "\n",
        "    elif model_type.strip().lower() == 'glove':\n",
        "        download_path = \"glove-wiki-gigaword-{}\".format(embedding_dimension)\n",
        "    elif model_type.strip().lower() == 'fasttext':\n",
        "        download_path = \"fasttext-wiki-news-subwords-300\"\n",
        "    else:\n",
        "        raise AttributeError(\"Unsupported embedding model type! Available ones: word2vec, glove, fasttext\")\n",
        "        \n",
        "    try:\n",
        "        emb_model = gloader.load(download_path)\n",
        "    except ValueError as e:\n",
        "        print(\"Invalid embedding model name! Check the embedding dimension:\")\n",
        "        print(\"Word2Vec: 300\")\n",
        "        print(\"Glove: 50, 100, 200, 300\")\n",
        "        print('FastText: 300')\n",
        "        raise e\n",
        "\n",
        "    return emb_model\n",
        "\n",
        "embedding_dimension=50\n",
        "embedding_model = load_embedding_model(model_type=\"glove\", embedding_dimension=embedding_dimension)"
      ],
      "metadata": {
        "id": "_D-RYb4L_EiN",
        "colab": {
          "base_uri": "https://localhost:8080/"
        },
        "outputId": "4c296cd8-190f-4c39-d13f-d93e7611579d"
      },
      "execution_count": null,
      "outputs": [
        {
          "output_type": "stream",
          "name": "stdout",
          "text": [
            "[==================================================] 100.0% 66.0/66.0MB downloaded\n"
          ]
        }
      ]
    },
    {
      "cell_type": "code",
      "source": [
        "def get_words(sentences: List[str]):\n",
        "  return set(token for tokens in sentences for token in tokens)\n",
        "\n",
        "class Tokenizer:\n",
        "  def __init__(self, vocabulary=None, padding='<PAD>'):\n",
        "    \"\"\"\n",
        "    Transform a set of sentences in a set of indices.\n",
        "    The order of enumeration respects the order of the set of sentences used in the fit_on_texts method.\n",
        "    \"\"\"\n",
        "    self.word_to_index = {padding: 0}\n",
        "    self.idx_to_word = {0: padding}\n",
        "    self.__idx = 1\n",
        "\n",
        "    if vocabulary:\n",
        "      self.update_vocabulary(vocabulary)\n",
        "\n",
        "  def get_oov_terms(self, words):\n",
        "    \"\"\"\n",
        "    Checks differences between pre-trained embedding model vocabulary\n",
        "    and dataset specific vocabulary in order to highlight out-of-vocabulary terms.\n",
        "\n",
        "    :param embedding_model: pre-trained word embedding model (gensim wrapper)\n",
        "    :param word_listing: dataset specific vocabulary (list)\n",
        "\n",
        "    :return\n",
        "        - list of OOV terms\n",
        "    \"\"\"\n",
        "    words_in_vocabulary = set(self.word_to_index.keys())\n",
        "    oov = set(words).difference(words_in_vocabulary)\n",
        "    return list(oov)\n",
        "\n",
        "  def update_vocabulary(self, sentences, verbose=True):\n",
        "    \"\"\"\n",
        "    Update the vocabulary by looking at the list of sentences in input\n",
        "    \"\"\"\n",
        "    \n",
        "    words = get_words(sentences) \n",
        "    oov_terms = self.get_oov_terms(words)\n",
        "\n",
        "    old_len = len(self.word_to_index)\n",
        "    self.__expand_vocabulary(oov_terms)\n",
        "\n",
        "    if verbose:\n",
        "      oov_percentage = float(len(oov_terms)) * 100 / len(words)\n",
        "      print(f\"Total OOV terms: {len(oov_terms)} ({oov_percentage:.2f}%)\")\n",
        "\n",
        "      print(\"Vocabulary length before expansion:\", old_len)\n",
        "      print(\"Vocabulary length after expansion:\", len(self.word_to_index))\n",
        "\n",
        "    return oov_terms\n",
        "\n",
        "  def __expand_vocabulary(self, oov_terms: Iterable[str]):\n",
        "    for term in oov_terms:\n",
        "      self.word_to_index[term] = self.__idx\n",
        "      self.idx_to_word[self.__idx] = term\n",
        "      self.__idx += 1\n",
        "\n",
        "  def texts_to_sequences(self, sentences) -> List[List[int]]:\n",
        "    \"\"\"\n",
        "    Transform a list of sentences in a list of sequences, according to the current vocabulary\n",
        "    \"\"\"\n",
        "    return list(map(self.text_to_sequence, sentences))\n",
        "\n",
        "  def text_to_sequence(self, sentence) -> List[int]:\n",
        "    return list(map(lambda token: self.word_to_index[token], sentence))\n",
        "\n",
        "  def sequences_to_texts(self, sequences):\n",
        "    \"\"\"\n",
        "    Transform a list of sequences in a list of sentences, according to the current vocabulary\n",
        "    \"\"\"\n",
        "    return list(map(self.sequence_to_text, sequences))\n",
        "  \n",
        "  def sequence_to_text(self, sequence):\n",
        "    return list(map(lambda idx: self.idx_to_word[idx], sequence))\n",
        "\n",
        "class EmbeddingMatrix():\n",
        "  def __init__(self,\n",
        "               embedding_model: gensim.models.keyedvectors.KeyedVectors,\n",
        "               embedding_dimension,\n",
        "               word_to_idx: Dict[str, int],\n",
        "               oov_vector_factory = None) -> None:\n",
        "    \"\"\"\n",
        "    Builds the embedding matrix of a specific dataset given a pre-trained word embedding model\n",
        "\n",
        "    :param embedding_model: pre-trained word embedding model (gensim wrapper)\n",
        "    :param embedding_dimension: dimension of the vectors in the embedding space\n",
        "    :param word_to_idx: vocabulary map (word -> index) (dict)\n",
        "    \"\"\"\n",
        "    self.oov_vector_factory = oov_vector_factory if oov_vector_factory else lambda: np.random.uniform(low=-0.05, high=0.05, size=embedding_dimension)\n",
        "\n",
        "    vocab_size = len(word_to_idx)\n",
        "    self.embedding_matrix = np.zeros((vocab_size, embedding_dimension), dtype=np.float32)\n",
        "\n",
        "    for word, idx in tqdm(word_to_idx.items()):\n",
        "      if word in embedding_model:\n",
        "        embedding_vector = embedding_model[word]\n",
        "      else:\n",
        "        embedding_vector = self.oov_vector_factory()\n",
        "\n",
        "      self.embedding_matrix[idx] = embedding_vector\n",
        "\n",
        "  def update_matrix(self, word_to_idx: Dict[str, int]):\n",
        "    old_vocab_size = len(self.embedding_matrix)\n",
        "    vocab_size = len(word_to_idx)\n",
        "    embedding_dimension = self.embedding_matrix.shape[1]\n",
        "\n",
        "    self.embedding_matrix.resize((vocab_size, embedding_dimension))\n",
        "    for word, idx in tqdm(word_to_idx.items()):\n",
        "      if idx > old_vocab_size -1:\n",
        "        self.embedding_matrix[idx] = self.oov_vector_factory()\n",
        "\n",
        "  def as_numpy(self):\n",
        "    return self.embedding_matrix"
      ],
      "metadata": {
        "id": "UcaZn7SlgnLC"
      },
      "execution_count": null,
      "outputs": []
    },
    {
      "cell_type": "code",
      "source": [
        "def add_oov(dataset, dataset_name: str):\n",
        "  print()\n",
        "  print(f'Adding {dataset_name} vocabulary ...')\n",
        "  tokenizer.update_vocabulary(dataset.sentence)\n",
        "  embedding_matrix.update_matrix(tokenizer.word_to_index)\n",
        "\n",
        "tokenizer = Tokenizer([embedding_model.vocab.keys()])\n",
        "embedding_matrix = EmbeddingMatrix(embedding_model, embedding_dimension, tokenizer.word_to_index)\n",
        "\n",
        "add_oov(train_set, 'training set')\n",
        "add_oov(val_set, 'validation set')\n",
        "add_oov(test_set, 'test set')\n",
        "\n",
        "print('\\n')\n",
        "print('Shape of the embedding matrix', embedding_matrix.as_numpy().shape)"
      ],
      "metadata": {
        "id": "DN-yZO_1XcX5",
        "colab": {
          "base_uri": "https://localhost:8080/"
        },
        "outputId": "134ad5db-d5a4-47c6-d311-783a235807a2"
      },
      "execution_count": null,
      "outputs": [
        {
          "output_type": "stream",
          "name": "stdout",
          "text": [
            "Total OOV terms: 400000 (100.00%)\n",
            "Vocabulary length before expansion: 1\n",
            "Vocabulary length after expansion: 400001\n"
          ]
        },
        {
          "output_type": "stream",
          "name": "stderr",
          "text": [
            "100%|██████████| 400001/400001 [00:02<00:00, 162426.10it/s]\n"
          ]
        },
        {
          "output_type": "stream",
          "name": "stdout",
          "text": [
            "\n",
            "Adding training set vocabulary ...\n",
            "Total OOV terms: 2346 (29.29%)\n",
            "Vocabulary length before expansion: 400001\n",
            "Vocabulary length after expansion: 402347\n"
          ]
        },
        {
          "output_type": "stream",
          "name": "stderr",
          "text": [
            "100%|██████████| 402347/402347 [00:00<00:00, 1553467.23it/s]\n"
          ]
        },
        {
          "output_type": "stream",
          "name": "stdout",
          "text": [
            "\n",
            "Adding validation set vocabulary ...\n",
            "Total OOV terms: 944 (16.02%)\n",
            "Vocabulary length before expansion: 402347\n",
            "Vocabulary length after expansion: 403291\n"
          ]
        },
        {
          "output_type": "stream",
          "name": "stderr",
          "text": [
            "100%|██████████| 403291/403291 [00:00<00:00, 1582470.67it/s]\n"
          ]
        },
        {
          "output_type": "stream",
          "name": "stdout",
          "text": [
            "\n",
            "Adding test set vocabulary ...\n",
            "Total OOV terms: 455 (12.49%)\n",
            "Vocabulary length before expansion: 403291\n",
            "Vocabulary length after expansion: 403746\n"
          ]
        },
        {
          "output_type": "stream",
          "name": "stderr",
          "text": [
            "100%|██████████| 403746/403746 [00:00<00:00, 1451562.51it/s]"
          ]
        },
        {
          "output_type": "stream",
          "name": "stdout",
          "text": [
            "\n",
            "\n",
            "Shape of the embedding matrix (403746, 50)\n"
          ]
        },
        {
          "output_type": "stream",
          "name": "stderr",
          "text": [
            "\n"
          ]
        }
      ]
    },
    {
      "cell_type": "code",
      "source": [
        "embedding = embedding_matrix.as_numpy()\n",
        "print(embedding.shape)\n",
        "embedding"
      ],
      "metadata": {
        "colab": {
          "base_uri": "https://localhost:8080/"
        },
        "id": "hFY_nkBEbUHY",
        "outputId": "45a36f64-a0f4-4eb2-d110-820ae4e83c8e"
      },
      "execution_count": null,
      "outputs": [
        {
          "output_type": "stream",
          "name": "stdout",
          "text": [
            "(403746, 50)\n"
          ]
        },
        {
          "output_type": "execute_result",
          "data": {
            "text/plain": [
              "array([[-0.04734939, -0.01652002, -0.03929646, ...,  0.04843136,\n",
              "         0.04691343, -0.02120133],\n",
              "       [ 0.74751   , -1.2892    , -0.39371   , ...,  0.40111   ,\n",
              "        -0.62388   , -0.048984  ],\n",
              "       [ 0.18607   , -0.49903   , -0.33945   , ...,  0.81336   ,\n",
              "        -0.24756   ,  0.16771   ],\n",
              "       ...,\n",
              "       [ 0.04498839, -0.04319157, -0.03965253, ...,  0.00920012,\n",
              "         0.00913327,  0.03489016],\n",
              "       [ 0.02478843,  0.03671597, -0.01459689, ..., -0.01147853,\n",
              "         0.01035016,  0.00316977],\n",
              "       [-0.03663756, -0.02441949, -0.04559055, ...,  0.00293957,\n",
              "        -0.01667591,  0.04902021]], dtype=float32)"
            ]
          },
          "metadata": {},
          "execution_count": 463
        }
      ]
    },
    {
      "cell_type": "markdown",
      "source": [
        "Let's choose the length of the sentences by giving a look to our data."
      ],
      "metadata": {
        "id": "mYBIK5QuLaxT"
      }
    },
    {
      "cell_type": "code",
      "source": [
        "def get_lengths(x: List[List]):\n",
        "  return np.array([len(seq) for seq in x])\n",
        "\n",
        "lengths = get_lengths(train_set.sentence)\n",
        "pd.Series(lengths).describe()"
      ],
      "metadata": {
        "colab": {
          "base_uri": "https://localhost:8080/"
        },
        "id": "o139uQffLV2c",
        "outputId": "75aee22d-282c-403e-91fb-191e64aa3a31"
      },
      "execution_count": null,
      "outputs": [
        {
          "output_type": "execute_result",
          "data": {
            "text/plain": [
              "count    1963.0000\n",
              "mean       24.1243\n",
              "std        12.6045\n",
              "min         1.0000\n",
              "25%        16.0000\n",
              "50%        23.0000\n",
              "75%        31.0000\n",
              "max       249.0000\n",
              "dtype: float64"
            ]
          },
          "metadata": {},
          "execution_count": 464
        }
      ]
    },
    {
      "cell_type": "code",
      "source": [
        "sns.boxplot(x=lengths);"
      ],
      "metadata": {
        "colab": {
          "base_uri": "https://localhost:8080/",
          "height": 265
        },
        "id": "w2E6IXGGMw2A",
        "outputId": "6e04d826-1ee2-4785-bace-d0bd077bf558"
      },
      "execution_count": null,
      "outputs": [
        {
          "output_type": "display_data",
          "data": {
            "text/plain": [
              "<Figure size 432x288 with 1 Axes>"
            ],
            "image/png": "[encoded data removed]"
          },
          "metadata": {
            "needs_background": "light"
          }
        }
      ]
    },
    {
      "cell_type": "code",
      "source": [
        "max_seq_length = int(np.quantile(lengths, .99))\n",
        "print('Max length chosen:', max_seq_length)\n",
        "print('Sentences longer that max_seq_length:', np.count_nonzero(lengths > max_seq_length), '/', len(lengths))"
      ],
      "metadata": {
        "colab": {
          "base_uri": "https://localhost:8080/"
        },
        "id": "dgTAczNWNrjI",
        "outputId": "1f246938-e9dc-4a40-8bf5-047687b40d39"
      },
      "execution_count": null,
      "outputs": [
        {
          "output_type": "stream",
          "name": "stdout",
          "text": [
            "Max length chosen: 56\n",
            "Sentences longer that max_seq_length: 19 / 1963\n"
          ]
        }
      ]
    },
    {
      "cell_type": "code",
      "source": [
        "def prepare_dataset(dataset: pd.DataFrame, max_seq_length, n_tags):\n",
        "  encoded_sentences = tokenizer.texts_to_sequences(dataset.sentence)\n",
        "  encoded_sentences = ks.utils.pad_sequences(encoded_sentences, maxlen=max_seq_length, padding=\"post\", truncating=\"post\")\n",
        "\n",
        "  encoded_tags = label_tokenizer.texts_to_sequences(dataset.tags)\n",
        "  encoded_tags = ks.utils.pad_sequences(encoded_tags, maxlen=max_seq_length, padding=\"post\", truncating=\"post\")\n",
        "   # n_tags+1: consider padding as class\n",
        "  encoded_tags = ks.utils.to_categorical(encoded_tags, num_classes=n_tags+1)\n",
        "\n",
        "  return encoded_sentences, encoded_tags\n",
        "\n",
        "def create_dataloader(dataset: pd.DataFrame, preprocessing, batch_size=32):\n",
        "  encoded_sentences, encoded_tags = preprocessing(dataset)\n",
        "\n",
        "  return (\n",
        "      tf.data.Dataset.from_tensor_slices((encoded_sentences, encoded_tags))      \n",
        "      # .map() do here encoding and so one on the whole dataset\n",
        "      .prefetch(buffer_size=tf.data.AUTOTUNE)\n",
        "      # .cache()\n",
        "      .shuffle(buffer_size=2048)\n",
        "      .batch(batch_size, num_parallel_calls=tf.data.AUTOTUNE)\n",
        "      )\n",
        "\n",
        "label_tokenizer = Tokenizer()\n",
        "label_tokenizer.update_vocabulary(dataset.tags, verbose=False)\n",
        "preprocessing = functools.partial(prepare_dataset, max_seq_length=max_seq_length, n_tags=n_tags)\n",
        "\n",
        "ds = create_dataloader(train_set, preprocessing)\n",
        "batched_text, batched_tags = next(ds.take(1).as_numpy_iterator())\n",
        "text = batched_text[0]\n",
        "tags = batched_tags[0]\n",
        "\n",
        "print('Encode text:', text.shape)\n",
        "print(text)\n",
        "print('One hot encoded tags:', tags.shape)\n",
        "print(tags)"
      ],
      "metadata": {
        "id": "pKV6c2DFbiAv",
        "colab": {
          "base_uri": "https://localhost:8080/"
        },
        "outputId": "b87cd581-e477-4451-cc73-5bf9c5949691"
      },
      "execution_count": null,
      "outputs": [
        {
          "output_type": "stream",
          "name": "stdout",
          "text": [
            "Encode text: (56,)\n",
            "[400688 356350 302183  75087  87059 325786 170598 401141  83964  79829\n",
            " 312690 359734  54619  62796 246457 234288 300746 223020 234288  97138\n",
            " 292617 302183 376139  87059  98575  94496  18683 109658 376934 156182\n",
            " 175551  18670 234287 234288  28029 339701 249939 323183 324279 261849\n",
            "      0      0      0      0      0      0      0      0      0      0\n",
            "      0      0      0      0      0      0]\n",
            "One hot encoded tags: (56, 46)\n",
            "[[0. 0. 0. ... 0. 0. 0.]\n",
            " [0. 0. 0. ... 0. 0. 0.]\n",
            " [0. 1. 0. ... 0. 0. 0.]\n",
            " ...\n",
            " [1. 0. 0. ... 0. 0. 0.]\n",
            " [1. 0. 0. ... 0. 0. 0.]\n",
            " [1. 0. 0. ... 0. 0. 0.]]\n"
          ]
        }
      ]
    },
    {
      "cell_type": "code",
      "source": [
        "embedding_weights = embedding_matrix.as_numpy()\n",
        "embedding = ks.layers.Embedding(*embedding_weights.shape, weights=[embedding_weights], mask_zero=True)\n",
        "embedding(tf.expand_dims(text, axis=0))"
      ],
      "metadata": {
        "colab": {
          "base_uri": "https://localhost:8080/"
        },
        "id": "xGrABzMx11I9",
        "outputId": "b11a6de6-678d-4605-a4bf-165be8ffce93"
      },
      "execution_count": null,
      "outputs": [
        {
          "output_type": "execute_result",
          "data": {
            "text/plain": [
              "<tf.Tensor: shape=(1, 56, 50), dtype=float32, numpy=\n",
              "array([[[-0.00798373, -0.01592998, -0.00990925, ..., -0.00714037,\n",
              "         -0.03152749, -0.03178437],\n",
              "        [-0.30461   , -1.4674    ,  1.0339    , ...,  0.47243   ,\n",
              "          0.85753   , -0.25246   ],\n",
              "        [ 0.70853   ,  0.57088   , -0.4716    , ..., -0.22562   ,\n",
              "         -0.093918  , -0.80375   ],\n",
              "        ...,\n",
              "        [-0.04734939, -0.01652002, -0.03929646, ...,  0.04843136,\n",
              "          0.04691343, -0.02120133],\n",
              "        [-0.04734939, -0.01652002, -0.03929646, ...,  0.04843136,\n",
              "          0.04691343, -0.02120133],\n",
              "        [-0.04734939, -0.01652002, -0.03929646, ...,  0.04843136,\n",
              "          0.04691343, -0.02120133]]], dtype=float32)>"
            ]
          },
          "metadata": {},
          "execution_count": 467
        }
      ]
    },
    {
      "cell_type": "markdown",
      "source": [
        "# Network baseline"
      ],
      "metadata": {
        "id": "DF4pIZ2kjyFb"
      }
    },
    {
      "cell_type": "code",
      "source": [
        "def create_model(embedding_weights, n_labels):\n",
        "  inputs = ks.layers.Input(shape=(None, ))\n",
        "  x = ks.layers.Embedding(*embedding_weights.shape, weights=[embedding_weights], mask_zero=True)(inputs)\n",
        "  x = ks.layers.Bidirectional(ks.layers.LSTM(units=64, return_sequences=True))(x)\n",
        "  x = ks.layers.TimeDistributed(ks.layers.Dense(n_labels, activation='softmax'))(x)\n",
        "\n",
        "  return ks.models.Model(inputs, x)\n",
        "\n",
        "\n",
        "embedding_weights = embedding_matrix.as_numpy()\n",
        "model = create_model(embedding_weights, n_labels=n_tags+1)\n",
        "model.summary()"
      ],
      "metadata": {
        "colab": {
          "base_uri": "https://localhost:8080/"
        },
        "id": "dD806mIWs0zT",
        "outputId": "82fd8362-f5af-48a2-c4c1-e198c9b60579"
      },
      "execution_count": null,
      "outputs": [
        {
          "output_type": "stream",
          "name": "stdout",
          "text": [
            "Model: \"model_9\"\n",
            "_________________________________________________________________\n",
            " Layer (type)                Output Shape              Param #   \n",
            "=================================================================\n",
            " input_10 (InputLayer)       [(None, None)]            0         \n",
            "                                                                 \n",
            " embedding_35 (Embedding)    (None, None, 50)          20187300  \n",
            "                                                                 \n",
            " bidirectional_9 (Bidirectio  (None, None, 128)        58880     \n",
            " nal)                                                            \n",
            "                                                                 \n",
            " time_distributed_9 (TimeDis  (None, None, 46)         5934      \n",
            " tributed)                                                       \n",
            "                                                                 \n",
            "=================================================================\n",
            "Total params: 20,252,114\n",
            "Trainable params: 20,252,114\n",
            "Non-trainable params: 0\n",
            "_________________________________________________________________\n"
          ]
        }
      ]
    },
    {
      "cell_type": "code",
      "source": [
        "batch_size=128\n",
        "epochs = 3\n",
        "\n",
        "train_ds = create_dataloader(train_set, preprocessing, batch_size=batch_size)\n",
        "val_ds = create_dataloader(val_set, preprocessing, batch_size=batch_size)\n",
        "\n",
        "model.compile(loss='categorical_crossentropy', optimizer='adam', metrics=['accuracy'])\n",
        "history = model.fit(train_ds, validation_data=val_ds, epochs=epochs)"
      ],
      "metadata": {
        "colab": {
          "base_uri": "https://localhost:8080/"
        },
        "id": "3mI-znnbxYI9",
        "outputId": "d9d66e3c-b5c5-4c4e-e42b-8d5933ad51dc"
      },
      "execution_count": null,
      "outputs": [
        {
          "output_type": "stream",
          "name": "stdout",
          "text": [
            "Epoch 1/3\n",
            "16/16 [==============================] - 29s 1s/step - loss: 1.5087 - accuracy: 0.1258 - val_loss: 1.3396 - val_accuracy: 0.2155\n",
            "Epoch 2/3\n",
            "16/16 [==============================] - 14s 887ms/step - loss: 1.2525 - accuracy: 0.2479 - val_loss: 1.1818 - val_accuracy: 0.3280\n",
            "Epoch 3/3\n",
            "16/16 [==============================] - 13s 802ms/step - loss: 1.1195 - accuracy: 0.3612 - val_loss: 1.0588 - val_accuracy: 0.4197\n"
          ]
        }
      ]
    },
    {
      "cell_type": "code",
      "source": [],
      "metadata": {
        "id": "4M0zmLD1p2Km"
      },
      "execution_count": null,
      "outputs": []
    },
    {
      "cell_type": "code",
      "source": [],
      "metadata": {
        "id": "hZRQ1vpjs7HA"
      },
      "execution_count": null,
      "outputs": []
    },
    {
      "cell_type": "markdown",
      "source": [
        "# Evaluation"
      ],
      "metadata": {
        "id": "_RItPoI1s72z"
      }
    },
    {
      "cell_type": "code",
      "source": [
        "# Take best models according to f1 score on validation set\n",
        "def get_best_models(n=2):\n",
        "  '''\n",
        "  Take best models according to f1 score on validation set\n",
        "  '''\n",
        "  return [model]\n",
        "\n",
        "\n",
        "@tf.function\n",
        "def tf_in(x, y):\n",
        "  '''\n",
        "  Returns True for each value of x in y\n",
        "  '''\n",
        "\n",
        "  # Exploit broadcasting to compute y_true in filters\n",
        "  # x:      N x 1\n",
        "  # y:      M\n",
        "  # x==y :  N x M\n",
        "  # mask:   N\n",
        "\n",
        "  x = tf.expand_dims(x, axis=-1) # x:  N x 1\n",
        "  return tf.math.reduce_any(x==y, axis=-1)\n",
        "\n",
        "@tf.function\n",
        "def compute_padding_mask(y_true_hot):\n",
        "  y_true = tf.argmax(y_true_hot, axis=-1)\n",
        "  return y_true != 0\n",
        "\n",
        "@tf.function\n",
        "def compute_mask(y_true, black_list):\n",
        "  return ~tf_in(y_true, black_list)\n",
        "\n",
        "def predict(model, sentences):\n",
        "  scores = model.predict(sentences)\n",
        "\n",
        "  encoded_tags = np.argmax(scores, axis=-1)\n",
        "  predicted_tags = label_tokenizer.sequences_to_texts(encoded_tags)  \n",
        "  return np.array(predicted_tags)\n",
        "\n",
        "\n",
        "def evaluate(model, dataset: pd.DataFrame, metric, banned_tags):\n",
        "  # TODO: remove punctuation\n",
        "  sentences, tags = preprocessing(dataset)\n",
        "  y_pred = predict(model, sentences).reshape(-1)\n",
        "\n",
        "  padding_mask = compute_padding_mask(tags)\n",
        "  padding_mask = np.reshape(padding_mask, -1)  \n",
        "  assert len(padding_mask) == len(y_pred), f'{len(padding_mask)} != {len(y_pred)}'\n",
        "\n",
        "  y_true = test_set.tags.explode().to_numpy()\n",
        "  y_pred = y_pred[padding_mask]\n",
        "  assert y_pred.shape == y_true.shape, f'{y_pred.shape} != {y_true.shape}'\n",
        "\n",
        "  mask = compute_mask(y_true, banned_tags)\n",
        "  assert len(mask) == len(y_true), f'{len(mask)} != {len(y_true)}'\n",
        "  assert len(mask) == len(y_pred), f'{len(mask)} != {len(y_pred)}'\n",
        "\n",
        "  y_true = y_true[mask]\n",
        "  y_pred = y_pred[mask]\n",
        "  assert y_pred.shape == y_true.shape, f'{y_pred.shape} != {y_true.shape}'\n",
        "\n",
        "  return y_true, y_pred, metric(y_true, y_pred)\n",
        "\n",
        "\n",
        "best_models = get_best_models()\n",
        "banned_tags = [',', '.', '``', \"''\", ':', '$', '-LRB-', '-RRB-', '#', 'SYM']\n",
        "labels = list(np.setdiff1d(list(label_tokenizer.word_to_index.keys()), banned_tags + ['<PAD>']))\n",
        "# metric = functools.partial(f1_score, average='macro')\n",
        "metric = functools.partial(classification_report, zero_division=0, labels=labels)\n",
        "seq_length = np.max(get_lengths(test_set.sentence))\n",
        "preprocessing = functools.partial(prepare_dataset, max_seq_length=seq_length, n_tags=n_tags)\n",
        "\n",
        "y_true, y_pred, score = evaluate(model, test_set, metric=metric, banned_tags=banned_tags)\n",
        "print(score)\n",
        "\n",
        "\n",
        "# for idx, model in enumerate(best_models):\n",
        "#   score = evaluate(model, test_set, metric=metric, banned_tags=banned_tags)\n",
        "\n",
        "#   print('Model', idx)\n",
        "#   # print('Macro f1-score:', score)\n",
        "#   print(score)\n",
        "\n",
        "# assert len(best_models) == 2"
      ],
      "metadata": {
        "colab": {
          "base_uri": "https://localhost:8080/"
        },
        "id": "tUzRey-fs9i6",
        "outputId": "73f09ede-170d-4313-e69f-2860c0fd024b"
      },
      "execution_count": null,
      "outputs": [
        {
          "output_type": "stream",
          "name": "stdout",
          "text": [
            "21/21 [==============================] - 1s 34ms/step\n",
            "              precision    recall  f1-score   support\n",
            "\n",
            "          CC       0.00      0.00      0.00       369\n",
            "          CD       0.83      0.45      0.58       868\n",
            "          DT       0.81      0.66      0.73      1345\n",
            "          EX       0.00      0.00      0.00         5\n",
            "          FW       0.00      0.00      0.00         0\n",
            "          IN       0.38      0.76      0.50      1648\n",
            "          JJ       0.45      0.01      0.01       922\n",
            "         JJR       0.00      0.00      0.00        59\n",
            "         JJS       0.00      0.00      0.00        31\n",
            "          LS       0.00      0.00      0.00         0\n",
            "          MD       0.00      0.00      0.00       169\n",
            "          NN       0.34      0.78      0.47      2396\n",
            "         NNP       0.49      0.92      0.64      1528\n",
            "        NNPS       0.00      0.00      0.00        45\n",
            "         NNS       0.35      0.08      0.13       954\n",
            "         PDT       0.00      0.00      0.00         4\n",
            "         POS       0.00      0.00      0.00       153\n",
            "         PRP       0.00      0.00      0.00       192\n",
            "        PRP$       0.00      0.00      0.00       101\n",
            "          RB       1.00      0.01      0.02       389\n",
            "         RBR       0.00      0.00      0.00        15\n",
            "         RBS       0.00      0.00      0.00         3\n",
            "          RP       0.00      0.00      0.00        33\n",
            "          TO       0.00      0.00      0.00       387\n",
            "          UH       0.00      0.00      0.00         0\n",
            "          VB       0.50      0.00      0.00       406\n",
            "         VBD       0.00      0.00      0.00       644\n",
            "         VBG       0.00      0.00      0.00       222\n",
            "         VBN       0.00      0.00      0.00       374\n",
            "         VBP       0.00      0.00      0.00       135\n",
            "         VBZ       0.00      0.00      0.00       281\n",
            "         WDT       0.00      0.00      0.00        86\n",
            "          WP       0.00      0.00      0.00        20\n",
            "         WP$       0.00      0.00      0.00         4\n",
            "         WRB       0.00      0.00      0.00        24\n",
            "\n",
            "   micro avg       0.44      0.43      0.43     13812\n",
            "   macro avg       0.15      0.10      0.09     13812\n",
            "weighted avg       0.39      0.43      0.33     13812\n",
            "\n"
          ]
        }
      ]
    },
    {
      "cell_type": "code",
      "source": [
        "print('Banned tags with support > 0')\n",
        "print(np.unique(y_pred[tf_in(y_pred, banned_tags)]))"
      ],
      "metadata": {
        "colab": {
          "base_uri": "https://localhost:8080/"
        },
        "id": "e44r6oXJUfjz",
        "outputId": "fac403db-1b85-4546-ea8f-fc90c97af0f9"
      },
      "execution_count": null,
      "outputs": [
        {
          "output_type": "stream",
          "name": "stdout",
          "text": [
            "Banned tags with support > 0\n",
            "[',' '.']\n"
          ]
        }
      ]
    },
    {
      "cell_type": "code",
      "source": [
        "fig, ax = plt.subplots(figsize=(25,15))\n",
        "labels = list(set(label_tokenizer.word_to_index.keys()).difference(['<PAD>']))\n",
        "cm = confusion_matrix(y_true, y_pred, labels=labels)\n",
        "ConfusionMatrixDisplay(cm, display_labels=labels).plot(ax=ax, cmap='Blues', xticks_rotation='vertical');"
      ],
      "metadata": {
        "colab": {
          "base_uri": "https://localhost:8080/",
          "height": 895
        },
        "id": "TiEvw1oNNuoC",
        "outputId": "61ee72d1-0256-4696-b277-6ee56a25a5b0"
      },
      "execution_count": null,
      "outputs": [
        {
          "output_type": "display_data",
          "data": {
            "text/plain": [
              "<Figure size 1800x1080 with 2 Axes>"
            ],
            "image/png": "[encoded data removed]"
          },
          "metadata": {
            "needs_background": "light"
          }
        }
      ]
    },
    {
      "cell_type": "code",
      "source": [
        "\n"
      ],
      "metadata": {
        "colab": {
          "base_uri": "https://localhost:8080/"
        },
        "id": "ZFIFrSBzBsJK",
        "outputId": "b9038bce-2bf6-43ac-db87-eae8a1b5935f"
      },
      "execution_count": null,
      "outputs": [
        {
          "output_type": "execute_result",
          "data": {
            "text/plain": [
              "['CC',\n",
              " 'CD',\n",
              " 'DT',\n",
              " 'EX',\n",
              " 'FW',\n",
              " 'IN',\n",
              " 'JJ',\n",
              " 'JJR',\n",
              " 'JJS',\n",
              " 'LS',\n",
              " 'MD',\n",
              " 'NN',\n",
              " 'NNP',\n",
              " 'NNPS',\n",
              " 'NNS',\n",
              " 'PDT',\n",
              " 'POS',\n",
              " 'PRP',\n",
              " 'PRP$',\n",
              " 'RB',\n",
              " 'RBR',\n",
              " 'RBS',\n",
              " 'RP',\n",
              " 'TO',\n",
              " 'UH',\n",
              " 'VB',\n",
              " 'VBD',\n",
              " 'VBG',\n",
              " 'VBN',\n",
              " 'VBP',\n",
              " 'VBZ',\n",
              " 'WDT',\n",
              " 'WP',\n",
              " 'WP$',\n",
              " 'WRB']"
            ]
          },
          "metadata": {},
          "execution_count": 507
        }
      ]
    },
    {
      "cell_type": "markdown",
      "source": [
        "# NOTES\n",
        "- Remove punctuation from evaluation\n",
        "- We can ignore punctuations when computing loss value, since the network does not have to learn to label them. (ASK PROFESSOR)\n",
        "\n",
        "## Further improvements\n",
        "- order sentences according to their length and batch: https://mccormickml.com/2020/07/29/smart-batching-tutorial/#introduction"
      ],
      "metadata": {
        "id": "de3OpNk3Bswf"
      }
    },
    {
      "cell_type": "code",
      "source": [],
      "metadata": {
        "id": "Flx2zI9yBsLU"
      },
      "execution_count": null,
      "outputs": []
    },
    {
      "cell_type": "markdown",
      "source": [
        "## 1. Data pipeline\n",
        "\n",
        "As outlined in the first tutorial, we need to define a proper pipeline to convert initial textual input into a numerical format that is compatible with our models.\n",
        "\n",
        "This pipeline is usually summarized as follows:\n",
        "\n",
        "*   Dataset loading\n",
        "*   Dataset pre-processing\n",
        "*   Dataset conversion\n",
        "*   Model definition\n",
        "*   Training\n",
        "*   Evaluation\n",
        "\n",
        "In this tutorial, we'll propose our solution by following above schema."
      ],
      "metadata": {
        "id": "sf3lebc9zJLk"
      }
    },
    {
      "cell_type": "markdown",
      "source": [
        "### 1.1 Dataset Loading"
      ],
      "metadata": {
        "id": "A1PeFGxZ0j87"
      }
    },
    {
      "cell_type": "code",
      "source": [
        "def read_dataset_split(dataset_folder, start, end, split:str):\n",
        "  tagged_sentences = []\n",
        "  for data_file in range(start, end+1):\n",
        "    filename = os.path.join(dataset_folder, \"wsj_%04d.dp\" % data_file)\n",
        "    with open(filename, mode='r', encoding='utf-8') as text_file:  \n",
        "      corpus = text_file.read()\n",
        "      tagged_sentences += corpus.split(\"\\n\\n\")\n",
        "\n",
        "  X = [] # store input sequence\n",
        "  Y = [] # store output sequence\n",
        "  for sentence in tqdm(tagged_sentences):\n",
        "      X_sentence = []\n",
        "      Y_sentence = []\n",
        "\n",
        "      for tagged_word in sentence.rstrip('\\n').split(\"\\n\"):       \n",
        "          entity = tagged_word.split(\"\\t\")\n",
        "          X_sentence.append(entity[0])  # entity[0] contains the word\n",
        "          Y_sentence.append(entity[1])  # entity[1] contains corresponding tag          \n",
        "      X.append(X_sentence)\n",
        "      Y.append(Y_sentence)\n",
        "\n",
        "  assert len(tagged_sentences) == len(X)\n",
        "\n",
        "  df = pd.DataFrame({'sentence':X, 'tags':Y})\n",
        "  df['split'] = split\n",
        "  return df\n",
        "\n",
        "def load_dataset(\n",
        "    dataset_name=\"dependency_treebank\",\n",
        "    splits={'train': 100, 'validation':150, 'test':199}\n",
        "    ):  \n",
        "  dataset_folder = os.path.join(os.getcwd(), dataset_name)\n",
        "  dataset = []\n",
        "  last_index = 0\n",
        "  for split, end_split in tqdm(splits.items()):\n",
        "    dataset.append(read_dataset_split(dataset_folder, last_index+1, end_split, split))\n",
        "    last_index = end_split\n",
        "\n",
        "  df = pd.concat(dataset)\n",
        "  dataframe_path = os.path.join(os.getcwd(), dataset_name + \".pkl\")\n",
        "  df.to_pickle(dataframe_path)\n",
        "  return df\n",
        "\n",
        "print(\"Loading dataset...\")\n",
        "df = load_dataset()\n",
        "print(\"Loading completed!\")\n",
        "\n",
        "df"
      ],
      "metadata": {
        "colab": {
          "base_uri": "https://localhost:8080/",
          "height": 583
        },
        "id": "9_GWLDhR0-Fz",
        "outputId": "2214532b-440c-40cc-ecc0-670f73ac6428"
      },
      "execution_count": null,
      "outputs": [
        {
          "output_type": "stream",
          "name": "stdout",
          "text": [
            "Loading dataset...\n"
          ]
        },
        {
          "output_type": "stream",
          "name": "stderr",
          "text": [
            "  0%|          | 0/3 [00:00<?, ?it/s]\n",
            "100%|██████████| 1963/1963 [00:00<00:00, 32508.08it/s]\n",
            " 33%|███▎      | 1/3 [00:00<00:00,  2.70it/s]\n",
            "100%|██████████| 1299/1299 [00:00<00:00, 15051.91it/s]\n",
            " 67%|██████▋   | 2/3 [00:00<00:00,  3.81it/s]\n",
            "100%|██████████| 652/652 [00:00<00:00, 21771.25it/s]\n",
            "100%|██████████| 3/3 [00:00<00:00,  4.23it/s]\n"
          ]
        },
        {
          "output_type": "stream",
          "name": "stdout",
          "text": [
            "Loading completed!\n"
          ]
        },
        {
          "output_type": "execute_result",
          "data": {
            "text/plain": [
              "                                              sentence  \\\n",
              "0    [Pierre, Vinken, ,, 61, years, old, ,, will, j...   \n",
              "1    [Mr., Vinken, is, chairman, of, Elsevier, N.V....   \n",
              "2    [Rudolph, Agnew, ,, 55, years, old, and, forme...   \n",
              "3    [A, form, of, asbestos, once, used, to, make, ...   \n",
              "4    [The, asbestos, fiber, ,, crocidolite, ,, is, ...   \n",
              "..                                                 ...   \n",
              "647  [They, also, said, that, more, than, a, dozen,...   \n",
              "648  [Sen., Kennedy, said, in, a, separate, stateme...   \n",
              "649  [Trinity, Industries, Inc., said, it, reached,...   \n",
              "650                   [Terms, were, n't, disclosed, .]   \n",
              "651  [Trinity, said, it, plans, to, begin, delivery...   \n",
              "\n",
              "                                                  tags  split  \n",
              "0    [NNP, NNP, ,, CD, NNS, JJ, ,, MD, VB, DT, NN, ...  train  \n",
              "1    [NNP, NNP, VBZ, NN, IN, NNP, NNP, ,, DT, NNP, ...  train  \n",
              "2    [NNP, NNP, ,, CD, NNS, JJ, CC, JJ, NN, IN, NNP...  train  \n",
              "3    [DT, NN, IN, NN, RB, VBN, TO, VB, NNP, NN, NNS...  train  \n",
              "4    [DT, NN, NN, ,, NN, ,, VBZ, RB, JJ, IN, PRP, V...  train  \n",
              "..                                                 ...    ...  \n",
              "647  [PRP, RB, VBD, IN, JJR, IN, DT, NN, NNS, VBP, ...   test  \n",
              "648  [NNP, NNP, VBD, IN, DT, JJ, NN, IN, PRP, VBZ, ...   test  \n",
              "649  [NNP, NNPS, NNP, VBD, PRP, VBD, DT, JJ, NN, TO...   test  \n",
              "650                             [NNS, VBD, RB, VBN, .]   test  \n",
              "651  [NNP, VBD, PRP, VBZ, TO, VB, NN, IN, DT, JJ, N...   test  \n",
              "\n",
              "[3914 rows x 3 columns]"
            ],
            "text/html": [
              "\n",
              "  <div id=\"df-6f9f57cd-f512-4791-90ec-6cc303360827\">\n",
              "    <div class=\"colab-df-container\">\n",
              "      <div>\n",
              "<style scoped>\n",
              "    .dataframe tbody tr th:only-of-type {\n",
              "        vertical-align: middle;\n",
              "    }\n",
              "\n",
              "    .dataframe tbody tr th {\n",
              "        vertical-align: top;\n",
              "    }\n",
              "\n",
              "    .dataframe thead th {\n",
              "        text-align: right;\n",
              "    }\n",
              "</style>\n",
              "<table border=\"1\" class=\"dataframe\">\n",
              "  <thead>\n",
              "    <tr style=\"text-align: right;\">\n",
              "      <th></th>\n",
              "      <th>sentence</th>\n",
              "      <th>tags</th>\n",
              "      <th>split</th>\n",
              "    </tr>\n",
              "  </thead>\n",
              "  <tbody>\n",
              "    <tr>\n",
              "      <th>0</th>\n",
              "      <td>[Pierre, Vinken, ,, 61, years, old, ,, will, j...</td>\n",
              "      <td>[NNP, NNP, ,, CD, NNS, JJ, ,, MD, VB, DT, NN, ...</td>\n",
              "      <td>train</td>\n",
              "    </tr>\n",
              "    <tr>\n",
              "      <th>1</th>\n",
              "      <td>[Mr., Vinken, is, chairman, of, Elsevier, N.V....</td>\n",
              "      <td>[NNP, NNP, VBZ, NN, IN, NNP, NNP, ,, DT, NNP, ...</td>\n",
              "      <td>train</td>\n",
              "    </tr>\n",
              "    <tr>\n",
              "      <th>2</th>\n",
              "      <td>[Rudolph, Agnew, ,, 55, years, old, and, forme...</td>\n",
              "      <td>[NNP, NNP, ,, CD, NNS, JJ, CC, JJ, NN, IN, NNP...</td>\n",
              "      <td>train</td>\n",
              "    </tr>\n",
              "    <tr>\n",
              "      <th>3</th>\n",
              "      <td>[A, form, of, asbestos, once, used, to, make, ...</td>\n",
              "      <td>[DT, NN, IN, NN, RB, VBN, TO, VB, NNP, NN, NNS...</td>\n",
              "      <td>train</td>\n",
              "    </tr>\n",
              "    <tr>\n",
              "      <th>4</th>\n",
              "      <td>[The, asbestos, fiber, ,, crocidolite, ,, is, ...</td>\n",
              "      <td>[DT, NN, NN, ,, NN, ,, VBZ, RB, JJ, IN, PRP, V...</td>\n",
              "      <td>train</td>\n",
              "    </tr>\n",
              "    <tr>\n",
              "      <th>...</th>\n",
              "      <td>...</td>\n",
              "      <td>...</td>\n",
              "      <td>...</td>\n",
              "    </tr>\n",
              "    <tr>\n",
              "      <th>647</th>\n",
              "      <td>[They, also, said, that, more, than, a, dozen,...</td>\n",
              "      <td>[PRP, RB, VBD, IN, JJR, IN, DT, NN, NNS, VBP, ...</td>\n",
              "      <td>test</td>\n",
              "    </tr>\n",
              "    <tr>\n",
              "      <th>648</th>\n",
              "      <td>[Sen., Kennedy, said, in, a, separate, stateme...</td>\n",
              "      <td>[NNP, NNP, VBD, IN, DT, JJ, NN, IN, PRP, VBZ, ...</td>\n",
              "      <td>test</td>\n",
              "    </tr>\n",
              "    <tr>\n",
              "      <th>649</th>\n",
              "      <td>[Trinity, Industries, Inc., said, it, reached,...</td>\n",
              "      <td>[NNP, NNPS, NNP, VBD, PRP, VBD, DT, JJ, NN, TO...</td>\n",
              "      <td>test</td>\n",
              "    </tr>\n",
              "    <tr>\n",
              "      <th>650</th>\n",
              "      <td>[Terms, were, n't, disclosed, .]</td>\n",
              "      <td>[NNS, VBD, RB, VBN, .]</td>\n",
              "      <td>test</td>\n",
              "    </tr>\n",
              "    <tr>\n",
              "      <th>651</th>\n",
              "      <td>[Trinity, said, it, plans, to, begin, delivery...</td>\n",
              "      <td>[NNP, VBD, PRP, VBZ, TO, VB, NN, IN, DT, JJ, N...</td>\n",
              "      <td>test</td>\n",
              "    </tr>\n",
              "  </tbody>\n",
              "</table>\n",
              "<p>3914 rows × 3 columns</p>\n",
              "</div>\n",
              "      <button class=\"colab-df-convert\" onclick=\"convertToInteractive('df-6f9f57cd-f512-4791-90ec-6cc303360827')\"\n",
              "              title=\"Convert this dataframe to an interactive table.\"\n",
              "              style=\"display:none;\">\n",
              "        \n",
              "  <svg xmlns=\"http://www.w3.org/2000/svg\" height=\"24px\"viewBox=\"0 0 24 24\"\n",
              "       width=\"24px\">\n",
              "    <path d=\"M0 0h24v24H0V0z\" fill=\"none\"/>\n",
              "    <path d=\"M18.56 5.44l.94 2.06.94-2.06 2.06-.94-2.06-.94-.94-2.06-.94 2.06-2.06.94zm-11 1L8.5 8.5l.94-2.06 2.06-.94-2.06-.94L8.5 2.5l-.94 2.06-2.06.94zm10 10l.94 2.06.94-2.06 2.06-.94-2.06-.94-.94-2.06-.94 2.06-2.06.94z\"/><path d=\"M17.41 7.96l-1.37-1.37c-.4-.4-.92-.59-1.43-.59-.52 0-1.04.2-1.43.59L10.3 9.45l-7.72 7.72c-.78.78-.78 2.05 0 2.83L4 21.41c.39.39.9.59 1.41.59.51 0 1.02-.2 1.41-.59l7.78-7.78 2.81-2.81c.8-.78.8-2.07 0-2.86zM5.41 20L4 18.59l7.72-7.72 1.47 1.35L5.41 20z\"/>\n",
              "  </svg>\n",
              "      </button>\n",
              "      \n",
              "  <style>\n",
              "    .colab-df-container {\n",
              "      display:flex;\n",
              "      flex-wrap:wrap;\n",
              "      gap: 12px;\n",
              "    }\n",
              "\n",
              "    .colab-df-convert {\n",
              "      background-color: #E8F0FE;\n",
              "      border: none;\n",
              "      border-radius: 50%;\n",
              "      cursor: pointer;\n",
              "      display: none;\n",
              "      fill: #1967D2;\n",
              "      height: 32px;\n",
              "      padding: 0 0 0 0;\n",
              "      width: 32px;\n",
              "    }\n",
              "\n",
              "    .colab-df-convert:hover {\n",
              "      background-color: #E2EBFA;\n",
              "      box-shadow: 0px 1px 2px rgba(60, 64, 67, 0.3), 0px 1px 3px 1px rgba(60, 64, 67, 0.15);\n",
              "      fill: #174EA6;\n",
              "    }\n",
              "\n",
              "    [theme=dark] .colab-df-convert {\n",
              "      background-color: #3B4455;\n",
              "      fill: #D2E3FC;\n",
              "    }\n",
              "\n",
              "    [theme=dark] .colab-df-convert:hover {\n",
              "      background-color: #434B5C;\n",
              "      box-shadow: 0px 1px 3px 1px rgba(0, 0, 0, 0.15);\n",
              "      filter: drop-shadow(0px 1px 2px rgba(0, 0, 0, 0.3));\n",
              "      fill: #FFFFFF;\n",
              "    }\n",
              "  </style>\n",
              "\n",
              "      <script>\n",
              "        const buttonEl =\n",
              "          document.querySelector('#df-6f9f57cd-f512-4791-90ec-6cc303360827 button.colab-df-convert');\n",
              "        buttonEl.style.display =\n",
              "          google.colab.kernel.accessAllowed ? 'block' : 'none';\n",
              "\n",
              "        async function convertToInteractive(key) {\n",
              "          const element = document.querySelector('#df-6f9f57cd-f512-4791-90ec-6cc303360827');\n",
              "          const dataTable =\n",
              "            await google.colab.kernel.invokeFunction('convertToInteractive',\n",
              "                                                     [key], {});\n",
              "          if (!dataTable) return;\n",
              "\n",
              "          const docLinkHtml = 'Like what you see? Visit the ' +\n",
              "            '<a target=\"_blank\" href=https://colab.research.google.com/notebooks/data_table.ipynb>data table notebook</a>'\n",
              "            + ' to learn more about interactive tables.';\n",
              "          element.innerHTML = '';\n",
              "          dataTable['output_type'] = 'display_data';\n",
              "          await google.colab.output.renderOutput(dataTable, element);\n",
              "          const docLink = document.createElement('div');\n",
              "          docLink.innerHTML = docLinkHtml;\n",
              "          element.appendChild(docLink);\n",
              "        }\n",
              "      </script>\n",
              "    </div>\n",
              "  </div>\n",
              "  "
            ]
          },
          "metadata": {},
          "execution_count": 7
        }
      ]
    },
    {
      "cell_type": "markdown",
      "source": [
        "### 1.2 Dataset preprocessing"
      ],
      "metadata": {
        "id": "bRLk9PQU5F5v"
      }
    },
    {
      "cell_type": "code",
      "source": [
        "def word_prepare(word: str):\n",
        "  return word\n",
        "\n",
        "df['sentence'] = df['sentence'].apply(lambda words: [word_prepare(word) for word in words])\n",
        "df"
      ],
      "metadata": {
        "colab": {
          "base_uri": "https://localhost:8080/",
          "height": 423
        },
        "id": "ni3yFXm24tj0",
        "outputId": "3b972160-a608-43ec-a4e2-83b09debc89d"
      },
      "execution_count": null,
      "outputs": [
        {
          "output_type": "execute_result",
          "data": {
            "text/plain": [
              "                                              sentence  \\\n",
              "0    [Pierre, Vinken, ,, 61, years, old, ,, will, j...   \n",
              "1    [Mr., Vinken, is, chairman, of, Elsevier, N.V....   \n",
              "2    [Rudolph, Agnew, ,, 55, years, old, and, forme...   \n",
              "3    [A, form, of, asbestos, once, used, to, make, ...   \n",
              "4    [The, asbestos, fiber, ,, crocidolite, ,, is, ...   \n",
              "..                                                 ...   \n",
              "647  [They, also, said, that, more, than, a, dozen,...   \n",
              "648  [Sen., Kennedy, said, in, a, separate, stateme...   \n",
              "649  [Trinity, Industries, Inc., said, it, reached,...   \n",
              "650                   [Terms, were, n't, disclosed, .]   \n",
              "651  [Trinity, said, it, plans, to, begin, delivery...   \n",
              "\n",
              "                                                  tags  split  \n",
              "0    [NNP, NNP, ,, CD, NNS, JJ, ,, MD, VB, DT, NN, ...  train  \n",
              "1    [NNP, NNP, VBZ, NN, IN, NNP, NNP, ,, DT, NNP, ...  train  \n",
              "2    [NNP, NNP, ,, CD, NNS, JJ, CC, JJ, NN, IN, NNP...  train  \n",
              "3    [DT, NN, IN, NN, RB, VBN, TO, VB, NNP, NN, NNS...  train  \n",
              "4    [DT, NN, NN, ,, NN, ,, VBZ, RB, JJ, IN, PRP, V...  train  \n",
              "..                                                 ...    ...  \n",
              "647  [PRP, RB, VBD, IN, JJR, IN, DT, NN, NNS, VBP, ...   test  \n",
              "648  [NNP, NNP, VBD, IN, DT, JJ, NN, IN, PRP, VBZ, ...   test  \n",
              "649  [NNP, NNPS, NNP, VBD, PRP, VBD, DT, JJ, NN, TO...   test  \n",
              "650                             [NNS, VBD, RB, VBN, .]   test  \n",
              "651  [NNP, VBD, PRP, VBZ, TO, VB, NN, IN, DT, JJ, N...   test  \n",
              "\n",
              "[3914 rows x 3 columns]"
            ],
            "text/html": [
              "\n",
              "  <div id=\"df-00247d5f-48e0-4280-82db-e8a414f73b8a\">\n",
              "    <div class=\"colab-df-container\">\n",
              "      <div>\n",
              "<style scoped>\n",
              "    .dataframe tbody tr th:only-of-type {\n",
              "        vertical-align: middle;\n",
              "    }\n",
              "\n",
              "    .dataframe tbody tr th {\n",
              "        vertical-align: top;\n",
              "    }\n",
              "\n",
              "    .dataframe thead th {\n",
              "        text-align: right;\n",
              "    }\n",
              "</style>\n",
              "<table border=\"1\" class=\"dataframe\">\n",
              "  <thead>\n",
              "    <tr style=\"text-align: right;\">\n",
              "      <th></th>\n",
              "      <th>sentence</th>\n",
              "      <th>tags</th>\n",
              "      <th>split</th>\n",
              "    </tr>\n",
              "  </thead>\n",
              "  <tbody>\n",
              "    <tr>\n",
              "      <th>0</th>\n",
              "      <td>[Pierre, Vinken, ,, 61, years, old, ,, will, j...</td>\n",
              "      <td>[NNP, NNP, ,, CD, NNS, JJ, ,, MD, VB, DT, NN, ...</td>\n",
              "      <td>train</td>\n",
              "    </tr>\n",
              "    <tr>\n",
              "      <th>1</th>\n",
              "      <td>[Mr., Vinken, is, chairman, of, Elsevier, N.V....</td>\n",
              "      <td>[NNP, NNP, VBZ, NN, IN, NNP, NNP, ,, DT, NNP, ...</td>\n",
              "      <td>train</td>\n",
              "    </tr>\n",
              "    <tr>\n",
              "      <th>2</th>\n",
              "      <td>[Rudolph, Agnew, ,, 55, years, old, and, forme...</td>\n",
              "      <td>[NNP, NNP, ,, CD, NNS, JJ, CC, JJ, NN, IN, NNP...</td>\n",
              "      <td>train</td>\n",
              "    </tr>\n",
              "    <tr>\n",
              "      <th>3</th>\n",
              "      <td>[A, form, of, asbestos, once, used, to, make, ...</td>\n",
              "      <td>[DT, NN, IN, NN, RB, VBN, TO, VB, NNP, NN, NNS...</td>\n",
              "      <td>train</td>\n",
              "    </tr>\n",
              "    <tr>\n",
              "      <th>4</th>\n",
              "      <td>[The, asbestos, fiber, ,, crocidolite, ,, is, ...</td>\n",
              "      <td>[DT, NN, NN, ,, NN, ,, VBZ, RB, JJ, IN, PRP, V...</td>\n",
              "      <td>train</td>\n",
              "    </tr>\n",
              "    <tr>\n",
              "      <th>...</th>\n",
              "      <td>...</td>\n",
              "      <td>...</td>\n",
              "      <td>...</td>\n",
              "    </tr>\n",
              "    <tr>\n",
              "      <th>647</th>\n",
              "      <td>[They, also, said, that, more, than, a, dozen,...</td>\n",
              "      <td>[PRP, RB, VBD, IN, JJR, IN, DT, NN, NNS, VBP, ...</td>\n",
              "      <td>test</td>\n",
              "    </tr>\n",
              "    <tr>\n",
              "      <th>648</th>\n",
              "      <td>[Sen., Kennedy, said, in, a, separate, stateme...</td>\n",
              "      <td>[NNP, NNP, VBD, IN, DT, JJ, NN, IN, PRP, VBZ, ...</td>\n",
              "      <td>test</td>\n",
              "    </tr>\n",
              "    <tr>\n",
              "      <th>649</th>\n",
              "      <td>[Trinity, Industries, Inc., said, it, reached,...</td>\n",
              "      <td>[NNP, NNPS, NNP, VBD, PRP, VBD, DT, JJ, NN, TO...</td>\n",
              "      <td>test</td>\n",
              "    </tr>\n",
              "    <tr>\n",
              "      <th>650</th>\n",
              "      <td>[Terms, were, n't, disclosed, .]</td>\n",
              "      <td>[NNS, VBD, RB, VBN, .]</td>\n",
              "      <td>test</td>\n",
              "    </tr>\n",
              "    <tr>\n",
              "      <th>651</th>\n",
              "      <td>[Trinity, said, it, plans, to, begin, delivery...</td>\n",
              "      <td>[NNP, VBD, PRP, VBZ, TO, VB, NN, IN, DT, JJ, N...</td>\n",
              "      <td>test</td>\n",
              "    </tr>\n",
              "  </tbody>\n",
              "</table>\n",
              "<p>3914 rows × 3 columns</p>\n",
              "</div>\n",
              "      <button class=\"colab-df-convert\" onclick=\"convertToInteractive('df-00247d5f-48e0-4280-82db-e8a414f73b8a')\"\n",
              "              title=\"Convert this dataframe to an interactive table.\"\n",
              "              style=\"display:none;\">\n",
              "        \n",
              "  <svg xmlns=\"http://www.w3.org/2000/svg\" height=\"24px\"viewBox=\"0 0 24 24\"\n",
              "       width=\"24px\">\n",
              "    <path d=\"M0 0h24v24H0V0z\" fill=\"none\"/>\n",
              "    <path d=\"M18.56 5.44l.94 2.06.94-2.06 2.06-.94-2.06-.94-.94-2.06-.94 2.06-2.06.94zm-11 1L8.5 8.5l.94-2.06 2.06-.94-2.06-.94L8.5 2.5l-.94 2.06-2.06.94zm10 10l.94 2.06.94-2.06 2.06-.94-2.06-.94-.94-2.06-.94 2.06-2.06.94z\"/><path d=\"M17.41 7.96l-1.37-1.37c-.4-.4-.92-.59-1.43-.59-.52 0-1.04.2-1.43.59L10.3 9.45l-7.72 7.72c-.78.78-.78 2.05 0 2.83L4 21.41c.39.39.9.59 1.41.59.51 0 1.02-.2 1.41-.59l7.78-7.78 2.81-2.81c.8-.78.8-2.07 0-2.86zM5.41 20L4 18.59l7.72-7.72 1.47 1.35L5.41 20z\"/>\n",
              "  </svg>\n",
              "      </button>\n",
              "      \n",
              "  <style>\n",
              "    .colab-df-container {\n",
              "      display:flex;\n",
              "      flex-wrap:wrap;\n",
              "      gap: 12px;\n",
              "    }\n",
              "\n",
              "    .colab-df-convert {\n",
              "      background-color: #E8F0FE;\n",
              "      border: none;\n",
              "      border-radius: 50%;\n",
              "      cursor: pointer;\n",
              "      display: none;\n",
              "      fill: #1967D2;\n",
              "      height: 32px;\n",
              "      padding: 0 0 0 0;\n",
              "      width: 32px;\n",
              "    }\n",
              "\n",
              "    .colab-df-convert:hover {\n",
              "      background-color: #E2EBFA;\n",
              "      box-shadow: 0px 1px 2px rgba(60, 64, 67, 0.3), 0px 1px 3px 1px rgba(60, 64, 67, 0.15);\n",
              "      fill: #174EA6;\n",
              "    }\n",
              "\n",
              "    [theme=dark] .colab-df-convert {\n",
              "      background-color: #3B4455;\n",
              "      fill: #D2E3FC;\n",
              "    }\n",
              "\n",
              "    [theme=dark] .colab-df-convert:hover {\n",
              "      background-color: #434B5C;\n",
              "      box-shadow: 0px 1px 3px 1px rgba(0, 0, 0, 0.15);\n",
              "      filter: drop-shadow(0px 1px 2px rgba(0, 0, 0, 0.3));\n",
              "      fill: #FFFFFF;\n",
              "    }\n",
              "  </style>\n",
              "\n",
              "      <script>\n",
              "        const buttonEl =\n",
              "          document.querySelector('#df-00247d5f-48e0-4280-82db-e8a414f73b8a button.colab-df-convert');\n",
              "        buttonEl.style.display =\n",
              "          google.colab.kernel.accessAllowed ? 'block' : 'none';\n",
              "\n",
              "        async function convertToInteractive(key) {\n",
              "          const element = document.querySelector('#df-00247d5f-48e0-4280-82db-e8a414f73b8a');\n",
              "          const dataTable =\n",
              "            await google.colab.kernel.invokeFunction('convertToInteractive',\n",
              "                                                     [key], {});\n",
              "          if (!dataTable) return;\n",
              "\n",
              "          const docLinkHtml = 'Like what you see? Visit the ' +\n",
              "            '<a target=\"_blank\" href=https://colab.research.google.com/notebooks/data_table.ipynb>data table notebook</a>'\n",
              "            + ' to learn more about interactive tables.';\n",
              "          element.innerHTML = '';\n",
              "          dataTable['output_type'] = 'display_data';\n",
              "          await google.colab.output.renderOutput(dataTable, element);\n",
              "          const docLink = document.createElement('div');\n",
              "          docLink.innerHTML = docLinkHtml;\n",
              "          element.appendChild(docLink);\n",
              "        }\n",
              "      </script>\n",
              "    </div>\n",
              "  </div>\n",
              "  "
            ]
          },
          "metadata": {},
          "execution_count": 8
        }
      ]
    },
    {
      "cell_type": "markdown",
      "source": [
        "### 1.3 Data splitting"
      ],
      "metadata": {
        "id": "9c40HcwE69O3"
      }
    },
    {
      "cell_type": "code",
      "source": [
        "train_data = df[df['split'] == 'train']\n",
        "val_data = df[df['split'] == 'validation']\n",
        "test_data = df[df['split'] == 'test']\n",
        "\n",
        "print('Dataset splits statistics: ')\n",
        "print(f'Train data: {train_data.shape}')\n",
        "print(f'Validation data: {val_data.shape}')\n",
        "print(f'Test data: {test_data.shape}')"
      ],
      "metadata": {
        "colab": {
          "base_uri": "https://localhost:8080/"
        },
        "id": "Axc5IMxG63V2",
        "outputId": "4485ab01-d6ce-445c-bff0-a9cd23877d08"
      },
      "execution_count": null,
      "outputs": [
        {
          "output_type": "stream",
          "name": "stdout",
          "text": [
            "Dataset splits statistics: \n",
            "Train data: (1963, 3)\n",
            "Validation data: (1299, 3)\n",
            "Test data: (652, 3)\n"
          ]
        }
      ]
    },
    {
      "cell_type": "markdown",
      "source": [
        "### 1.4 Data Conversion"
      ],
      "metadata": {
        "id": "TybYM8RvBbg0"
      }
    },
    {
      "cell_type": "code",
      "source": [
        "import gensim\n",
        "import gensim.downloader as gloader\n",
        "\n",
        "def load_embedding_model(model_type: str='glove', embedding_dimension: int = 50) -> gensim.models.keyedvectors.KeyedVectors:\n",
        "    \"\"\"\n",
        "    Loads a pre-trained word embedding model via gensim library.\n",
        "\n",
        "    :param model_type: name of the word embedding model to load.\n",
        "    :param embedding_dimension: size of the embedding space to consider\n",
        "\n",
        "    :return\n",
        "        - pre-trained word embedding model (gensim KeyedVectors object)\n",
        "    \"\"\"\n",
        "    download_path = \"\"\n",
        "    if model_type.strip().lower() == 'word2vec':\n",
        "        download_path = \"word2vec-google-news-300\"\n",
        "\n",
        "    elif model_type.strip().lower() == 'glove':\n",
        "        download_path = \"glove-wiki-gigaword-{}\".format(embedding_dimension)\n",
        "    elif model_type.strip().lower() == 'fasttext':\n",
        "        download_path = \"fasttext-wiki-news-subwords-300\"\n",
        "    else:\n",
        "        raise AttributeError(\"Unsupported embedding model type! Available ones: word2vec, glove, fasttext\")\n",
        "        \n",
        "    try:\n",
        "        emb_model = gloader.load(download_path)\n",
        "    except ValueError as e:\n",
        "        print(\"Invalid embedding model name! Check the embedding dimension:\")\n",
        "        print(\"Word2Vec: 300\")\n",
        "        print(\"Glove: 50, 100, 200, 300\")\n",
        "        print('FastText: 300')\n",
        "        raise e\n",
        "\n",
        "    return emb_model"
      ],
      "metadata": {
        "id": "G6Wq-vWg8Kl4"
      },
      "execution_count": null,
      "outputs": []
    },
    {
      "cell_type": "code",
      "source": [
        "class Tokenizer:\n",
        "  def __init__(self, vocabulary=None, padding='<PAD>'):\n",
        "    \"\"\"\n",
        "    Transform a set of sentences in a set of indices.\n",
        "    The order of enumeration respects the order of the set of sentences used in the fit_on_texts method.\n",
        "    \"\"\"\n",
        "    self.word_to_index = {padding: 0}\n",
        "    self.idx_to_word = {0: padding}\n",
        "    self.__idx = 1\n",
        "\n",
        "    if vocabulary:\n",
        "      self.update_vocabulary(vocabulary)\n",
        "\n",
        "  def get_oov_terms(self, words):\n",
        "    \"\"\"\n",
        "    Checks differences between pre-trained embedding model vocabulary\n",
        "    and dataset specific vocabulary in order to highlight out-of-vocabulary terms.\n",
        "\n",
        "    :param embedding_model: pre-trained word embedding model (gensim wrapper)\n",
        "    :param word_listing: dataset specific vocabulary (list)\n",
        "\n",
        "    :return\n",
        "        - list of OOV terms\n",
        "    \"\"\"\n",
        "    words_in_vocabulary = set(self.word_to_index.keys())\n",
        "    oov = set(words).difference(words_in_vocabulary)\n",
        "    return list(oov)\n",
        "\n",
        "  def update_vocabulary(self, sentences, verbose=True):\n",
        "    \"\"\"\n",
        "    Update the vocabulary by looking at the list of sentences in input\n",
        "    \"\"\"\n",
        "    \n",
        "    words = set(token for tokens in sentences for token in tokens)\n",
        "    oov_terms = self.get_oov_terms(words)\n",
        "\n",
        "    old_len = len(self.word_to_index)\n",
        "    self.__expand_vocabulary(oov_terms)\n",
        "\n",
        "    if verbose:\n",
        "      oov_percentage = float(len(oov_terms)) * 100 / len(words)\n",
        "      print(f\"Total OOV terms: {len(oov_terms)} ({oov_percentage:.2f}%)\")\n",
        "\n",
        "      print(\"Vocabulary length before expansion:\", old_len)\n",
        "      print(\"Vocabulary length after expansion:\", len(self.word_to_index))\n",
        "\n",
        "    return oov_terms\n",
        "\n",
        "  def __expand_vocabulary(self, oov_terms: Iterable[str]):\n",
        "    for term in oov_terms:\n",
        "      self.word_to_index[term] = self.__idx\n",
        "      self.idx_to_word[self.__idx] = term\n",
        "      self.__idx += 1\n",
        "\n",
        "  def texts_to_sequences(self, sentences) -> List[List[int]]:\n",
        "    \"\"\"\n",
        "    Transform a list of sentences in a list of sequences, according to the current vocabulary\n",
        "    \"\"\"\n",
        "    return list(map(self.text_to_sequence, sentences))\n",
        "\n",
        "  def text_to_sequence(self, sentence) -> List[int]:\n",
        "    return list(map(lambda token: self.word_to_index[token], sentence))\n",
        "\n",
        "  def sequences_to_texts(self, sequences):\n",
        "    \"\"\"\n",
        "    Transform a list of sequences in a list of sentences, according to the current vocabulary\n",
        "    \"\"\"\n",
        "    return list(map(self.sequence_to_text, sequences))\n",
        "  \n",
        "  def sequence_to_text(self, sequence):\n",
        "    return list(map(lambda idx: self.idx_to_word[idx], sequence))\n",
        "\n",
        "class EmbeddingMatrix():\n",
        "  def __init__(self,\n",
        "               embedding_model: gensim.models.keyedvectors.KeyedVectors,\n",
        "               embedding_dimension,\n",
        "               word_to_idx: Dict[str, int],\n",
        "               oov_vector_factory = None) -> None:\n",
        "    \"\"\"\n",
        "    Builds the embedding matrix of a specific dataset given a pre-trained word embedding model\n",
        "\n",
        "    :param embedding_model: pre-trained word embedding model (gensim wrapper)\n",
        "    :param embedding_dimension: dimension of the vectors in the embedding space\n",
        "    :param word_to_idx: vocabulary map (word -> index) (dict)\n",
        "    \"\"\"\n",
        "    self.oov_vector_factory = oov_vector_factory if oov_vector_factory else lambda: np.random.uniform(low=-0.05, high=0.05, size=embedding_dimension)\n",
        "\n",
        "    vocab_size = len(word_to_idx)\n",
        "    self.embedding_matrix = np.zeros((vocab_size, embedding_dimension), dtype=np.float32)\n",
        "\n",
        "    for word, idx in tqdm(word_to_idx.items()):\n",
        "      if word in embedding_model:\n",
        "        embedding_vector = embedding_model[word]\n",
        "      else:\n",
        "        embedding_vector = self.oov_vector_factory()\n",
        "\n",
        "      self.embedding_matrix[idx] = embedding_vector\n",
        "\n",
        "  def update_matrix(self, word_to_idx: Dict[str, int]):\n",
        "    old_vocab_size = len(self.embedding_matrix)\n",
        "    vocab_size = len(word_to_idx)\n",
        "    embedding_dimension = self.embedding_matrix.shape[1]\n",
        "\n",
        "    self.embedding_matrix.resize((vocab_size, embedding_dimension))\n",
        "    for word, idx in tqdm(word_to_idx.items()):\n",
        "      if idx > old_vocab_size -1:\n",
        "        self.embedding_matrix[idx] = self.oov_vector_factory()\n",
        "\n",
        "  def as_numpy(self):\n",
        "    return self.embedding_matrix\n",
        "\n",
        "def add_oov(dataset, dataset_name: str):\n",
        "  print()\n",
        "  print(f'Adding {dataset_name} vocabulary ...')\n",
        "  tokenizer.update_vocabulary(dataset.sentence)\n",
        "  embedding_matrix.update_matrix(tokenizer.word_to_index)"
      ],
      "metadata": {
        "id": "bkYcHAy4Alu3"
      },
      "execution_count": null,
      "outputs": []
    },
    {
      "cell_type": "code",
      "source": [
        "embedding_dimension=50\n",
        "\n",
        "embedding_model = load_embedding_model(model_type=\"glove\", embedding_dimension=embedding_dimension)\n",
        "tokenizer = Tokenizer([embedding_model.vocab.keys()])\n",
        "embedding_matrix = EmbeddingMatrix(embedding_model, embedding_dimension, tokenizer.word_to_index)\n",
        "\n",
        "add_oov(train_data, 'training set')\n",
        "add_oov(val_data, 'validation set')\n",
        "add_oov(test_data, 'test set')\n",
        "\n",
        "print('\\n')\n",
        "print('Shape of the embedding matrix', embedding_matrix.as_numpy().shape)"
      ],
      "metadata": {
        "colab": {
          "base_uri": "https://localhost:8080/"
        },
        "id": "2mWfsGu3Apel",
        "outputId": "6a17974d-9a88-4702-a8c7-c0687ce6129b"
      },
      "execution_count": null,
      "outputs": [
        {
          "output_type": "stream",
          "name": "stdout",
          "text": [
            "Total OOV terms: 400000 (100.00%)\n",
            "Vocabulary length before expansion: 1\n",
            "Vocabulary length after expansion: 400001\n"
          ]
        },
        {
          "output_type": "stream",
          "name": "stderr",
          "text": [
            "100%|██████████| 400001/400001 [00:01<00:00, 255142.74it/s]\n"
          ]
        },
        {
          "output_type": "stream",
          "name": "stdout",
          "text": [
            "\n",
            "Adding training set vocabulary ...\n",
            "Total OOV terms: 2346 (29.29%)\n",
            "Vocabulary length before expansion: 400001\n",
            "Vocabulary length after expansion: 402347\n"
          ]
        },
        {
          "output_type": "stream",
          "name": "stderr",
          "text": [
            "100%|██████████| 402347/402347 [00:00<00:00, 1620392.27it/s]\n"
          ]
        },
        {
          "output_type": "stream",
          "name": "stdout",
          "text": [
            "\n",
            "Adding validation set vocabulary ...\n",
            "Total OOV terms: 944 (16.02%)\n",
            "Vocabulary length before expansion: 402347\n",
            "Vocabulary length after expansion: 403291\n"
          ]
        },
        {
          "output_type": "stream",
          "name": "stderr",
          "text": [
            "100%|██████████| 403291/403291 [00:00<00:00, 1587186.58it/s]\n"
          ]
        },
        {
          "output_type": "stream",
          "name": "stdout",
          "text": [
            "\n",
            "Adding test set vocabulary ...\n",
            "Total OOV terms: 455 (12.56%)\n",
            "Vocabulary length before expansion: 403291\n",
            "Vocabulary length after expansion: 403746\n"
          ]
        },
        {
          "output_type": "stream",
          "name": "stderr",
          "text": [
            "100%|██████████| 403746/403746 [00:00<00:00, 1669879.81it/s]"
          ]
        },
        {
          "output_type": "stream",
          "name": "stdout",
          "text": [
            "\n",
            "\n",
            "Shape of the embedding matrix (403746, 50)\n"
          ]
        },
        {
          "output_type": "stream",
          "name": "stderr",
          "text": [
            "\n"
          ]
        }
      ]
    },
    {
      "cell_type": "code",
      "source": [
        "class TagsEncoder:\n",
        "  def __init__(self, tags: List[List[str]]) -> None:\n",
        "    self.label_tokenizer = Tokenizer()\n",
        "    self.label_tokenizer.update_vocabulary(tags, verbose=False)\n",
        "    self.output_dimension = len(self.label_tokenizer.idx_to_word)\n",
        "  \n",
        "  def texts_to_ids(self, tags: List[List[str]]) -> List[List[int]]:\n",
        "    return self.label_tokenizer.texts_to_sequences(tags)\n",
        "  \n",
        "  def ids_to_categorical(self, encoded_tags: List[List[int]]):\n",
        "    return ks.utils.to_categorical(encoded_tags, num_classes=self.output_dimension)\n",
        "\n",
        "  def categorical_to_ids(self, one_hot_tags: List[List[List[int]]]) -> np.ndarray:\n",
        "    return np.argmax(one_hot_tags, axis=-1)\n",
        "\n",
        "  def ids_to_texts(self, encoded_tags: List[List[int]]) -> List[List[str]]:\n",
        "    return self.label_tokenizer.sequences_to_texts(encoded_tags)\n",
        "\n",
        "def pad(sentences: tf.RaggedTensor, tags: tf.RaggedTensor):\n",
        "  sentences = sentences.to_tensor(default_value=0)\n",
        "  tags = tags.to_tensor(default_value=0)\n",
        "\n",
        "  return sentences, tags\n",
        "\n",
        "def create_dataloader(dataset, tokenizer, tags_encoder, batch_size=32, training=True):\n",
        "  # one_hot_encoding = functools.partial(tags_encoder.ids_to_categorical)\n",
        "\n",
        "  encoded_sentences = tokenizer.texts_to_sequences(dataset.sentence)\n",
        "  encoded_tags = tags_encoder.texts_to_ids(dataset.tags)\n",
        "\n",
        "  # convert list of list to raggedTensor, i.e. tensor with non-uniform shape\n",
        "  encoded_sentences = tf.ragged.constant(encoded_sentences)\n",
        "  encoded_tags = tf.ragged.constant(encoded_tags)\n",
        "\n",
        "  dataset = (\n",
        "      tf.data.Dataset.from_tensor_slices((encoded_sentences, encoded_tags))\n",
        "      .prefetch(buffer_size=tf.data.AUTOTUNE))\n",
        "  \n",
        "  if training:\n",
        "    dataset = dataset.shuffle(buffer_size=2048)\n",
        "\n",
        "  dataset = (\n",
        "      dataset.shuffle(buffer_size=2048)\n",
        "      .batch(batch_size, num_parallel_calls=tf.data.AUTOTUNE)\n",
        "      .map(pad, num_parallel_calls=tf.data.AUTOTUNE)\n",
        "      .map(lambda sentences, tags: (sentences, tf.one_hot(tags, depth=tags_encoder.output_dimension)),\n",
        "           num_parallel_calls=tf.data.AUTOTUNE)\n",
        "      )\n",
        "  \n",
        "  return dataset\n",
        "\n",
        "tags_encoder = TagsEncoder(df.tags.values)\n",
        "assert tags_encoder.output_dimension == len(np.unique([tag for sentence in df.tags for tag in sentence])) + 1\n",
        "dataloader = create_dataloader(train_data, tokenizer, tags_encoder)"
      ],
      "metadata": {
        "id": "xExtN3xrEvLp"
      },
      "execution_count": null,
      "outputs": []
    },
    {
      "cell_type": "code",
      "source": [
        "batched_text, batched_tags = next(dataloader.take(1).as_numpy_iterator())\n",
        "text = batched_text[0]\n",
        "tags = batched_tags[0]\n",
        "\n",
        "print('Encoded text:', text.shape)\n",
        "print(text)\n",
        "print('One hot encoded tags:', tags.shape)\n",
        "print(tags)"
      ],
      "metadata": {
        "colab": {
          "base_uri": "https://localhost:8080/"
        },
        "id": "ehv76YQucwQL",
        "outputId": "75f5758e-3831-48d0-cebe-172c3074a9b8"
      },
      "execution_count": null,
      "outputs": [
        {
          "output_type": "stream",
          "name": "stdout",
          "text": [
            "Encoded text: (63,)\n",
            "[401925 341448 283268 201932 269423 401079 283268 127991 208549 128577\n",
            " 298519 175862 247168  88920      0      0      0      0      0      0\n",
            "      0      0      0      0      0      0      0      0      0      0\n",
            "      0      0      0      0      0      0      0      0      0      0\n",
            "      0      0      0      0      0      0      0      0      0      0\n",
            "      0      0      0      0      0      0      0      0      0      0\n",
            "      0      0      0]\n",
            "One hot encoded tags: (63, 46)\n",
            "[[0. 0. 0. ... 0. 0. 0.]\n",
            " [0. 0. 0. ... 0. 0. 0.]\n",
            " [0. 0. 0. ... 0. 0. 0.]\n",
            " ...\n",
            " [1. 0. 0. ... 0. 0. 0.]\n",
            " [1. 0. 0. ... 0. 0. 0.]\n",
            " [1. 0. 0. ... 0. 0. 0.]]\n"
          ]
        }
      ]
    },
    {
      "cell_type": "markdown",
      "source": [
        "### 1.5 Model Definition"
      ],
      "metadata": {
        "id": "Fv2zYFUdeUlD"
      }
    },
    {
      "cell_type": "code",
      "source": [
        "def create_model(embedding_weights, n_labels, compile_info):\n",
        "  inputs = ks.layers.Input(shape=(None, ))\n",
        "  x = ks.layers.Embedding(*embedding_weights.shape, weights=[embedding_weights],\n",
        "                          mask_zero=True, trainable=False)(inputs)\n",
        "  x = ks.layers.Bidirectional(ks.layers.LSTM(units=64, return_sequences=True))(x)\n",
        "  x = ks.layers.TimeDistributed(ks.layers.Dense(n_labels, activation='softmax'))(x)\n",
        "\n",
        "  model = ks.models.Model(inputs, x)\n",
        "  model.summary()\n",
        "  model.compile(**compile_info)\n",
        "\n",
        "  return model\n",
        "\n",
        "embedding_weights = embedding_matrix.as_numpy()"
      ],
      "metadata": {
        "id": "otNX4iFxdyif"
      },
      "execution_count": null,
      "outputs": []
    },
    {
      "cell_type": "code",
      "source": [
        "compile_info = {\n",
        "    'optimizer': ks.optimizers.Adam(learning_rate=1e-3),\n",
        "    'loss': 'categorical_crossentropy',\n",
        "    'metrics': ['accuracy'],\n",
        "}\n",
        "model = create_model(embedding_weights, n_labels=tags_encoder.output_dimension, compile_info=compile_info)"
      ],
      "metadata": {
        "colab": {
          "base_uri": "https://localhost:8080/"
        },
        "id": "sWtOZtF9h6aV",
        "outputId": "34673d16-d2cc-4f80-b11d-4ac69cd3193e"
      },
      "execution_count": null,
      "outputs": [
        {
          "output_type": "stream",
          "name": "stdout",
          "text": [
            "Model: \"model_2\"\n",
            "_________________________________________________________________\n",
            " Layer (type)                Output Shape              Param #   \n",
            "=================================================================\n",
            " input_3 (InputLayer)        [(None, None)]            0         \n",
            "                                                                 \n",
            " embedding_2 (Embedding)     (None, None, 50)          20187300  \n",
            "                                                                 \n",
            " bidirectional_2 (Bidirectio  (None, None, 128)        58880     \n",
            " nal)                                                            \n",
            "                                                                 \n",
            " time_distributed_2 (TimeDis  (None, None, 46)         5934      \n",
            " tributed)                                                       \n",
            "                                                                 \n",
            "=================================================================\n",
            "Total params: 20,252,114\n",
            "Trainable params: 64,814\n",
            "Non-trainable params: 20,187,300\n",
            "_________________________________________________________________\n"
          ]
        }
      ]
    },
    {
      "cell_type": "markdown",
      "source": [
        "### 1.6 Training"
      ],
      "metadata": {
        "id": "e07YwMl6ih5O"
      }
    },
    {
      "cell_type": "code",
      "source": [
        "def show_history(history: ks.callbacks.History):\n",
        "    \"\"\"\n",
        "    Shows training history data stored by the History Keras callback\n",
        "\n",
        "    :param history: History Keras callback\n",
        "    \"\"\"\n",
        "    history_data = history.history\n",
        "    print(f\"Displaying the following history keys: {history_data.keys()}\")\n",
        "\n",
        "    for key, value in history_data.items():\n",
        "        if not key.startswith('val'):\n",
        "            fig, ax = plt.subplots(1, 1)\n",
        "            ax.set_title(key)\n",
        "            ax.plot(value)\n",
        "            if f'val_{key}' in history_data:\n",
        "                ax.plot(history_data[f'val_{key}'])\n",
        "            else:\n",
        "                print(f\"Couldn't find validation values for metric: {key}\")\n",
        "\n",
        "            ax.set_ylabel(key)\n",
        "            ax.set_xlabel('epoch')\n",
        "            ax.legend(['train', 'val'], loc='best')\n",
        "    plt.show()"
      ],
      "metadata": {
        "id": "DgR-DQaFiJvp"
      },
      "execution_count": null,
      "outputs": []
    },
    {
      "cell_type": "code",
      "source": [
        "def train_model(model: ks.Model,\n",
        "                train_data: tf.data.Dataset,\n",
        "                val_data: tf.data.Dataset,\n",
        "                training_info: Dict,\n",
        "                show=True):\n",
        "    \"\"\"\n",
        "    Training routine for the Keras model.\n",
        "    At the end of the training, retrieved History data is shown.\n",
        "\n",
        "    :param model: Keras built model\n",
        "    :param train_data: training data\n",
        "    :param val_data: validation data\n",
        "    :param training_info: dictionary storing model fit() argument information\n",
        "\n",
        "    :return\n",
        "        model: trained Keras model\n",
        "    \"\"\"\n",
        "    print(f\"Start training! \\nParameters: {training_info}\")\n",
        "    history = model.fit(x=train_data,\n",
        "                        validation_data=val_data,\n",
        "                        **training_info)\n",
        "    print(\"Training completed!\")\n",
        "\n",
        "    if show:\n",
        "        print(\"Showing history...\")\n",
        "        show_history(history)\n",
        "\n",
        "    return model"
      ],
      "metadata": {
        "id": "PooXzyZAioi_"
      },
      "execution_count": null,
      "outputs": []
    },
    {
      "cell_type": "code",
      "source": [
        "training_info = {\n",
        "    'verbose': 1,\n",
        "    'epochs': 5,\n",
        "    'batch_size': 64,\n",
        "}\n",
        "\n",
        "train_dataloader = create_dataloader(train_data, tokenizer, tags_encoder, batch_size=training_info['batch_size'])\n",
        "val_dataloader = create_dataloader(val_data, tokenizer, tags_encoder, batch_size=training_info['batch_size'])\n",
        "model = train_model(model=model, train_data=train_dataloader, val_data=val_dataloader, training_info=training_info)"
      ],
      "metadata": {
        "colab": {
          "base_uri": "https://localhost:8080/",
          "height": 859
        },
        "id": "l8vo8vlYjb7X",
        "outputId": "0e38543a-2565-4331-d07d-9ae1dc5469bf"
      },
      "execution_count": null,
      "outputs": [
        {
          "output_type": "stream",
          "name": "stdout",
          "text": [
            "Start training! \n",
            "Parameters: {'verbose': 1, 'epochs': 5, 'batch_size': 64}\n",
            "Epoch 1/5\n",
            "31/31 [==============================] - 5s 167ms/step - loss: 0.8697 - accuracy: 0.4918 - val_loss: 0.9032 - val_accuracy: 0.5228\n",
            "Epoch 2/5\n",
            "31/31 [==============================] - 5s 171ms/step - loss: 0.7037 - accuracy: 0.5657 - val_loss: 0.7408 - val_accuracy: 0.5869\n",
            "Epoch 3/5\n",
            "31/31 [==============================] - 5s 176ms/step - loss: 0.5879 - accuracy: 0.6332 - val_loss: 0.6328 - val_accuracy: 0.6444\n",
            "Epoch 4/5\n",
            "31/31 [==============================] - 6s 203ms/step - loss: 0.5051 - accuracy: 0.6828 - val_loss: 0.5788 - val_accuracy: 0.6795\n",
            "Epoch 5/5\n",
            "31/31 [==============================] - 7s 242ms/step - loss: 0.4686 - accuracy: 0.7149 - val_loss: 0.5396 - val_accuracy: 0.7072\n",
            "Training completed!\n",
            "Showing history...\n",
            "Displaying the following history keys: dict_keys(['loss', 'accuracy', 'val_loss', 'val_accuracy'])\n"
          ]
        },
        {
          "output_type": "display_data",
          "data": {
            "text/plain": [
              "<Figure size 432x288 with 1 Axes>"
            ],
            "image/png": "[encoded data removed]"
          },
          "metadata": {
            "needs_background": "light"
          }
        },
        {
          "output_type": "display_data",
          "data": {
            "text/plain": [
              "<Figure size 432x288 with 1 Axes>"
            ],
            "image/png": "[encoded data removed]"
          },
          "metadata": {
            "needs_background": "light"
          }
        }
      ]
    },
    {
      "cell_type": "markdown",
      "source": [
        "### 1.7 Evaluation"
      ],
      "metadata": {
        "id": "4InNe8CBkpSt"
      }
    },
    {
      "cell_type": "code",
      "source": [
        "test_loader = create_dataloader(test_data, tokenizer, tags_encoder, training=False)\n",
        "r = model.predict(test_loader)"
      ],
      "metadata": {
        "colab": {
          "base_uri": "https://localhost:8080/"
        },
        "id": "rjwBzaXFostS",
        "outputId": "8c297958-d3ff-4e85-b9aa-50ed6c03f90a"
      },
      "execution_count": null,
      "outputs": [
        {
          "output_type": "stream",
          "name": "stdout",
          "text": [
            "21/21 [==============================] - 1s 47ms/step\n"
          ]
        }
      ]
    },
    {
      "cell_type": "code",
      "source": [
        "max_length = max(len(tokens) for tokens in test_data.sentence)\n",
        "predictions = r.to_tensor(default_value=0)\n",
        "assert len(predictions) == len(test_data)\n",
        "assert predictions.shape[1] == max_length\n",
        "\n",
        "encoded_tags = tags_encoder.categorical_to_ids(predictions.numpy())\n",
        "assert predictions.shape[:2] == encoded_tags.shape"
      ],
      "metadata": {
        "colab": {
          "base_uri": "https://localhost:8080/"
        },
        "id": "LM2hfrsfo9fG",
        "outputId": "9154266a-ad3b-46e7-e76b-585d237cd6dc"
      },
      "execution_count": null,
      "outputs": [
        {
          "output_type": "stream",
          "name": "stdout",
          "text": [
            "(652, 58)\n"
          ]
        },
        {
          "output_type": "execute_result",
          "data": {
            "text/plain": [
              "array([[19, 25, 15, ...,  0,  0,  0],\n",
              "       [24,  9, 30, ...,  0,  0,  0],\n",
              "       [19, 19,  3, ...,  0,  0,  0],\n",
              "       ...,\n",
              "       [19, 25, 15, ...,  0,  0,  0],\n",
              "       [32, 17, 33, ...,  0,  0,  0],\n",
              "       [32, 32, 24, ...,  0,  0,  0]])"
            ]
          },
          "metadata": {},
          "execution_count": 136
        }
      ]
    },
    {
      "cell_type": "code",
      "source": [
        "def predict_data(model: ks.Model,\n",
        "                 x: tf.data.Dataset,\n",
        "                 prediction_info: Dict) -> tf.RaggedTensor:\n",
        "    \"\"\"\n",
        "    Inference routine of a given input set of examples\n",
        "\n",
        "    :param model: Keras built and possibly trained model\n",
        "    :param x: input set of examples\n",
        "    :param prediction_info: dictionary storing model predict() argument information\n",
        "\n",
        "    :return\n",
        "        predictions: predicted labels\n",
        "    \"\"\"\n",
        "    print(f'Starting prediction: \\n{prediction_info}')\n",
        "    print(f'Predicting on {x.shape[0]} samples')\n",
        "\n",
        "    predictions = model.predict(x, **prediction_info)\n",
        "    return predictions\n",
        "\n",
        "def predictions_to_ids(predictions: tf.RaggedTensor):\n",
        "    max_length = max(len(tokens) for tokens in test_data.sentence)\n",
        "    predictions = predictions.to_tensor(default_value=0)\n",
        "    assert predictions.shape[1] == max_length\n",
        "\n",
        "    encoded_tags = tags_encoder.categorical_to_ids(predictions.numpy())\n",
        "    assert predictions.shape[:2] == encoded_tags.shape\n",
        "\n",
        "    return encoded_tags\n",
        "\n",
        "# TP BE FINISHED\n",
        "def evaluate(model, dataset: pd.DataFrame, metric, banned_tags):\n",
        "  # # TODO: remove punctuation\n",
        "  # sentences, tags = preprocessing(dataset)\n",
        "  # y_pred = predict(model, sentences).reshape(-1)\n",
        "\n",
        "  # padding_mask = compute_padding_mask(tags)\n",
        "  # padding_mask = np.reshape(padding_mask, -1)  \n",
        "  # assert len(padding_mask) == len(y_pred), f'{len(padding_mask)} != {len(y_pred)}'\n",
        "\n",
        "  # y_true = test_set.tags.explode().to_numpy()\n",
        "  # y_pred = y_pred[padding_mask]\n",
        "  # assert y_pred.shape == y_true.shape, f'{y_pred.shape} != {y_true.shape}'\n",
        "\n",
        "  # mask = compute_mask(y_true, banned_tags)\n",
        "  # assert len(mask) == len(y_true), f'{len(mask)} != {len(y_true)}'\n",
        "  # assert len(mask) == len(y_pred), f'{len(mask)} != {len(y_pred)}'\n",
        "\n",
        "  # y_true = y_true[mask]\n",
        "  # y_pred = y_pred[mask]\n",
        "  # assert y_pred.shape == y_true.shape, f'{y_pred.shape} != {y_true.shape}'\n",
        "\n",
        "  # return y_true, y_pred, metric(y_true, y_pred)\n",
        "  \n",
        "def evaluate_predictions(y_pred: np.ndarray,\n",
        "                         y_true: np.ndarray,\n",
        "                         metrics: List[Callable],\n",
        "                         metric_names: List[str],\n",
        "                         banned_tags: List[str]):\n",
        "    \"\"\"\n",
        "    Evaluates given model predictions on a list of metric functions\n",
        "\n",
        "    :param predictions: model predictions\n",
        "    :param y: ground-truth labels in np.ndarray format\n",
        "    :param metrics: list of metric functions\n",
        "    :param metric_names: list of metric names\n",
        "\n",
        "    :return\n",
        "        metric_info: dictionary containing metric values for each input metric\n",
        "    \"\"\"\n",
        "    assert len(metrics) == len(metric_names)\n",
        "    print(f\"Evaluating predictions! Total samples: {y.shape[0]}\")\n",
        "\n",
        "    metric_info = {}\n",
        "    for metric, metric_name in zip(metrics, metric_names):\n",
        "        metric_value = metric(y_pred=predictions, y_true=y)\n",
        "        metric_info[metric_name] = metric_value\n",
        "\n",
        "    return metric_info"
      ],
      "metadata": {
        "id": "Q4_clboxkKcC"
      },
      "execution_count": null,
      "outputs": []
    },
    {
      "cell_type": "code",
      "source": [
        "# Inference\n",
        "prediction_info = {\n",
        "    'batch_size': 64,\n",
        "    'verbose': 1\n",
        "}\n",
        "\n",
        "# Evaluation\n",
        "metrics = [\n",
        "    accuracy_score,\n",
        "    partial(f1_score, pos_label=1, average='binary')\n",
        "]\n",
        "metric_names = [\n",
        "    \"accuracy\",\n",
        "    \"binary_f1\"\n",
        "]\n",
        "\n",
        "test_loader = create_dataloader(test_data, tokenizer, tags_encoder, training=False)\n",
        "test_predictions = predict_data(model=model, x=test_loader, prediction_info=prediction_info)\n",
        "assert len(test_predictions) == len(test_data)\n",
        "\n",
        "test_predictions = predictions_to_ids(test_predictions)\n",
        "\n",
        "metric_info = evaluate_predictions(predictions=test_predictions,\n",
        "                                   y=y_test,\n",
        "                                   metrics=metrics,\n",
        "                                   metric_names=metric_names)\n",
        "\n",
        "print(f'Metrics info: \\n{metric_info}')"
      ],
      "metadata": {
        "id": "uT4rJfhrjcDn"
      },
      "execution_count": null,
      "outputs": []
    },
    {
      "cell_type": "code",
      "source": [
        "batch_size=128\n",
        "epochs = 3\n",
        "\n",
        "train_ds = create_dataloader(train_data, preprocessing, batch_size=batch_size)\n",
        "val_ds = create_dataloader(val_data, preprocessing, batch_size=batch_size)\n",
        "\n",
        "model.compile(loss='categorical_crossentropy', optimizer='adam', metrics=['accuracy'])\n",
        "history = model.fit(train_ds, validation_data=val_ds, epochs=epochs)"
      ],
      "metadata": {
        "colab": {
          "base_uri": "https://localhost:8080/",
          "height": 239
        },
        "id": "lr_653KkfgP7",
        "outputId": "10e860e5-3de3-4939-eedc-5bb26ea42a9f"
      },
      "execution_count": null,
      "outputs": [
        {
          "output_type": "error",
          "ename": "NameError",
          "evalue": "ignored",
          "traceback": [
            "\u001b[0;31m---------------------------------------------------------------------------\u001b[0m",
            "\u001b[0;31mNameError\u001b[0m                                 Traceback (most recent call last)",
            "\u001b[0;32m<ipython-input-95-46dada4eb11d>\u001b[0m in \u001b[0;36m<module>\u001b[0;34m\u001b[0m\n\u001b[1;32m      2\u001b[0m \u001b[0mepochs\u001b[0m \u001b[0;34m=\u001b[0m \u001b[0;36m3\u001b[0m\u001b[0;34m\u001b[0m\u001b[0;34m\u001b[0m\u001b[0m\n\u001b[1;32m      3\u001b[0m \u001b[0;34m\u001b[0m\u001b[0m\n\u001b[0;32m----> 4\u001b[0;31m \u001b[0mtrain_ds\u001b[0m \u001b[0;34m=\u001b[0m \u001b[0mcreate_dataloader\u001b[0m\u001b[0;34m(\u001b[0m\u001b[0mtrain_set\u001b[0m\u001b[0;34m,\u001b[0m \u001b[0mpreprocessing\u001b[0m\u001b[0;34m,\u001b[0m \u001b[0mbatch_size\u001b[0m\u001b[0;34m=\u001b[0m\u001b[0mbatch_size\u001b[0m\u001b[0;34m)\u001b[0m\u001b[0;34m\u001b[0m\u001b[0;34m\u001b[0m\u001b[0m\n\u001b[0m\u001b[1;32m      5\u001b[0m \u001b[0mval_ds\u001b[0m \u001b[0;34m=\u001b[0m \u001b[0mcreate_dataloader\u001b[0m\u001b[0;34m(\u001b[0m\u001b[0mval_set\u001b[0m\u001b[0;34m,\u001b[0m \u001b[0mpreprocessing\u001b[0m\u001b[0;34m,\u001b[0m \u001b[0mbatch_size\u001b[0m\u001b[0;34m=\u001b[0m\u001b[0mbatch_size\u001b[0m\u001b[0;34m)\u001b[0m\u001b[0;34m\u001b[0m\u001b[0;34m\u001b[0m\u001b[0m\n\u001b[1;32m      6\u001b[0m \u001b[0;34m\u001b[0m\u001b[0m\n",
            "\u001b[0;31mNameError\u001b[0m: name 'train_set' is not defined"
          ]
        }
      ]
    },
    {
      "cell_type": "code",
      "source": [],
      "metadata": {
        "id": "FbKRlLLagpjG"
      },
      "execution_count": null,
      "outputs": []
    }
  ]
}